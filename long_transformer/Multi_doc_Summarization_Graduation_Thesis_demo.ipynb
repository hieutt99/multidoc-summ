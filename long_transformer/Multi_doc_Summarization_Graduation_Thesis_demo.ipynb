{
  "cells": [
    {
      "cell_type": "markdown",
      "metadata": {
        "id": "aZgsc7VJJXkJ"
      },
      "source": [
        "# Mount"
      ]
    },
    {
      "cell_type": "code",
      "execution_count": null,
      "metadata": {
        "id": "jnU8w_X1JRH3"
      },
      "outputs": [],
      "source": [
        "from google.colab import drive\n",
        "drive.mount('/content/gdrive')"
      ]
    },
    {
      "cell_type": "code",
      "execution_count": null,
      "metadata": {
        "id": "pt3ZlZtHJXD-"
      },
      "outputs": [],
      "source": [
        "! ls /content/gdrive/MyDrive/__projects"
      ]
    },
    {
      "cell_type": "markdown",
      "source": [
        "# repo"
      ],
      "metadata": {
        "id": "ZCCUEnHMqpKe"
      }
    },
    {
      "cell_type": "code",
      "source": [
        "! git clone https://github.com/hieutt99/multidoc-summ"
      ],
      "metadata": {
        "colab": {
          "base_uri": "https://localhost:8080/"
        },
        "id": "a1FSdS2iqwhk",
        "outputId": "39319829-8229-4ce6-efba-ff1851e6e10e"
      },
      "execution_count": 1,
      "outputs": [
        {
          "output_type": "stream",
          "name": "stdout",
          "text": [
            "Cloning into 'multidoc-summ'...\n",
            "remote: Enumerating objects: 1624, done.\u001b[K\n",
            "remote: Counting objects: 100% (415/415), done.\u001b[K\n",
            "remote: Compressing objects: 100% (266/266), done.\u001b[K\n",
            "remote: Total 1624 (delta 327), reused 229 (delta 148), pack-reused 1209\u001b[K\n",
            "Receiving objects: 100% (1624/1624), 1.27 MiB | 15.45 MiB/s, done.\n",
            "Resolving deltas: 100% (1228/1228), done.\n"
          ]
        }
      ]
    },
    {
      "cell_type": "code",
      "source": [
        "! cp -r ./multidoc-summ/long_transformer ./long_transformer"
      ],
      "metadata": {
        "id": "izuWsIPeq0lA"
      },
      "execution_count": 2,
      "outputs": []
    },
    {
      "cell_type": "code",
      "source": [
        "%cd long_transformer"
      ],
      "metadata": {
        "colab": {
          "base_uri": "https://localhost:8080/"
        },
        "id": "opb1fKvdq3-n",
        "outputId": "60d363d9-ac7b-4d92-bab7-1dad436fb095"
      },
      "execution_count": 3,
      "outputs": [
        {
          "output_type": "stream",
          "name": "stdout",
          "text": [
            "/content/long_transformer\n"
          ]
        }
      ]
    },
    {
      "cell_type": "code",
      "source": [
        "%%capture \n",
        "! pip install tensorboardX\n",
        "! pip install pyrouge\n",
        "! pip install transformers\n",
        "! pip install ruamel.yaml\n",
        "! pip install pyyaml==5.4.1\n",
        "! pip install pytorch_transformers"
      ],
      "metadata": {
        "id": "M1hDT-jAq7z_"
      },
      "execution_count": 4,
      "outputs": []
    },
    {
      "cell_type": "code",
      "source": [
        "# https://drive.google.com/file/d/12kFikfAfP1MOWR3brSqthWwzFft4qpuo/view?usp=sharing\n",
        "! gdown --id 12kFikfAfP1MOWR3brSqthWwzFft4qpuo"
      ],
      "metadata": {
        "colab": {
          "base_uri": "https://localhost:8080/"
        },
        "id": "L6-J4j6GqqrL",
        "outputId": "0e6c6175-b39e-4be7-b63d-661356795284"
      },
      "execution_count": 5,
      "outputs": [
        {
          "output_type": "stream",
          "name": "stdout",
          "text": [
            "/usr/local/lib/python3.7/dist-packages/gdown/cli.py:131: FutureWarning: Option `--id` was deprecated in version 4.3.1 and will be removed in 5.0. You don't need to pass it anymore to use a file ID.\n",
            "  category=FutureWarning,\n",
            "Downloading...\n",
            "From: https://drive.google.com/uc?id=12kFikfAfP1MOWR3brSqthWwzFft4qpuo\n",
            "To: /content/long_transformer/led_abs_model.pt\n",
            "100% 2.12G/2.12G [00:35<00:00, 59.3MB/s]\n"
          ]
        }
      ]
    },
    {
      "cell_type": "code",
      "source": [
        "! mv led_abs_model.pt ./saved_models/led_abs_model\n",
        "! ls ./saved_models/led_abs_model"
      ],
      "metadata": {
        "colab": {
          "base_uri": "https://localhost:8080/"
        },
        "id": "2dRKwcjxrI_j",
        "outputId": "d9d0cdac-52d5-4814-8d4c-7dfcee9e7d28"
      },
      "execution_count": 6,
      "outputs": [
        {
          "output_type": "stream",
          "name": "stdout",
          "text": [
            "./saved_models/led_abs_model\n"
          ]
        }
      ]
    },
    {
      "cell_type": "markdown",
      "metadata": {
        "id": "5yff0FJoJiQH"
      },
      "source": [
        "# Setup"
      ]
    },
    {
      "cell_type": "code",
      "execution_count": 7,
      "metadata": {
        "id": "v7dtZslAI_6T",
        "colab": {
          "base_uri": "https://localhost:8080/"
        },
        "outputId": "389ff012-9899-4a7b-fe3c-fb0039a9e97a"
      },
      "outputs": [
        {
          "output_type": "stream",
          "name": "stdout",
          "text": [
            "Looking in indexes: https://pypi.org/simple, https://us-python.pkg.dev/colab-wheels/public/simple/\n",
            "Collecting jsonlines\n",
            "  Downloading jsonlines-3.1.0-py3-none-any.whl (8.6 kB)\n",
            "Requirement already satisfied: typing-extensions in /usr/local/lib/python3.7/dist-packages (from jsonlines) (4.1.1)\n",
            "Requirement already satisfied: attrs>=19.2.0 in /usr/local/lib/python3.7/dist-packages (from jsonlines) (22.1.0)\n",
            "Installing collected packages: jsonlines\n",
            "Successfully installed jsonlines-3.1.0\n"
          ]
        }
      ],
      "source": [
        "! pip install jsonlines"
      ]
    },
    {
      "cell_type": "code",
      "execution_count": 8,
      "metadata": {
        "id": "Vxc0TYwZZ6_j",
        "colab": {
          "base_uri": "https://localhost:8080/"
        },
        "outputId": "efc2da74-22b9-48a5-9410-d587926fc42b"
      },
      "outputs": [
        {
          "output_type": "stream",
          "name": "stdout",
          "text": [
            "Looking in indexes: https://pypi.org/simple, https://us-python.pkg.dev/colab-wheels/public/simple/\n",
            "Collecting stanza\n",
            "  Downloading stanza-1.4.0-py3-none-any.whl (574 kB)\n",
            "\u001b[K     |████████████████████████████████| 574 kB 15.1 MB/s \n",
            "\u001b[?25hRequirement already satisfied: tqdm in /usr/local/lib/python3.7/dist-packages (from stanza) (4.64.0)\n",
            "Requirement already satisfied: requests in /usr/local/lib/python3.7/dist-packages (from stanza) (2.23.0)\n",
            "Requirement already satisfied: protobuf in /usr/local/lib/python3.7/dist-packages (from stanza) (3.17.3)\n",
            "Requirement already satisfied: transformers in /usr/local/lib/python3.7/dist-packages (from stanza) (4.21.1)\n",
            "Requirement already satisfied: six in /usr/local/lib/python3.7/dist-packages (from stanza) (1.15.0)\n",
            "Collecting emoji\n",
            "  Downloading emoji-2.0.0.tar.gz (197 kB)\n",
            "\u001b[K     |████████████████████████████████| 197 kB 72.5 MB/s \n",
            "\u001b[?25hRequirement already satisfied: numpy in /usr/local/lib/python3.7/dist-packages (from stanza) (1.21.6)\n",
            "Requirement already satisfied: torch>=1.3.0 in /usr/local/lib/python3.7/dist-packages (from stanza) (1.12.0+cu113)\n",
            "Requirement already satisfied: typing-extensions in /usr/local/lib/python3.7/dist-packages (from torch>=1.3.0->stanza) (4.1.1)\n",
            "Requirement already satisfied: idna<3,>=2.5 in /usr/local/lib/python3.7/dist-packages (from requests->stanza) (2.10)\n",
            "Requirement already satisfied: chardet<4,>=3.0.2 in /usr/local/lib/python3.7/dist-packages (from requests->stanza) (3.0.4)\n",
            "Requirement already satisfied: certifi>=2017.4.17 in /usr/local/lib/python3.7/dist-packages (from requests->stanza) (2022.6.15)\n",
            "Requirement already satisfied: urllib3!=1.25.0,!=1.25.1,<1.26,>=1.21.1 in /usr/local/lib/python3.7/dist-packages (from requests->stanza) (1.25.11)\n",
            "Requirement already satisfied: huggingface-hub<1.0,>=0.1.0 in /usr/local/lib/python3.7/dist-packages (from transformers->stanza) (0.8.1)\n",
            "Requirement already satisfied: pyyaml>=5.1 in /usr/local/lib/python3.7/dist-packages (from transformers->stanza) (5.4.1)\n",
            "Requirement already satisfied: tokenizers!=0.11.3,<0.13,>=0.11.1 in /usr/local/lib/python3.7/dist-packages (from transformers->stanza) (0.12.1)\n",
            "Requirement already satisfied: packaging>=20.0 in /usr/local/lib/python3.7/dist-packages (from transformers->stanza) (21.3)\n",
            "Requirement already satisfied: filelock in /usr/local/lib/python3.7/dist-packages (from transformers->stanza) (3.7.1)\n",
            "Requirement already satisfied: importlib-metadata in /usr/local/lib/python3.7/dist-packages (from transformers->stanza) (4.12.0)\n",
            "Requirement already satisfied: regex!=2019.12.17 in /usr/local/lib/python3.7/dist-packages (from transformers->stanza) (2022.6.2)\n",
            "Requirement already satisfied: pyparsing!=3.0.5,>=2.0.2 in /usr/local/lib/python3.7/dist-packages (from packaging>=20.0->transformers->stanza) (3.0.9)\n",
            "Requirement already satisfied: zipp>=0.5 in /usr/local/lib/python3.7/dist-packages (from importlib-metadata->transformers->stanza) (3.8.1)\n",
            "Building wheels for collected packages: emoji\n",
            "  Building wheel for emoji (setup.py) ... \u001b[?25l\u001b[?25hdone\n",
            "  Created wheel for emoji: filename=emoji-2.0.0-py3-none-any.whl size=193022 sha256=73d596a1539ae3d861e8c8dec2410d2284364fcf5b2028df459bc3826f5e7bba\n",
            "  Stored in directory: /root/.cache/pip/wheels/ec/29/4d/3cfe7452ac7d8d83b1930f8a6205c3c9649b24e80f9029fc38\n",
            "Successfully built emoji\n",
            "Installing collected packages: emoji, stanza\n",
            "Successfully installed emoji-2.0.0 stanza-1.4.0\n"
          ]
        }
      ],
      "source": [
        "! pip install stanza"
      ]
    },
    {
      "cell_type": "code",
      "execution_count": 9,
      "metadata": {
        "id": "XjTIOwv7YfuL"
      },
      "outputs": [],
      "source": [
        "%%capture\n",
        "! pip install tqdm"
      ]
    },
    {
      "cell_type": "code",
      "execution_count": 10,
      "metadata": {
        "id": "TRdSSKgjOxLn"
      },
      "outputs": [],
      "source": [
        "import os, sys\n",
        "import json\n",
        "from tqdm.auto import tqdm \n",
        "import re\n",
        "import glob\n",
        "import shutil"
      ]
    },
    {
      "cell_type": "code",
      "execution_count": 11,
      "metadata": {
        "id": "nR0c7Ua5xVZ8"
      },
      "outputs": [],
      "source": [
        "from copy import deepcopy\n",
        "import jsonlines\n",
        "\n",
        "import gc \n",
        "gc.collect()\n",
        "import matplotlib.pyplot as plt\n",
        "%matplotlib inline"
      ]
    },
    {
      "cell_type": "markdown",
      "metadata": {
        "id": "Lg6JLRQtY9gT"
      },
      "source": [
        "# Utils\n",
        "- read_txt\n",
        "- write_txt \n",
        "- write_json \n",
        "- read_json\n",
        "- chunk_data"
      ]
    },
    {
      "cell_type": "code",
      "execution_count": 12,
      "metadata": {
        "id": "xQxELNRaZAjD"
      },
      "outputs": [],
      "source": [
        "def read_txt(path, read_line=True):\n",
        "    data = []\n",
        "    with open(path, 'r', encoding='utf-8') as fp:\n",
        "        if read_line:\n",
        "            data = fp.readlines()\n",
        "        else:\n",
        "            data = fp.read()\n",
        "    return data\n",
        "def write_txt(data, path):\n",
        "    with open(path, 'w', encoding='utf-8') as fp:\n",
        "        fp.write(data)\n",
        "    return True"
      ]
    },
    {
      "cell_type": "code",
      "execution_count": 13,
      "metadata": {
        "id": "dbuhtoY5xwEH"
      },
      "outputs": [],
      "source": [
        "def write_json(data, path):\n",
        "    with open(path, 'w', encoding='utf-8') as fp:\n",
        "        json.dump(data, fp)\n",
        "\n",
        "def read_json(path):\n",
        "    with open(path, 'r', encoding='utf-8') as fp:\n",
        "        data = json.load(fp)\n",
        "    return data"
      ]
    },
    {
      "cell_type": "code",
      "execution_count": 14,
      "metadata": {
        "id": "_OS8gRhYNVzx"
      },
      "outputs": [],
      "source": [
        "def chunk_data(l, n):\n",
        "    for i in range(0, len(l), n):\n",
        "        yield (l[i:i+n])"
      ]
    },
    {
      "cell_type": "markdown",
      "metadata": {
        "id": "Z5VaaH4Ychqc"
      },
      "source": [
        "## setup stanza stanford core nlp for text tokenize"
      ]
    },
    {
      "cell_type": "code",
      "execution_count": 15,
      "metadata": {
        "id": "Cm4axE90aBb0",
        "colab": {
          "base_uri": "https://localhost:8080/",
          "height": 104,
          "referenced_widgets": [
            "93c1ef7447c74913ad58bfa9b71c1c03",
            "5d1efca3e1a64b60ad4df8d08735201d",
            "a07ca387dc8f4ccf84182463e228ef9e",
            "a005ceaf38934211990489e90221964c",
            "95cb58f51d12483facfb41038e2c8515",
            "37be2cfb72ec405b9c36664de696d505",
            "1236213bc43945938ff902153f273524",
            "4508d538fc92481e8cc008ba03eeb737",
            "f050f45ef6024a66aaf858c89d7cebe7",
            "264d13dd89594d938344a77a7321ba74",
            "620fd2ae01c746869a358ecc00d3649a"
          ]
        },
        "outputId": "7e4244eb-2573-4559-836c-52586dce8181"
      },
      "outputs": [
        {
          "output_type": "stream",
          "name": "stderr",
          "text": [
            "2022-08-08 09:06:10 INFO: Installing CoreNLP package into /content/corenlp\n"
          ]
        },
        {
          "output_type": "display_data",
          "data": {
            "text/plain": [
              "Downloading https://huggingface.co/stanfordnlp/CoreNLP/resolve/main/stanford-corenlp-latest.zip:   0%|        …"
            ],
            "application/vnd.jupyter.widget-view+json": {
              "version_major": 2,
              "version_minor": 0,
              "model_id": "93c1ef7447c74913ad58bfa9b71c1c03"
            }
          },
          "metadata": {}
        },
        {
          "output_type": "stream",
          "name": "stderr",
          "text": [
            "2022-08-08 09:06:35 WARNING: For customized installation location, please set the `CORENLP_HOME` environment variable to the location of the installation. In Unix, this is done with `export CORENLP_HOME=/content/corenlp`.\n"
          ]
        }
      ],
      "source": [
        "import stanza \n",
        "corenlp_dir = '/content/corenlp'\n",
        "stanza.install_corenlp(dir=corenlp_dir)"
      ]
    },
    {
      "cell_type": "code",
      "execution_count": 16,
      "metadata": {
        "id": "GE0M6GInbEep"
      },
      "outputs": [],
      "source": [
        "os.environ[\"CORENLP_HOME\"] = corenlp_dir"
      ]
    },
    {
      "cell_type": "code",
      "execution_count": 17,
      "metadata": {
        "id": "12XCRz0heDZL"
      },
      "outputs": [],
      "source": [
        "# client.stop()"
      ]
    },
    {
      "cell_type": "code",
      "execution_count": 18,
      "metadata": {
        "id": "vVhMf-QzamSo",
        "colab": {
          "base_uri": "https://localhost:8080/"
        },
        "outputId": "e0b5ed51-165a-4ebd-90f2-e28a20267da9"
      },
      "outputs": [
        {
          "output_type": "stream",
          "name": "stderr",
          "text": [
            "2022-08-08 09:06:35 INFO: Writing properties to tmp file: corenlp_server-02d6582822ba442a.props\n",
            "2022-08-08 09:06:35 INFO: Starting server with command: java -Xmx4G -cp /content/corenlp/* edu.stanford.nlp.pipeline.StanfordCoreNLPServer -port 9001 -timeout 60000 -threads 5 -maxCharLength 500000 -quiet True -serverProperties corenlp_server-02d6582822ba442a.props -annotators tokenize,ssplit -preload -outputFormat serialized\n"
          ]
        },
        {
          "output_type": "stream",
          "name": "stdout",
          "text": [
            "<stanza.server.client.CoreNLPClient object at 0x7f87c973ad90>\n"
          ]
        }
      ],
      "source": [
        "from stanza.server import CoreNLPClient\n",
        "\n",
        "client = CoreNLPClient(\n",
        "    annotators=['tokenize','ssplit'], \n",
        "    memory='4G', \n",
        "    endpoint='http://localhost:9001',\n",
        "    max_char_length=500000,\n",
        "    be_quiet=True)\n",
        "print(client)\n",
        "\n",
        "# # Start the background server and wait for some time\n",
        "# # Note that in practice this is totally optional, as by default the server will be started when the first annotation is performed\n",
        "client.start()\n",
        "# import time; time.sleep(10)"
      ]
    },
    {
      "cell_type": "code",
      "execution_count": 19,
      "metadata": {
        "id": "Q3XxaCz4hVrr"
      },
      "outputs": [],
      "source": [
        "# client.start()"
      ]
    },
    {
      "cell_type": "code",
      "execution_count": 20,
      "metadata": {
        "id": "QF3PLXvehPwN"
      },
      "outputs": [],
      "source": [
        "# client.stop()"
      ]
    },
    {
      "cell_type": "code",
      "execution_count": 21,
      "metadata": {
        "id": "CJaESB9pLXTe"
      },
      "outputs": [],
      "source": [
        "def scnlp_tokenize(text):\n",
        "    document = client.annotate(text)\n",
        "    tokenized = [[token.originalText for token in sent.token] for sent in document.sentence]\n",
        "    return tokenized"
      ]
    },
    {
      "cell_type": "markdown",
      "metadata": {
        "id": "pm2s2NKO80ho"
      },
      "source": [
        "## PRESET"
      ]
    },
    {
      "cell_type": "code",
      "execution_count": 22,
      "metadata": {
        "id": "Ztxnrl5vcHK2"
      },
      "outputs": [],
      "source": [
        "modes = ['train', 'valid', 'test']"
      ]
    },
    {
      "cell_type": "markdown",
      "metadata": {
        "id": "1-pXCuS7Q12p"
      },
      "source": [
        "## functions handle raw data"
      ]
    },
    {
      "cell_type": "code",
      "execution_count": 23,
      "metadata": {
        "id": "bLpvaA16OQME"
      },
      "outputs": [],
      "source": [
        "def fully_tokenize(doc):\n",
        "    '''\n",
        "    input single src doc or summary, '\\n' replaced with NEWLINE_CHAR\n",
        "    output sent tokenized and word tokenized data  \n",
        "    '''\n",
        "    split_newline = doc.split('NEWLINE_CHAR')\n",
        "    split_newline = [re.sub(' +', ' ', item) for item in split_newline]\n",
        "    split_newline = [i.strip(' ') for i in split_newline if i not in ['', ' ']]\n",
        "    tokenized = []\n",
        "    for item in split_newline:\n",
        "        tokenized.extend(scnlp_tokenize(item))\n",
        "    return tokenized"
      ]
    },
    {
      "cell_type": "code",
      "execution_count": 24,
      "metadata": {
        "id": "nmhLJgUlFG1_"
      },
      "outputs": [],
      "source": [
        "def tokenize_cluster(src_docs, tgt_doc):\n",
        "    '''\n",
        "    tokenize to json\n",
        "    '''\n",
        "    src_docs = src_docs.split('|||||')\n",
        "    src_docs = [fully_tokenize(src_doc) for src_doc in src_docs]\n",
        "    src_docs = [src_doc for src_doc in src_docs if len(src_doc)>0]\n",
        "    tgt_doc = fully_tokenize(tgt_doc)\n",
        "    return src_docs, tgt_doc"
      ]
    },
    {
      "cell_type": "code",
      "execution_count": 25,
      "metadata": {
        "id": "bi6NlgYZTdmL"
      },
      "outputs": [],
      "source": [
        "def create_txt_from_tokenized(tokenized, multi_doc=True):\n",
        "    if multi_doc:\n",
        "        joined_stories = []\n",
        "        for story in tokenized:\n",
        "            joined_story = []\n",
        "            for sent in story:\n",
        "                joined_story.append(' '.join(sent))\n",
        "            joined_story = '\\n'.join(joined_story)\n",
        "            joined_stories.append(joined_story)\n",
        "        joined_stories = '\\n|||||\\n'.join(joined_stories)\n",
        "        return joined_stories\n",
        "    else:\n",
        "        joined_story = []\n",
        "        for sent in tokenized:\n",
        "            joined_story.append(' '.join(sent))\n",
        "        return '\\n'.join(joined_story)"
      ]
    },
    {
      "cell_type": "markdown",
      "source": [
        "# tokenize data"
      ],
      "metadata": {
        "id": "zUIRAjToTmwp"
      }
    },
    {
      "cell_type": "code",
      "source": [
        "! gdown --id 186j6r1tk6_-SiaqVyZbwtpIKFZYXzl-S\n",
        "! unzip multi_news_raw.zip\n",
        "! mv raw multi_news_raw"
      ],
      "metadata": {
        "colab": {
          "base_uri": "https://localhost:8080/"
        },
        "id": "f53EPxJYTmRX",
        "outputId": "655ecae7-ffa9-48e3-f1bf-54b071f0416f"
      },
      "execution_count": 26,
      "outputs": [
        {
          "output_type": "stream",
          "name": "stdout",
          "text": [
            "/usr/local/lib/python3.7/dist-packages/gdown/cli.py:131: FutureWarning: Option `--id` was deprecated in version 4.3.1 and will be removed in 5.0. You don't need to pass it anymore to use a file ID.\n",
            "  category=FutureWarning,\n",
            "Downloading...\n",
            "From: https://drive.google.com/uc?id=186j6r1tk6_-SiaqVyZbwtpIKFZYXzl-S\n",
            "To: /content/long_transformer/multi_news_raw.zip\n",
            "100% 255M/255M [00:03<00:00, 72.1MB/s]\n",
            "Archive:  multi_news_raw.zip\n",
            "   creating: raw/\n",
            "  inflating: raw/README.md           \n",
            "  inflating: raw/test.src            \n",
            "  inflating: raw/test.tgt            \n",
            "  inflating: raw/train.src           \n",
            "  inflating: raw/train.tgt           \n",
            "  inflating: raw/val.src             \n",
            "  inflating: raw/val.tgt             \n"
          ]
        }
      ]
    },
    {
      "cell_type": "code",
      "source": [
        "! mkdir multi_news_tokenized"
      ],
      "metadata": {
        "id": "KJctZu0ubsSL"
      },
      "execution_count": 27,
      "outputs": []
    },
    {
      "cell_type": "code",
      "source": [
        "MULTI_NEWS_RAW_FOLDER = 'multi_news_raw'\n",
        "MULTI_NEWS_TOKENIZED = 'multi_news_tokenized'"
      ],
      "metadata": {
        "id": "j3f2LBgxbjcU"
      },
      "execution_count": 28,
      "outputs": []
    },
    {
      "cell_type": "code",
      "source": [
        "test_id = 4000"
      ],
      "metadata": {
        "id": "vRM-9uuegZda"
      },
      "execution_count": 186,
      "outputs": []
    },
    {
      "cell_type": "code",
      "source": [
        "mode = \"test\" # mode val la valid\n",
        "src_file = f'{mode}.src'\n",
        "tgt_file = f'{mode}.tgt'\n",
        "src_path = os.path.join(MULTI_NEWS_RAW_FOLDER, src_file)\n",
        "tgt_path = os.path.join(MULTI_NEWS_RAW_FOLDER, tgt_file)\n",
        "src_data = read_txt(src_path)\n",
        "tgt_data = read_txt(tgt_path)"
      ],
      "metadata": {
        "id": "ta6GuIl1gZXu"
      },
      "execution_count": 187,
      "outputs": []
    },
    {
      "cell_type": "code",
      "source": [
        "src_docs = src_data[test_id]\n",
        "tgt_doc = tgt_data[test_id]"
      ],
      "metadata": {
        "id": "gSutAKD7gZUm"
      },
      "execution_count": 188,
      "outputs": []
    },
    {
      "cell_type": "code",
      "source": [
        "print(src_docs)"
      ],
      "metadata": {
        "colab": {
          "base_uri": "https://localhost:8080/"
        },
        "id": "B1o-xLWYgZQY",
        "outputId": "c69c7dac-bc23-44c2-f16a-54d711f2c7ca"
      },
      "execution_count": 189,
      "outputs": [
        {
          "output_type": "stream",
          "name": "stdout",
          "text": [
            "Andrew Gillum addresses his supporters after winning the Democrat primary for governor on Tuesday, Aug. 28, 2018, in Tallahassee, Fla. (AP Photo/Steve Cannon) (Associated Press) NEWLINE_CHAR  NEWLINE_CHAR Andrew Gillum addresses his supporters after winning the Democrat primary for governor on Tuesday, Aug. 28, 2018, in Tallahassee, Fla. (AP Photo/Steve Cannon) (Associated Press) NEWLINE_CHAR  NEWLINE_CHAR TALLAHASSEE, Florida (AP) — A liberal Florida Democrat pulled off an upset victory while President Donald Trump's favored candidate cruised to an easy win Tuesday, setting up a fierce showdown for the governor's mansion in the nation's largest political battleground. NEWLINE_CHAR  NEWLINE_CHAR Tallahassee Mayor Andrew Gillum, an unabashed progressive, won the Democratic primary, moving him a step away from becoming the state's first black governor. He'll face off against Trump-backed Republican Rep. Ron DeSantis. NEWLINE_CHAR  NEWLINE_CHAR DeSantis gave Trump credit for his victory, saying that with one supportive tweet, the president \"kind of put me on the map.\" Gillum is his party's third black gubernatorial nominee this year, along with Stacey Abrams in Georgia and Ben Jealous in Maryland. NEWLINE_CHAR  NEWLINE_CHAR The results immediately transformed the Florida race into one of the most closely watched gubernatorial campaigns in the country. Gillum's primary victory could help Democrats boost enthusiasm among minorities who often don't vote in large numbers in years when a presidential candidate isn't on the ballot. Meanwhile, DeSantis will test Trump's grip on a crucial state he won in 2016 and wants to keep in his column in 2020. NEWLINE_CHAR  NEWLINE_CHAR DeSantis was one of several Republicans running in contests Tuesday in Florida and Arizona — another closely watched political battleground — who hoped that cozying up to the president would be rewarded by voters. Trump has thrust himself into the forefront of the midterm campaign in hopes of motivating his supporters and offsetting Democratic enthusiasm. NEWLINE_CHAR  NEWLINE_CHAR In Arizona, primary contests were shadowed by the death of Sen. John McCain. Though McCain was a towering figure who was elected to the Senate by Arizonans six times, the three Republican candidates running to replace his retiring seat-mate, Sen. Jeff Flake — including establishment favorite Rep. Martha McSally — aligned themselves more with the president than the longtime senator. NEWLINE_CHAR  NEWLINE_CHAR Arizona Gov. Doug Ducey planned to name a replacement to fill McCain's seat after his funeral. NEWLINE_CHAR  NEWLINE_CHAR Polls closed in Arizona at the end of a day that began with delayed openings at dozens of polling locations in the state's largest county. Leaders in Maricopa County rejected calls to try to keep polls open later, saying it may confuse voters and delay returns. No problems were reported elsewhere in the state. NEWLINE_CHAR  NEWLINE_CHAR Elsewhere Tuesday, GOP voters in reliably Republican Oklahoma backed mortgage company owner Kevin Stitt in a runoff for the gubernatorial nomination. Stitt won in part by criticizing his opponent as insufficiently supportive of Trump. NEWLINE_CHAR  NEWLINE_CHAR Trump surprised Florida Republicans late last year with his endorsement of DeSantis, and frequently tweeted about the lawmaker, one of his staunchest supporters in Washington. His backing helped push DeSantis past Agriculture Commissioner Adam Putnam, who has held elected office in Florida since 1996, quickly built up establishment support and raised millions of dollars. NEWLINE_CHAR  NEWLINE_CHAR Gillum came from behind in a crowded and diverse Democratic field. Former Rep. Gwen Graham, whose father, Bob Graham, served as governor, had hoped to position herself to become the state's first female governor. NEWLINE_CHAR  NEWLINE_CHAR Gillum, a favorite of progressives, spent the least of the five major Democratic candidates and had the smallest television presence. He often said he was the only candidate in the race who wasn't a millionaire or billionaire, and won the endorsement of Vermont Sen. Bernie Sanders. NEWLINE_CHAR  NEWLINE_CHAR At a victory party in Tallahassee, Gillum thanked supporters who \"took hold of our vision and our mission and our plan for a state that makes room for all of us, not just the well-heeled and the well-connected, but all of us.\" NEWLINE_CHAR  NEWLINE_CHAR The winner of the Florida governor's race will give his or her party an advantage in a key political battleground heading into the 2020 presidential campaign. NEWLINE_CHAR  NEWLINE_CHAR Florida Gov. Rick Scott is vacating the governor's mansion to run for Senate. He easily won his primary, setting up a showdown with Democratic Sen. Bill Nelson that is expected to be one of the nation's most competitive races. NEWLINE_CHAR  NEWLINE_CHAR Democrats also eyed pickup opportunities in Florida as they try to flip control of the U.S. House. One of their best chances is in South Florida, where Republican Rep. Ileana Ros-Lehtinen is retiring in a district that should favor Democrats. NEWLINE_CHAR  NEWLINE_CHAR Donna Shalala, who served as President Bill Clinton's Health and Human Services secretary, claimed the Democratic nomination in Ros-Lehtinen's district. NEWLINE_CHAR  NEWLINE_CHAR The contests in both Florida and Arizona were being closely watched for signs of how the political battlegrounds might tilt in the 2020 presidential election. NEWLINE_CHAR  NEWLINE_CHAR McCain's death has highlighted anew the shift in the Republican Party since he captured the GOP nomination for president in 2008. With his consistently conservative voting record, Arizonans elected McCain to the Senate six times, including in 2016. But his more moderate stance on immigration and his deciding vote last year against Trump's efforts to repeal President Barack Obama's health care law turned off many GOP voters. NEWLINE_CHAR  NEWLINE_CHAR A CNN survey in June found that 67 percent of Democrats had a favorable opinion of McCain, while just 33 percent of Republicans did. NEWLINE_CHAR  NEWLINE_CHAR Among those on the Arizona ballot was former state Sen. Kelli Ward, who tried unsuccessfully to unseat McCain in 2016. When McCain's family said last week that he was discontinuing medical treatment, Ward speculated in a later-deleted Facebook post that the announcement was intended to hurt her campaign for Flake's seat. NEWLINE_CHAR  NEWLINE_CHAR Ward apologized Monday, saying she was bemoaning media coverage rather than the family's announcement. NEWLINE_CHAR  NEWLINE_CHAR \"I do understand how many could have misconstrued my comments as insensitive, and for this I apologize,\" Ward said. NEWLINE_CHAR  NEWLINE_CHAR Also running for the Senate nomination was former Maricopa County Sheriff Joe Arpaio, the controversial immigration hardliner. Trump spared Arpaio a possible jail sentence last year by pardoning his federal conviction stemming from immigration patrols. NEWLINE_CHAR  NEWLINE_CHAR McSally, a fighter pilot turned congresswoman in the McCain mold, was hoping Ward and Arpaio split Arizona's anti-establishment vote. NEWLINE_CHAR  NEWLINE_CHAR The winner of the GOP primary is likely to face Democratic Rep. Kyrsten Sinema, who had only token primary opposition. Sinema announced that she was pausing her campaign Wednesday and Thursday, when McCain's body will lie in Arizona's Capitol. NEWLINE_CHAR  NEWLINE_CHAR Sinema's and McSally's Senate runs also have created House openings in Arizona, a fast-growing and increasingly diverse state where Democrats are eager to gain a foothold. McSally's district in particular is expected to be one of the most competitive House races in November's general election. NEWLINE_CHAR  NEWLINE_CHAR ___ NEWLINE_CHAR  NEWLINE_CHAR Pace reported from Washington. Associated Press writers Joe Reedy in Tallahassee, Florida, Nicholas Riccardi in Phoenix, Sean Murphy in Oklahoma City, AP polling editor Emily Swanson in Washington, Kelli Kennedy in Miami and Freida Frisaro in Fort Lauderdale contributed to this report. NEWLINE_CHAR  NEWLINE_CHAR ___ NEWLINE_CHAR  NEWLINE_CHAR On Twitter, follow Julie Pace at http://twitter.com/jpaceDC and Brendan Farrington at http://twitter.com/bsfarrington ||||| Tweet with a location NEWLINE_CHAR  NEWLINE_CHAR You can add location information to your Tweets, such as your city or precise location, from the web and via third-party applications. You always have the option to delete your Tweet location history. Learn more ||||| Andrew Gillum has become the first African-American nominee for Florida governor, pulling off an upset win over favorite Gwen Graham and two big-spending businessmen in a crowded Democratic primary field. NEWLINE_CHAR  NEWLINE_CHAR The Tallahassee mayor will face Jacksonville congressman Ron DeSantis, who easily defeated state agriculture commissioner Adam Putnam thanks to the backing of President Donald Trump. NEWLINE_CHAR  NEWLINE_CHAR “We’re going to bring this thing home,” Gillum told his election night gathering in Tallahassee. “As the mayor of Florida’s capital city, I humbly accept the Democratic nomination.” NEWLINE_CHAR  NEWLINE_CHAR Gillum never led in any public polling, but was showing signs of gaining momentum in the final weeks. He benefited from being chosen by the progressive wing of the party’s most generous benefactors ― including billionaires Tom Steyer and George Soros ― as well as from a barrage of negative ads against Graham by billionaire Jeff Greene. NEWLINE_CHAR  NEWLINE_CHAR Greene wound up finishing fourth in the five-way pack, but he spent $10 million on ads attacking Graham ― more than she spent on television on her own behalf. Liberal outside groups, meanwhile, coalesced around Gillum and served as his turnout operation, particularly in urban areas with large concentrations of younger and minority voters. NEWLINE_CHAR  NEWLINE_CHAR Gillum, 39, had difficulty raising money for his campaign after the revelation that the FBI was investigating Tallahassee city government. He says he heard he is not a target of the probe, but one of his closest friends and a former political ally has been the subject of federal subpoenas examining a restaurant he developed in part using city money. NEWLINE_CHAR  NEWLINE_CHAR Gillum wound up raising the least money of the five candidates ― $8.4 million between his campaign and a political committee under his control. In contrast, Greene raised $43 million, $40 million from himself. And Miami Beach Mayor Phil Levine, who started airing TV ads 10 months ago and led the race for several months, raised a total of $41 million, of which $29.5 million was his own cash. NEWLINE_CHAR  NEWLINE_CHAR But throughout the race, Gillum’s embrace of progressive ideals such as Medicare for all and his engaging public speaking style made him a favorite of the party’s most liberal activists. In the final weeks, he was endorsed by Vermont senator and 2016 Democratic presidential candidate Bernie Sanders, who campaigned with Gillum in the closing days of the race. NEWLINE_CHAR  NEWLINE_CHAR Gillum cut his teeth on political activism as a student government leader at Florida A&M University just a few blocks from Florida’s Capitol, where he led protests against Gov. Jeb Bush’s plan to revamp the state’s affirmative action programs. He went to work for People for the American Way before running for a seat on the Tallahassee City Commission in 2003. He became the city’s mayor in 2014. NEWLINE_CHAR  NEWLINE_CHAR Christopher Aluka Berry/Reuters Andrew Gillum addresses the audience at the Netroots Nation annual conference for political progressives in Atlanta on Aug. 10, 2017. NEWLINE_CHAR  NEWLINE_CHAR The Florida gubernatorial race will now become a referendum on Trump’s presidency, with Gillum painting DeSantis as a Trump clone and DeSantis hoping to bring out as many Trump voters as he can in November. NEWLINE_CHAR  NEWLINE_CHAR Trump has spent winter weekends and holidays at his Mar-a-Lago resort in Palm Beach for years and considers himself a part-time resident of the state. It is unclear how frequently, if at all, he will campaign for DeSantis in the two months leading up to the Nov. 6 general election. Whether Republicans retain control of Congress could determine the survival of the Trump presidency, and his political advisers may choose to focus his time on House and Senate seats. NEWLINE_CHAR  NEWLINE_CHAR Trump campaigned with DeSantis only once during the primary, at a rally in Tampa in July, and sent out a handful of supportive statements on Twitter, including the message “VOTE FOR RON” in all capitals late Monday. But in a GOP primary electorate bearing little resemblance to the one that supported former Gov. Jeb Bush and former U.S. Sen. Connie Mack, Trump’s seal of approval allowed DeSantis to overcome enormous disadvantages in cash and traditional support. NEWLINE_CHAR  NEWLINE_CHAR The state Republican establishment was solidly behind Putnam even before he announced his candidacy. From a cattle ranching and citrus family in the heart of the state, Putnam had been grooming himself for this run from the time he graduated college. He won a state legislative seat at age 22, then moved to Congress four years later, returning to Florida in 2010 to run for state agriculture commissioner. NEWLINE_CHAR  NEWLINE_CHAR He served two terms, coinciding with Rick Scott’s years as governor, and had appeared the heir apparent to the job as Scott leaves because of term limits. NEWLINE_CHAR  NEWLINE_CHAR DeSantis, in contrast, entered politics just six years ago, when he ran for Congress from the wealthy suburbs of Jacksonville, his hometown, after serving as a Navy prosecutor. His deployment to Iraq during President George W. Bush’s “troop surge” there was a highlight of his biography on the campaign trail. Despite the populist, pro-Trump rhetoric he has delivered for years from the Fox TV studio near the U.S. Capitol, DeSantis graduated from Yale and received a law degree from Harvard. NEWLINE_CHAR  NEWLINE_CHAR Carlos Barria/Reuters President Donald Trump talks with Ron DeSantis during a Make America Great Again Rally at the Florida State Fairgrounds in Tampa, Florida, on July 31, 2018. NEWLINE_CHAR  NEWLINE_CHAR And while Putnam also praised Trump repeatedly on the campaign trail, his standing with Trump likely was irreparably damaged in October 2016 after the release of the “Access Hollywood” tape that featured Trump bragging that his celebrity enabled him to grab women by the genitals. Putnam criticized Trump for the remarks, while DeSantis did not. NEWLINE_CHAR  NEWLINE_CHAR DeSantis leaned on Trump’s approval heavily, mentioning it often in stump speeches and in TV ads. He even produced an ad using his young children as props, dressing up his infant in a “Make America Great Again” onesie. NEWLINE_CHAR  NEWLINE_CHAR Yet while DeSantis’ love for and from Trump clearly helped him against Putnam in the Republican primary, it may wind up hurting him in the November election against Gillum. Trump is not popular with many independents and even some moderate Republicans. Democrat Margaret Good defeated the son of sitting Republican congressman Vern Buchanan in a special election for a state House seat in Sarasota earlier this year, even though the district leans solidly Republican. NEWLINE_CHAR  NEWLINE_CHAR Florida Democrats have not won a governor’s race since 1994, when Lawton Chiles won a second term by defeating Republican Jeb Bush. The party has come within a single percentage point in both 2010 and 2014, losing both times to Scott. ||||| President Trump’s favored candidate, GOP Rep. Ron DeSantis, defeated state Agriculture Commissioner Adam Putnam in Florida’s Republican gubernatorial primary on Tuesday after riding the wave of the president's enthusiastic endorsement to victory. NEWLINE_CHAR  NEWLINE_CHAR Meanwhile, the Bernie Sanders-backed Tallahassee Mayor Andrew Gillum pulled off a major upset in defeating a half a dozen rivals, including former Rep. Gwen Graham, in the Democratic primary. NEWLINE_CHAR  NEWLINE_CHAR DeSantis and Gillum will face each other in November's general election. If he triumphs, Gillum would be the state's first black governor. NEWLINE_CHAR  NEWLINE_CHAR During a celebration event in Orlando, DeSantis thanked the president for \"viewing me as somebody who could be a great leader for Florida.\" NEWLINE_CHAR  NEWLINE_CHAR \"Our victory is a good victory, anyways,\" DeSantis said, complimenting Putnam on a hard-fought race. \"But man, to beat someone of his caliber is a big, big deal.\" NEWLINE_CHAR  NEWLINE_CHAR The president repeatedly had implored voters to support DeSantis over Putnam. Trump offered his congratulations on Twitter. NEWLINE_CHAR  NEWLINE_CHAR \"Such a fantastic win for Ron DeSantis and the people of the Great State of Florida,\" Trump tweeted. \"Ron will be a fantastic Governor. On to November!\" NEWLINE_CHAR  NEWLINE_CHAR Appearing on the \"Ingraham Angle\" later, DeSantis downplayed the notion that his win was due to the president's backing, and touted his record on combatting environmental problems, illegal immigration, and education reform. NEWLINE_CHAR  NEWLINE_CHAR \"We've been talking about these key issues time and time again and we're going to continue to do that and spread the message far and wide,\" he said. NEWLINE_CHAR  NEWLINE_CHAR Gillum, Tallahassee’s progressive mayor backed by the Democratic-socialist Sanders, shocked observers with his win, as Graham, the daughter of former Florida Governor and Sen. Bob Graham, led in pre-election polls. NEWLINE_CHAR  NEWLINE_CHAR \"I'm truly honored to represent people across the state as the Democratic nominee -- and I promise to stand up for everyday Floridians and the issues that matter most,\" Gillum tweeted after his win. NEWLINE_CHAR  NEWLINE_CHAR Alexandria Ocasio-Cortez, the Democratic socialist star running for New York's 14th district, praised Gillum for staking out liberal positions by supporting Medicare for all, legalizing marijuana and abolishing Immigration and Customs Enforcement (ICE). NEWLINE_CHAR  NEWLINE_CHAR “The progressive movement is transforming the country - and he proved that again tonight,” Ocasio-Cortez tweeted. NEWLINE_CHAR  NEWLINE_CHAR In the state's closely-watched Senate contest, Florida Republican Gov. Rick Scott on Tuesday easily won the GOP nomination. He faced a challenge from perennial candidate Roque De La Fuente. NEWLINE_CHAR  NEWLINE_CHAR \"Congratulations to Governor Rick Scott of Florida on his conclusive Republican Primary Win,\" Trump, who encouraged Scott to run, tweeted. \"He will be a great Senator!\" NEWLINE_CHAR  NEWLINE_CHAR Scott, who is term-limited as governor, is set to face incumbent Democratic Sen. Bill Nelson in what surely will be one of the most closely watched Senate races in November. Nelson ran unopposed in the Democratic primary. NEWLINE_CHAR  NEWLINE_CHAR But much of the attention in the run-up to Tuesday's vote had been on the contentious Republican gubernatorial primary between DeSantis and Putnam. NEWLINE_CHAR  NEWLINE_CHAR During a Fox News-sponsored debate in June, DeSantis played up Trump’s backing of his campaign, expressing doubt that Putnam adequately supported Trump. “I am proud to have the endorsement of President Trump in this race,” DeSantis said. NEWLINE_CHAR  NEWLINE_CHAR DeSantis, 39, is an Iraq War veteran and decorated military lawyer who has served in the U.S. House since 2013. He is a graduate of Yale University and Harvard Law School. NEWLINE_CHAR  NEWLINE_CHAR Putnam, 44, also played up his support for Trump, but emphasized, “I am focused on Florida.” NEWLINE_CHAR  NEWLINE_CHAR As for the Senate race, Republicans are hoping Scott could flip the seat in a battle with Nelson, one of the Democratic Party’s most vulnerable incumbents. NEWLINE_CHAR  NEWLINE_CHAR Trump narrowly defeated Democrat Hillary Clinton in Florida in the 2016 presidential race by less than 2 percentage points. NEWLINE_CHAR  NEWLINE_CHAR It was a good night for incumbents in House races in Florida, as Republican Carlos Curbelo and Democrat Stephanie Murphy were among those who beat back primary challengers. NEWLINE_CHAR  NEWLINE_CHAR National Democrats have eyed Curbelo's 26th congressional district as a potential pickup target, in large part because it voted heavily for Clinton in the 2016 presidential election. But with almost all precincts reporting, approximately 2,500 more people had turned out to vote in the GOP primary than in the Democratic primary. NEWLINE_CHAR  NEWLINE_CHAR Curbelo garnered 84 percent of the vote against primary opponent Souraya Faas, who described Russian President Vladimir Putin and Syrian leader Bashar al-Assad as \"heroes\" and claimed chemical attacks in Syria's civil war were \"staged.\" NEWLINE_CHAR  NEWLINE_CHAR In November, Curbelo will face Debbie Mucarsel-Powell, a former associate dean at the Florida International University Medical School and Democratic candidate for state Senate. NEWLINE_CHAR  NEWLINE_CHAR Murphy, who unseated GOP incumbent John Mica in 2016, easily defeated a primary challenge in the 7th District from Chardo Richardson, who was backed by Ocasio-Cortez. She will face Florida state Rep. Mike Miller in November's general election. NEWLINE_CHAR  NEWLINE_CHAR Fox News’ Samuel Chamberlain, Kaitlyn Schallhorn, Mike Arroyo and The Associated Press contributed to this report. |||||\n",
            "\n"
          ]
        }
      ]
    },
    {
      "cell_type": "code",
      "source": [
        "src_docs, tgt_doc = tokenize_cluster(src_docs, tgt_doc)"
      ],
      "metadata": {
        "id": "Y73e6tGFgZNO"
      },
      "execution_count": 190,
      "outputs": []
    },
    {
      "cell_type": "code",
      "source": [
        "print(src_docs)"
      ],
      "metadata": {
        "colab": {
          "base_uri": "https://localhost:8080/"
        },
        "id": "tZffTM-DhLWA",
        "outputId": "6e3b6e71-e51c-42bb-bf81-e7903cbb9594"
      },
      "execution_count": 191,
      "outputs": [
        {
          "output_type": "stream",
          "name": "stdout",
          "text": [
            "[[['Andrew', 'Gillum', 'addresses', 'his', 'supporters', 'after', 'winning', 'the', 'Democrat', 'primary', 'for', 'governor', 'on', 'Tuesday', ',', 'Aug.', '28', ',', '2018', ',', 'in', 'Tallahassee', ',', 'Fla.', '(', 'AP', 'Photo', '/', 'Steve', 'Cannon', ')', '(', 'Associated', 'Press', ')'], ['Andrew', 'Gillum', 'addresses', 'his', 'supporters', 'after', 'winning', 'the', 'Democrat', 'primary', 'for', 'governor', 'on', 'Tuesday', ',', 'Aug.', '28', ',', '2018', ',', 'in', 'Tallahassee', ',', 'Fla.', '(', 'AP', 'Photo', '/', 'Steve', 'Cannon', ')', '(', 'Associated', 'Press', ')'], ['TALLAHASSEE', ',', 'Florida', '(', 'AP', ')', '—', 'A', 'liberal', 'Florida', 'Democrat', 'pulled', 'off', 'an', 'upset', 'victory', 'while', 'President', 'Donald', 'Trump', \"'s\", 'favored', 'candidate', 'cruised', 'to', 'an', 'easy', 'win', 'Tuesday', ',', 'setting', 'up', 'a', 'fierce', 'showdown', 'for', 'the', 'governor', \"'s\", 'mansion', 'in', 'the', 'nation', \"'s\", 'largest', 'political', 'battleground', '.'], ['Tallahassee', 'Mayor', 'Andrew', 'Gillum', ',', 'an', 'unabashed', 'progressive', ',', 'won', 'the', 'Democratic', 'primary', ',', 'moving', 'him', 'a', 'step', 'away', 'from', 'becoming', 'the', 'state', \"'s\", 'first', 'black', 'governor', '.'], ['He', \"'ll\", 'face', 'off', 'against', 'Trump', '-', 'backed', 'Republican', 'Rep.', 'Ron', 'DeSantis', '.'], ['DeSantis', 'gave', 'Trump', 'credit', 'for', 'his', 'victory', ',', 'saying', 'that', 'with', 'one', 'supportive', 'tweet', ',', 'the', 'president', '\"', 'kind', 'of', 'put', 'me', 'on', 'the', 'map', '.', '\"'], ['Gillum', 'is', 'his', 'party', \"'s\", 'third', 'black', 'gubernatorial', 'nominee', 'this', 'year', ',', 'along', 'with', 'Stacey', 'Abrams', 'in', 'Georgia', 'and', 'Ben', 'Jealous', 'in', 'Maryland', '.'], ['The', 'results', 'immediately', 'transformed', 'the', 'Florida', 'race', 'into', 'one', 'of', 'the', 'most', 'closely', 'watched', 'gubernatorial', 'campaigns', 'in', 'the', 'country', '.'], ['Gillum', \"'s\", 'primary', 'victory', 'could', 'help', 'Democrats', 'boost', 'enthusiasm', 'among', 'minorities', 'who', 'often', 'do', \"n't\", 'vote', 'in', 'large', 'numbers', 'in', 'years', 'when', 'a', 'presidential', 'candidate', 'is', \"n't\", 'on', 'the', 'ballot', '.'], ['Meanwhile', ',', 'DeSantis', 'will', 'test', 'Trump', \"'s\", 'grip', 'on', 'a', 'crucial', 'state', 'he', 'won', 'in', '2016', 'and', 'wants', 'to', 'keep', 'in', 'his', 'column', 'in', '2020', '.'], ['DeSantis', 'was', 'one', 'of', 'several', 'Republicans', 'running', 'in', 'contests', 'Tuesday', 'in', 'Florida', 'and', 'Arizona', '—', 'another', 'closely', 'watched', 'political', 'battleground', '—', 'who', 'hoped', 'that', 'cozying', 'up', 'to', 'the', 'president', 'would', 'be', 'rewarded', 'by', 'voters', '.'], ['Trump', 'has', 'thrust', 'himself', 'into', 'the', 'forefront', 'of', 'the', 'midterm', 'campaign', 'in', 'hopes', 'of', 'motivating', 'his', 'supporters', 'and', 'offsetting', 'Democratic', 'enthusiasm', '.'], ['In', 'Arizona', ',', 'primary', 'contests', 'were', 'shadowed', 'by', 'the', 'death', 'of', 'Sen.', 'John', 'McCain', '.'], ['Though', 'McCain', 'was', 'a', 'towering', 'figure', 'who', 'was', 'elected', 'to', 'the', 'Senate', 'by', 'Arizonans', 'six', 'times', ',', 'the', 'three', 'Republican', 'candidates', 'running', 'to', 'replace', 'his', 'retiring', 'seat', '-', 'mate', ',', 'Sen.', 'Jeff', 'Flake', '—', 'including', 'establishment', 'favorite', 'Rep.', 'Martha', 'McSally', '—', 'aligned', 'themselves', 'more', 'with', 'the', 'president', 'than', 'the', 'longtime', 'senator', '.'], ['Arizona', 'Gov.', 'Doug', 'Ducey', 'planned', 'to', 'name', 'a', 'replacement', 'to', 'fill', 'McCain', \"'s\", 'seat', 'after', 'his', 'funeral', '.'], ['Polls', 'closed', 'in', 'Arizona', 'at', 'the', 'end', 'of', 'a', 'day', 'that', 'began', 'with', 'delayed', 'openings', 'at', 'dozens', 'of', 'polling', 'locations', 'in', 'the', 'state', \"'s\", 'largest', 'county', '.'], ['Leaders', 'in', 'Maricopa', 'County', 'rejected', 'calls', 'to', 'try', 'to', 'keep', 'polls', 'open', 'later', ',', 'saying', 'it', 'may', 'confuse', 'voters', 'and', 'delay', 'returns', '.'], ['No', 'problems', 'were', 'reported', 'elsewhere', 'in', 'the', 'state', '.'], ['Elsewhere', 'Tuesday', ',', 'GOP', 'voters', 'in', 'reliably', 'Republican', 'Oklahoma', 'backed', 'mortgage', 'company', 'owner', 'Kevin', 'Stitt', 'in', 'a', 'runoff', 'for', 'the', 'gubernatorial', 'nomination', '.'], ['Stitt', 'won', 'in', 'part', 'by', 'criticizing', 'his', 'opponent', 'as', 'insufficiently', 'supportive', 'of', 'Trump', '.'], ['Trump', 'surprised', 'Florida', 'Republicans', 'late', 'last', 'year', 'with', 'his', 'endorsement', 'of', 'DeSantis', ',', 'and', 'frequently', 'tweeted', 'about', 'the', 'lawmaker', ',', 'one', 'of', 'his', 'staunchest', 'supporters', 'in', 'Washington', '.'], ['His', 'backing', 'helped', 'push', 'DeSantis', 'past', 'Agriculture', 'Commissioner', 'Adam', 'Putnam', ',', 'who', 'has', 'held', 'elected', 'office', 'in', 'Florida', 'since', '1996', ',', 'quickly', 'built', 'up', 'establishment', 'support', 'and', 'raised', 'millions', 'of', 'dollars', '.'], ['Gillum', 'came', 'from', 'behind', 'in', 'a', 'crowded', 'and', 'diverse', 'Democratic', 'field', '.'], ['Former', 'Rep.', 'Gwen', 'Graham', ',', 'whose', 'father', ',', 'Bob', 'Graham', ',', 'served', 'as', 'governor', ',', 'had', 'hoped', 'to', 'position', 'herself', 'to', 'become', 'the', 'state', \"'s\", 'first', 'female', 'governor', '.'], ['Gillum', ',', 'a', 'favorite', 'of', 'progressives', ',', 'spent', 'the', 'least', 'of', 'the', 'five', 'major', 'Democratic', 'candidates', 'and', 'had', 'the', 'smallest', 'television', 'presence', '.'], ['He', 'often', 'said', 'he', 'was', 'the', 'only', 'candidate', 'in', 'the', 'race', 'who', 'was', \"n't\", 'a', 'millionaire', 'or', 'billionaire', ',', 'and', 'won', 'the', 'endorsement', 'of', 'Vermont', 'Sen.', 'Bernie', 'Sanders', '.'], ['At', 'a', 'victory', 'party', 'in', 'Tallahassee', ',', 'Gillum', 'thanked', 'supporters', 'who', '\"', 'took', 'hold', 'of', 'our', 'vision', 'and', 'our', 'mission', 'and', 'our', 'plan', 'for', 'a', 'state', 'that', 'makes', 'room', 'for', 'all', 'of', 'us', ',', 'not', 'just', 'the', 'well', '-', 'heeled', 'and', 'the', 'well', '-', 'connected', ',', 'but', 'all', 'of', 'us', '.', '\"'], ['The', 'winner', 'of', 'the', 'Florida', 'governor', \"'s\", 'race', 'will', 'give', 'his', 'or', 'her', 'party', 'an', 'advantage', 'in', 'a', 'key', 'political', 'battleground', 'heading', 'into', 'the', '2020', 'presidential', 'campaign', '.'], ['Florida', 'Gov.', 'Rick', 'Scott', 'is', 'vacating', 'the', 'governor', \"'s\", 'mansion', 'to', 'run', 'for', 'Senate', '.'], ['He', 'easily', 'won', 'his', 'primary', ',', 'setting', 'up', 'a', 'showdown', 'with', 'Democratic', 'Sen.', 'Bill', 'Nelson', 'that', 'is', 'expected', 'to', 'be', 'one', 'of', 'the', 'nation', \"'s\", 'most', 'competitive', 'races', '.'], ['Democrats', 'also', 'eyed', 'pickup', 'opportunities', 'in', 'Florida', 'as', 'they', 'try', 'to', 'flip', 'control', 'of', 'the', 'U.S.', 'House', '.'], ['One', 'of', 'their', 'best', 'chances', 'is', 'in', 'South', 'Florida', ',', 'where', 'Republican', 'Rep.', 'Ileana', 'Ros', '-', 'Lehtinen', 'is', 'retiring', 'in', 'a', 'district', 'that', 'should', 'favor', 'Democrats', '.'], ['Donna', 'Shalala', ',', 'who', 'served', 'as', 'President', 'Bill', 'Clinton', \"'s\", 'Health', 'and', 'Human', 'Services', 'secretary', ',', 'claimed', 'the', 'Democratic', 'nomination', 'in', 'Ros', '-', 'Lehtinen', \"'s\", 'district', '.'], ['The', 'contests', 'in', 'both', 'Florida', 'and', 'Arizona', 'were', 'being', 'closely', 'watched', 'for', 'signs', 'of', 'how', 'the', 'political', 'battlegrounds', 'might', 'tilt', 'in', 'the', '2020', 'presidential', 'election', '.'], ['McCain', \"'s\", 'death', 'has', 'highlighted', 'anew', 'the', 'shift', 'in', 'the', 'Republican', 'Party', 'since', 'he', 'captured', 'the', 'GOP', 'nomination', 'for', 'president', 'in', '2008', '.'], ['With', 'his', 'consistently', 'conservative', 'voting', 'record', ',', 'Arizonans', 'elected', 'McCain', 'to', 'the', 'Senate', 'six', 'times', ',', 'including', 'in', '2016', '.'], ['But', 'his', 'more', 'moderate', 'stance', 'on', 'immigration', 'and', 'his', 'deciding', 'vote', 'last', 'year', 'against', 'Trump', \"'s\", 'efforts', 'to', 'repeal', 'President', 'Barack', 'Obama', \"'s\", 'health', 'care', 'law', 'turned', 'off', 'many', 'GOP', 'voters', '.'], ['A', 'CNN', 'survey', 'in', 'June', 'found', 'that', '67', 'percent', 'of', 'Democrats', 'had', 'a', 'favorable', 'opinion', 'of', 'McCain', ',', 'while', 'just', '33', 'percent', 'of', 'Republicans', 'did', '.'], ['Among', 'those', 'on', 'the', 'Arizona', 'ballot', 'was', 'former', 'state', 'Sen.', 'Kelli', 'Ward', ',', 'who', 'tried', 'unsuccessfully', 'to', 'unseat', 'McCain', 'in', '2016', '.'], ['When', 'McCain', \"'s\", 'family', 'said', 'last', 'week', 'that', 'he', 'was', 'discontinuing', 'medical', 'treatment', ',', 'Ward', 'speculated', 'in', 'a', 'later', '-', 'deleted', 'Facebook', 'post', 'that', 'the', 'announcement', 'was', 'intended', 'to', 'hurt', 'her', 'campaign', 'for', 'Flake', \"'s\", 'seat', '.'], ['Ward', 'apologized', 'Monday', ',', 'saying', 'she', 'was', 'bemoaning', 'media', 'coverage', 'rather', 'than', 'the', 'family', \"'s\", 'announcement', '.'], ['\"', 'I', 'do', 'understand', 'how', 'many', 'could', 'have', 'misconstrued', 'my', 'comments', 'as', 'insensitive', ',', 'and', 'for', 'this', 'I', 'apologize', ',', '\"', 'Ward', 'said', '.'], ['Also', 'running', 'for', 'the', 'Senate', 'nomination', 'was', 'former', 'Maricopa', 'County', 'Sheriff', 'Joe', 'Arpaio', ',', 'the', 'controversial', 'immigration', 'hardliner', '.'], ['Trump', 'spared', 'Arpaio', 'a', 'possible', 'jail', 'sentence', 'last', 'year', 'by', 'pardoning', 'his', 'federal', 'conviction', 'stemming', 'from', 'immigration', 'patrols', '.'], ['McSally', ',', 'a', 'fighter', 'pilot', 'turned', 'congresswoman', 'in', 'the', 'McCain', 'mold', ',', 'was', 'hoping', 'Ward', 'and', 'Arpaio', 'split', 'Arizona', \"'s\", 'anti-establishment', 'vote', '.'], ['The', 'winner', 'of', 'the', 'GOP', 'primary', 'is', 'likely', 'to', 'face', 'Democratic', 'Rep.', 'Kyrsten', 'Sinema', ',', 'who', 'had', 'only', 'token', 'primary', 'opposition', '.'], ['Sinema', 'announced', 'that', 'she', 'was', 'pausing', 'her', 'campaign', 'Wednesday', 'and', 'Thursday', ',', 'when', 'McCain', \"'s\", 'body', 'will', 'lie', 'in', 'Arizona', \"'s\", 'Capitol', '.'], ['Sinema', \"'s\", 'and', 'McSally', \"'s\", 'Senate', 'runs', 'also', 'have', 'created', 'House', 'openings', 'in', 'Arizona', ',', 'a', 'fast', '-', 'growing', 'and', 'increasingly', 'diverse', 'state', 'where', 'Democrats', 'are', 'eager', 'to', 'gain', 'a', 'foothold', '.'], ['McSally', \"'s\", 'district', 'in', 'particular', 'is', 'expected', 'to', 'be', 'one', 'of', 'the', 'most', 'competitive', 'House', 'races', 'in', 'November', \"'s\", 'general', 'election', '.'], ['___'], ['Pace', 'reported', 'from', 'Washington', '.'], ['Associated', 'Press', 'writers', 'Joe', 'Reedy', 'in', 'Tallahassee', ',', 'Florida', ',', 'Nicholas', 'Riccardi', 'in', 'Phoenix', ',', 'Sean', 'Murphy', 'in', 'Oklahoma', 'City', ',', 'AP', 'polling', 'editor', 'Emily', 'Swanson', 'in', 'Washington', ',', 'Kelli', 'Kennedy', 'in', 'Miami', 'and', 'Freida', 'Frisaro', 'in', 'Fort', 'Lauderdale', 'contributed', 'to', 'this', 'report', '.'], ['___'], ['On', 'Twitter', ',', 'follow', 'Julie', 'Pace', 'at', 'http://twitter.com/jpaceDC', 'and', 'Brendan', 'Farrington', 'at', 'http://twitter.com/bsfarrington']], [['Tweet', 'with', 'a', 'location'], ['You', 'can', 'add', 'location', 'information', 'to', 'your', 'Tweets', ',', 'such', 'as', 'your', 'city', 'or', 'precise', 'location', ',', 'from', 'the', 'web', 'and', 'via', 'third', '-', 'party', 'applications', '.'], ['You', 'always', 'have', 'the', 'option', 'to', 'delete', 'your', 'Tweet', 'location', 'history', '.'], ['Learn', 'more']], [['Andrew', 'Gillum', 'has', 'become', 'the', 'first', 'African', '-', 'American', 'nominee', 'for', 'Florida', 'governor', ',', 'pulling', 'off', 'an', 'upset', 'win', 'over', 'favorite', 'Gwen', 'Graham', 'and', 'two', 'big', '-', 'spending', 'businessmen', 'in', 'a', 'crowded', 'Democratic', 'primary', 'field', '.'], ['The', 'Tallahassee', 'mayor', 'will', 'face', 'Jacksonville', 'congressman', 'Ron', 'DeSantis', ',', 'who', 'easily', 'defeated', 'state', 'agriculture', 'commissioner', 'Adam', 'Putnam', 'thanks', 'to', 'the', 'backing', 'of', 'President', 'Donald', 'Trump', '.'], ['“', 'We', '’re', 'going', 'to', 'bring', 'this', 'thing', 'home', ',', '”', 'Gillum', 'told', 'his', 'election', 'night', 'gathering', 'in', 'Tallahassee', '.'], ['“', 'As', 'the', 'mayor', 'of', 'Florida', '’s', 'capital', 'city', ',', 'I', 'humbly', 'accept', 'the', 'Democratic', 'nomination', '.', '”'], ['Gillum', 'never', 'led', 'in', 'any', 'public', 'polling', ',', 'but', 'was', 'showing', 'signs', 'of', 'gaining', 'momentum', 'in', 'the', 'final', 'weeks', '.'], ['He', 'benefited', 'from', 'being', 'chosen', 'by', 'the', 'progressive', 'wing', 'of', 'the', 'party', '’s', 'most', 'generous', 'benefactors', '―', 'including', 'billionaires', 'Tom', 'Steyer', 'and', 'George', 'Soros', '―', 'as', 'well', 'as', 'from', 'a', 'barrage', 'of', 'negative', 'ads', 'against', 'Graham', 'by', 'billionaire', 'Jeff', 'Greene', '.'], ['Greene', 'wound', 'up', 'finishing', 'fourth', 'in', 'the', 'five', '-', 'way', 'pack', ',', 'but', 'he', 'spent', '$', '10', 'million', 'on', 'ads', 'attacking', 'Graham', '―', 'more', 'than', 'she', 'spent', 'on', 'television', 'on', 'her', 'own', 'behalf', '.'], ['Liberal', 'outside', 'groups', ',', 'meanwhile', ',', 'coalesced', 'around', 'Gillum', 'and', 'served', 'as', 'his', 'turnout', 'operation', ',', 'particularly', 'in', 'urban', 'areas', 'with', 'large', 'concentrations', 'of', 'younger', 'and', 'minority', 'voters', '.'], ['Gillum', ',', '39', ',', 'had', 'difficulty', 'raising', 'money', 'for', 'his', 'campaign', 'after', 'the', 'revelation', 'that', 'the', 'FBI', 'was', 'investigating', 'Tallahassee', 'city', 'government', '.'], ['He', 'says', 'he', 'heard', 'he', 'is', 'not', 'a', 'target', 'of', 'the', 'probe', ',', 'but', 'one', 'of', 'his', 'closest', 'friends', 'and', 'a', 'former', 'political', 'ally', 'has', 'been', 'the', 'subject', 'of', 'federal', 'subpoenas', 'examining', 'a', 'restaurant', 'he', 'developed', 'in', 'part', 'using', 'city', 'money', '.'], ['Gillum', 'wound', 'up', 'raising', 'the', 'least', 'money', 'of', 'the', 'five', 'candidates', '―', '$', '8.4', 'million', 'between', 'his', 'campaign', 'and', 'a', 'political', 'committee', 'under', 'his', 'control', '.'], ['In', 'contrast', ',', 'Greene', 'raised', '$', '43', 'million', ',', '$', '40', 'million', 'from', 'himself', '.'], ['And', 'Miami', 'Beach', 'Mayor', 'Phil', 'Levine', ',', 'who', 'started', 'airing', 'TV', 'ads', '10', 'months', 'ago', 'and', 'led', 'the', 'race', 'for', 'several', 'months', ',', 'raised', 'a', 'total', 'of', '$', '41', 'million', ',', 'of', 'which', '$', '29.5', 'million', 'was', 'his', 'own', 'cash', '.'], ['But', 'throughout', 'the', 'race', ',', 'Gillum', '’s', 'embrace', 'of', 'progressive', 'ideals', 'such', 'as', 'Medicare', 'for', 'all', 'and', 'his', 'engaging', 'public', 'speaking', 'style', 'made', 'him', 'a', 'favorite', 'of', 'the', 'party', '’s', 'most', 'liberal', 'activists', '.'], ['In', 'the', 'final', 'weeks', ',', 'he', 'was', 'endorsed', 'by', 'Vermont', 'senator', 'and', '2016', 'Democratic', 'presidential', 'candidate', 'Bernie', 'Sanders', ',', 'who', 'campaigned', 'with', 'Gillum', 'in', 'the', 'closing', 'days', 'of', 'the', 'race', '.'], ['Gillum', 'cut', 'his', 'teeth', 'on', 'political', 'activism', 'as', 'a', 'student', 'government', 'leader', 'at', 'Florida', 'A&M', 'University', 'just', 'a', 'few', 'blocks', 'from', 'Florida', '’s', 'Capitol', ',', 'where', 'he', 'led', 'protests', 'against', 'Gov.', 'Jeb', 'Bush', '’s', 'plan', 'to', 'revamp', 'the', 'state', '’s', 'affirmative', 'action', 'programs', '.'], ['He', 'went', 'to', 'work', 'for', 'People', 'for', 'the', 'American', 'Way', 'before', 'running', 'for', 'a', 'seat', 'on', 'the', 'Tallahassee', 'City', 'Commission', 'in', '2003', '.'], ['He', 'became', 'the', 'city', '’s', 'mayor', 'in', '2014', '.'], ['Christopher', 'Aluka', 'Berry', '/', 'Reuters', 'Andrew', 'Gillum', 'addresses', 'the', 'audience', 'at', 'the', 'Netroots', 'Nation', 'annual', 'conference', 'for', 'political', 'progressives', 'in', 'Atlanta', 'on', 'Aug.', '10', ',', '2017', '.'], ['The', 'Florida', 'gubernatorial', 'race', 'will', 'now', 'become', 'a', 'referendum', 'on', 'Trump', '’s', 'presidency', ',', 'with', 'Gillum', 'painting', 'DeSantis', 'as', 'a', 'Trump', 'clone', 'and', 'DeSantis', 'hoping', 'to', 'bring', 'out', 'as', 'many', 'Trump', 'voters', 'as', 'he', 'can', 'in', 'November', '.'], ['Trump', 'has', 'spent', 'winter', 'weekends', 'and', 'holidays', 'at', 'his', 'Mar', '-', 'a-Lago', 'resort', 'in', 'Palm', 'Beach', 'for', 'years', 'and', 'considers', 'himself', 'a', 'part', '-', 'time', 'resident', 'of', 'the', 'state', '.'], ['It', 'is', 'unclear', 'how', 'frequently', ',', 'if', 'at', 'all', ',', 'he', 'will', 'campaign', 'for', 'DeSantis', 'in', 'the', 'two', 'months', 'leading', 'up', 'to', 'the', 'Nov.', '6', 'general', 'election', '.'], ['Whether', 'Republicans', 'retain', 'control', 'of', 'Congress', 'could', 'determine', 'the', 'survival', 'of', 'the', 'Trump', 'presidency', ',', 'and', 'his', 'political', 'advisers', 'may', 'choose', 'to', 'focus', 'his', 'time', 'on', 'House', 'and', 'Senate', 'seats', '.'], ['Trump', 'campaigned', 'with', 'DeSantis', 'only', 'once', 'during', 'the', 'primary', ',', 'at', 'a', 'rally', 'in', 'Tampa', 'in', 'July', ',', 'and', 'sent', 'out', 'a', 'handful', 'of', 'supportive', 'statements', 'on', 'Twitter', ',', 'including', 'the', 'message', '“', 'VOTE', 'FOR', 'RON', '”', 'in', 'all', 'capitals', 'late', 'Monday', '.'], ['But', 'in', 'a', 'GOP', 'primary', 'electorate', 'bearing', 'little', 'resemblance', 'to', 'the', 'one', 'that', 'supported', 'former', 'Gov.', 'Jeb', 'Bush', 'and', 'former', 'U.S.', 'Sen.', 'Connie', 'Mack', ',', 'Trump', '’s', 'seal', 'of', 'approval', 'allowed', 'DeSantis', 'to', 'overcome', 'enormous', 'disadvantages', 'in', 'cash', 'and', 'traditional', 'support', '.'], ['The', 'state', 'Republican', 'establishment', 'was', 'solidly', 'behind', 'Putnam', 'even', 'before', 'he', 'announced', 'his', 'candidacy', '.'], ['From', 'a', 'cattle', 'ranching', 'and', 'citrus', 'family', 'in', 'the', 'heart', 'of', 'the', 'state', ',', 'Putnam', 'had', 'been', 'grooming', 'himself', 'for', 'this', 'run', 'from', 'the', 'time', 'he', 'graduated', 'college', '.'], ['He', 'won', 'a', 'state', 'legislative', 'seat', 'at', 'age', '22', ',', 'then', 'moved', 'to', 'Congress', 'four', 'years', 'later', ',', 'returning', 'to', 'Florida', 'in', '2010', 'to', 'run', 'for', 'state', 'agriculture', 'commissioner', '.'], ['He', 'served', 'two', 'terms', ',', 'coinciding', 'with', 'Rick', 'Scott', '’s', 'years', 'as', 'governor', ',', 'and', 'had', 'appeared', 'the', 'heir', 'apparent', 'to', 'the', 'job', 'as', 'Scott', 'leaves', 'because', 'of', 'term', 'limits', '.'], ['DeSantis', ',', 'in', 'contrast', ',', 'entered', 'politics', 'just', 'six', 'years', 'ago', ',', 'when', 'he', 'ran', 'for', 'Congress', 'from', 'the', 'wealthy', 'suburbs', 'of', 'Jacksonville', ',', 'his', 'hometown', ',', 'after', 'serving', 'as', 'a', 'Navy', 'prosecutor', '.'], ['His', 'deployment', 'to', 'Iraq', 'during', 'President', 'George', 'W.', 'Bush', '’s', '“', 'troop', 'surge', '”', 'there', 'was', 'a', 'highlight', 'of', 'his', 'biography', 'on', 'the', 'campaign', 'trail', '.'], ['Despite', 'the', 'populist', ',', 'pro-Trump', 'rhetoric', 'he', 'has', 'delivered', 'for', 'years', 'from', 'the', 'Fox', 'TV', 'studio', 'near', 'the', 'U.S.', 'Capitol', ',', 'DeSantis', 'graduated', 'from', 'Yale', 'and', 'received', 'a', 'law', 'degree', 'from', 'Harvard', '.'], ['Carlos', 'Barria', '/', 'Reuters', 'President', 'Donald', 'Trump', 'talks', 'with', 'Ron', 'DeSantis', 'during', 'a', 'Make', 'America', 'Great', 'Again', 'Rally', 'at', 'the', 'Florida', 'State', 'Fairgrounds', 'in', 'Tampa', ',', 'Florida', ',', 'on', 'July', '31', ',', '2018', '.'], ['And', 'while', 'Putnam', 'also', 'praised', 'Trump', 'repeatedly', 'on', 'the', 'campaign', 'trail', ',', 'his', 'standing', 'with', 'Trump', 'likely', 'was', 'irreparably', 'damaged', 'in', 'October', '2016', 'after', 'the', 'release', 'of', 'the', '“', 'Access', 'Hollywood', '”', 'tape', 'that', 'featured', 'Trump', 'bragging', 'that', 'his', 'celebrity', 'enabled', 'him', 'to', 'grab', 'women', 'by', 'the', 'genitals', '.'], ['Putnam', 'criticized', 'Trump', 'for', 'the', 'remarks', ',', 'while', 'DeSantis', 'did', 'not', '.'], ['DeSantis', 'leaned', 'on', 'Trump', '’s', 'approval', 'heavily', ',', 'mentioning', 'it', 'often', 'in', 'stump', 'speeches', 'and', 'in', 'TV', 'ads', '.'], ['He', 'even', 'produced', 'an', 'ad', 'using', 'his', 'young', 'children', 'as', 'props', ',', 'dressing', 'up', 'his', 'infant', 'in', 'a', '“', 'Make', 'America', 'Great', 'Again', '”', 'onesie', '.'], ['Yet', 'while', 'DeSantis', '’', 'love', 'for', 'and', 'from', 'Trump', 'clearly', 'helped', 'him', 'against', 'Putnam', 'in', 'the', 'Republican', 'primary', ',', 'it', 'may', 'wind', 'up', 'hurting', 'him', 'in', 'the', 'November', 'election', 'against', 'Gillum', '.'], ['Trump', 'is', 'not', 'popular', 'with', 'many', 'independents', 'and', 'even', 'some', 'moderate', 'Republicans', '.'], ['Democrat', 'Margaret', 'Good', 'defeated', 'the', 'son', 'of', 'sitting', 'Republican', 'congressman', 'Vern', 'Buchanan', 'in', 'a', 'special', 'election', 'for', 'a', 'state', 'House', 'seat', 'in', 'Sarasota', 'earlier', 'this', 'year', ',', 'even', 'though', 'the', 'district', 'leans', 'solidly', 'Republican', '.'], ['Florida', 'Democrats', 'have', 'not', 'won', 'a', 'governor', '’s', 'race', 'since', '1994', ',', 'when', 'Lawton', 'Chiles', 'won', 'a', 'second', 'term', 'by', 'defeating', 'Republican', 'Jeb', 'Bush', '.'], ['The', 'party', 'has', 'come', 'within', 'a', 'single', 'percentage', 'point', 'in', 'both', '2010', 'and', '2014', ',', 'losing', 'both', 'times', 'to', 'Scott', '.']], [['President', 'Trump', '’s', 'favored', 'candidate', ',', 'GOP', 'Rep.', 'Ron', 'DeSantis', ',', 'defeated', 'state', 'Agriculture', 'Commissioner', 'Adam', 'Putnam', 'in', 'Florida', '’s', 'Republican', 'gubernatorial', 'primary', 'on', 'Tuesday', 'after', 'riding', 'the', 'wave', 'of', 'the', 'president', \"'s\", 'enthusiastic', 'endorsement', 'to', 'victory', '.'], ['Meanwhile', ',', 'the', 'Bernie', 'Sanders', '-', 'backed', 'Tallahassee', 'Mayor', 'Andrew', 'Gillum', 'pulled', 'off', 'a', 'major', 'upset', 'in', 'defeating', 'a', 'half', 'a', 'dozen', 'rivals', ',', 'including', 'former', 'Rep.', 'Gwen', 'Graham', ',', 'in', 'the', 'Democratic', 'primary', '.'], ['DeSantis', 'and', 'Gillum', 'will', 'face', 'each', 'other', 'in', 'November', \"'s\", 'general', 'election', '.'], ['If', 'he', 'triumphs', ',', 'Gillum', 'would', 'be', 'the', 'state', \"'s\", 'first', 'black', 'governor', '.'], ['During', 'a', 'celebration', 'event', 'in', 'Orlando', ',', 'DeSantis', 'thanked', 'the', 'president', 'for', '\"', 'viewing', 'me', 'as', 'somebody', 'who', 'could', 'be', 'a', 'great', 'leader', 'for', 'Florida', '.', '\"'], ['\"', 'Our', 'victory', 'is', 'a', 'good', 'victory', ',', 'anyways', ',', '\"', 'DeSantis', 'said', ',', 'complimenting', 'Putnam', 'on', 'a', 'hard', '-', 'fought', 'race', '.'], ['\"', 'But', 'man', ',', 'to', 'beat', 'someone', 'of', 'his', 'caliber', 'is', 'a', 'big', ',', 'big', 'deal', '.', '\"'], ['The', 'president', 'repeatedly', 'had', 'implored', 'voters', 'to', 'support', 'DeSantis', 'over', 'Putnam', '.'], ['Trump', 'offered', 'his', 'congratulations', 'on', 'Twitter', '.'], ['\"', 'Such', 'a', 'fantastic', 'win', 'for', 'Ron', 'DeSantis', 'and', 'the', 'people', 'of', 'the', 'Great', 'State', 'of', 'Florida', ',', '\"', 'Trump', 'tweeted', '.'], ['\"', 'Ron', 'will', 'be', 'a', 'fantastic', 'Governor', '.'], ['On', 'to', 'November', '!'], ['\"'], ['Appearing', 'on', 'the', '\"', 'Ingraham', 'Angle', '\"', 'later', ',', 'DeSantis', 'downplayed', 'the', 'notion', 'that', 'his', 'win', 'was', 'due', 'to', 'the', 'president', \"'s\", 'backing', ',', 'and', 'touted', 'his', 'record', 'on', 'combatting', 'environmental', 'problems', ',', 'illegal', 'immigration', ',', 'and', 'education', 'reform', '.'], ['\"', 'We', \"'ve\", 'been', 'talking', 'about', 'these', 'key', 'issues', 'time', 'and', 'time', 'again', 'and', 'we', \"'re\", 'going', 'to', 'continue', 'to', 'do', 'that', 'and', 'spread', 'the', 'message', 'far', 'and', 'wide', ',', '\"', 'he', 'said', '.'], ['Gillum', ',', 'Tallahassee', '’s', 'progressive', 'mayor', 'backed', 'by', 'the', 'Democratic', '-', 'socialist', 'Sanders', ',', 'shocked', 'observers', 'with', 'his', 'win', ',', 'as', 'Graham', ',', 'the', 'daughter', 'of', 'former', 'Florida', 'Governor', 'and', 'Sen.', 'Bob', 'Graham', ',', 'led', 'in', 'pre-election', 'polls', '.'], ['\"', 'I', \"'m\", 'truly', 'honored', 'to', 'represent', 'people', 'across', 'the', 'state', 'as', 'the', 'Democratic', 'nominee', '--', 'and', 'I', 'promise', 'to', 'stand', 'up', 'for', 'everyday', 'Floridians', 'and', 'the', 'issues', 'that', 'matter', 'most', ',', '\"', 'Gillum', 'tweeted', 'after', 'his', 'win', '.'], ['Alexandria', 'Ocasio', '-', 'Cortez', ',', 'the', 'Democratic', 'socialist', 'star', 'running', 'for', 'New', 'York', \"'s\", '14th', 'district', ',', 'praised', 'Gillum', 'for', 'staking', 'out', 'liberal', 'positions', 'by', 'supporting', 'Medicare', 'for', 'all', ',', 'legalizing', 'marijuana', 'and', 'abolishing', 'Immigration', 'and', 'Customs', 'Enforcement', '(', 'ICE', ')', '.'], ['“', 'The', 'progressive', 'movement', 'is', 'transforming', 'the', 'country', '-', 'and', 'he', 'proved', 'that', 'again', 'tonight', ',', '”', 'Ocasio', '-', 'Cortez', 'tweeted', '.'], ['In', 'the', 'state', \"'s\", 'closely', '-', 'watched', 'Senate', 'contest', ',', 'Florida', 'Republican', 'Gov.', 'Rick', 'Scott', 'on', 'Tuesday', 'easily', 'won', 'the', 'GOP', 'nomination', '.'], ['He', 'faced', 'a', 'challenge', 'from', 'perennial', 'candidate', 'Roque', 'De', 'La', 'Fuente', '.'], ['\"', 'Congratulations', 'to', 'Governor', 'Rick', 'Scott', 'of', 'Florida', 'on', 'his', 'conclusive', 'Republican', 'Primary', 'Win', ',', '\"', 'Trump', ',', 'who', 'encouraged', 'Scott', 'to', 'run', ',', 'tweeted', '.'], ['\"', 'He', 'will', 'be', 'a', 'great', 'Senator', '!', '\"'], ['Scott', ',', 'who', 'is', 'term', '-', 'limited', 'as', 'governor', ',', 'is', 'set', 'to', 'face', 'incumbent', 'Democratic', 'Sen.', 'Bill', 'Nelson', 'in', 'what', 'surely', 'will', 'be', 'one', 'of', 'the', 'most', 'closely', 'watched', 'Senate', 'races', 'in', 'November', '.'], ['Nelson', 'ran', 'unopposed', 'in', 'the', 'Democratic', 'primary', '.'], ['But', 'much', 'of', 'the', 'attention', 'in', 'the', 'run', '-', 'up', 'to', 'Tuesday', \"'s\", 'vote', 'had', 'been', 'on', 'the', 'contentious', 'Republican', 'gubernatorial', 'primary', 'between', 'DeSantis', 'and', 'Putnam', '.'], ['During', 'a', 'Fox', 'News', '-', 'sponsored', 'debate', 'in', 'June', ',', 'DeSantis', 'played', 'up', 'Trump', '’s', 'backing', 'of', 'his', 'campaign', ',', 'expressing', 'doubt', 'that', 'Putnam', 'adequately', 'supported', 'Trump', '.'], ['“', 'I', 'am', 'proud', 'to', 'have', 'the', 'endorsement', 'of', 'President', 'Trump', 'in', 'this', 'race', ',', '”', 'DeSantis', 'said', '.'], ['DeSantis', ',', '39', ',', 'is', 'an', 'Iraq', 'War', 'veteran', 'and', 'decorated', 'military', 'lawyer', 'who', 'has', 'served', 'in', 'the', 'U.S.', 'House', 'since', '2013', '.'], ['He', 'is', 'a', 'graduate', 'of', 'Yale', 'University', 'and', 'Harvard', 'Law', 'School', '.'], ['Putnam', ',', '44', ',', 'also', 'played', 'up', 'his', 'support', 'for', 'Trump', ',', 'but', 'emphasized', ',', '“', 'I', 'am', 'focused', 'on', 'Florida', '.', '”'], ['As', 'for', 'the', 'Senate', 'race', ',', 'Republicans', 'are', 'hoping', 'Scott', 'could', 'flip', 'the', 'seat', 'in', 'a', 'battle', 'with', 'Nelson', ',', 'one', 'of', 'the', 'Democratic', 'Party', '’s', 'most', 'vulnerable', 'incumbents', '.'], ['Trump', 'narrowly', 'defeated', 'Democrat', 'Hillary', 'Clinton', 'in', 'Florida', 'in', 'the', '2016', 'presidential', 'race', 'by', 'less', 'than', '2', 'percentage', 'points', '.'], ['It', 'was', 'a', 'good', 'night', 'for', 'incumbents', 'in', 'House', 'races', 'in', 'Florida', ',', 'as', 'Republican', 'Carlos', 'Curbelo', 'and', 'Democrat', 'Stephanie', 'Murphy', 'were', 'among', 'those', 'who', 'beat', 'back', 'primary', 'challengers', '.'], ['National', 'Democrats', 'have', 'eyed', 'Curbelo', \"'s\", '26th', 'congressional', 'district', 'as', 'a', 'potential', 'pickup', 'target', ',', 'in', 'large', 'part', 'because', 'it', 'voted', 'heavily', 'for', 'Clinton', 'in', 'the', '2016', 'presidential', 'election', '.'], ['But', 'with', 'almost', 'all', 'precincts', 'reporting', ',', 'approximately', '2,500', 'more', 'people', 'had', 'turned', 'out', 'to', 'vote', 'in', 'the', 'GOP', 'primary', 'than', 'in', 'the', 'Democratic', 'primary', '.'], ['Curbelo', 'garnered', '84', 'percent', 'of', 'the', 'vote', 'against', 'primary', 'opponent', 'Souraya', 'Faas', ',', 'who', 'described', 'Russian', 'President', 'Vladimir', 'Putin', 'and', 'Syrian', 'leader', 'Bashar', 'al', '-', 'Assad', 'as', '\"', 'heroes', '\"', 'and', 'claimed', 'chemical', 'attacks', 'in', 'Syria', \"'s\", 'civil', 'war', 'were', '\"', 'staged', '.', '\"'], ['In', 'November', ',', 'Curbelo', 'will', 'face', 'Debbie', 'Mucarsel', '-', 'Powell', ',', 'a', 'former', 'associate', 'dean', 'at', 'the', 'Florida', 'International', 'University', 'Medical', 'School', 'and', 'Democratic', 'candidate', 'for', 'state', 'Senate', '.'], ['Murphy', ',', 'who', 'unseated', 'GOP', 'incumbent', 'John', 'Mica', 'in', '2016', ',', 'easily', 'defeated', 'a', 'primary', 'challenge', 'in', 'the', '7th', 'District', 'from', 'Chardo', 'Richardson', ',', 'who', 'was', 'backed', 'by', 'Ocasio', '-', 'Cortez', '.'], ['She', 'will', 'face', 'Florida', 'state', 'Rep.', 'Mike', 'Miller', 'in', 'November', \"'s\", 'general', 'election', '.'], ['Fox', 'News', '’', 'Samuel', 'Chamberlain', ',', 'Kaitlyn', 'Schallhorn', ',', 'Mike', 'Arroyo', 'and', 'The', 'Associated', 'Press', 'contributed', 'to', 'this', 'report', '.']]]\n"
          ]
        }
      ]
    },
    {
      "cell_type": "markdown",
      "source": [
        "# clean"
      ],
      "metadata": {
        "id": "n_xTaNbDhsyo"
      }
    },
    {
      "cell_type": "code",
      "source": [
        "class DataConfig():\n",
        "    min_src_nsents = 5\n",
        "    max_src_nsents = 200\n",
        "\n",
        "    min_src_ntokens = 4\n",
        "    max_src_ntokens = 200  \n",
        "\n",
        "    min_tgt_ntokens = 5\n",
        "    max_tgt_ntokens = 500"
      ],
      "metadata": {
        "id": "zewrU_v2hLT1"
      },
      "execution_count": 35,
      "outputs": []
    },
    {
      "cell_type": "code",
      "source": [
        "import string \n",
        "def clean_by_ntokens(doc):\n",
        "    '''\n",
        "    input: word tokenized level doc \n",
        "    output: cleaned by ntokens or trunc ntokens\n",
        "    '''\n",
        "    # remove short sent and trunc long sent \n",
        "    cleaned = []\n",
        "    total = 0\n",
        "    threshold = 512\n",
        "    for sent in doc:\n",
        "        if len(sent) > DataConfig.max_src_ntokens:\n",
        "            new_sent = [token for token in sent if token not in [item for item in list(string.punctuation) if item not in ['.', ',']]][:DataConfig.max_src_ntokens]\n",
        "            if len(new_sent) > DataConfig.min_src_ntokens:\n",
        "                cleaned.append(new_sent)\n",
        "                total += len(new_sent)\n",
        "        elif len(sent) >= DataConfig.min_src_ntokens:\n",
        "            cleaned.append(sent)\n",
        "            total += len(sent)\n",
        "\n",
        "        if threshold and total > threshold:\n",
        "            break\n",
        "\n",
        "    return cleaned\n",
        "\n",
        "def clean_by_nsents(docs):\n",
        "    '''\n",
        "    input: word tokenized level doc \n",
        "    output: cleaned by nsents trunc nsents\n",
        "    '''\n",
        "    return [doc[:DataConfig.max_src_nsents+1] for doc in docs if len(doc) >= DataConfig.min_src_nsents]"
      ],
      "metadata": {
        "id": "wKrVMVoPhLQ_"
      },
      "execution_count": 36,
      "outputs": []
    },
    {
      "cell_type": "code",
      "source": [
        "src_docs = [[sent for sent in doc if len(sent)>DataConfig.min_src_ntokens] for doc in src_docs]\n",
        "src_docs = clean_by_nsents(src_docs)\n",
        "src_docs = [clean_by_ntokens(doc) for doc in src_docs]\n",
        "src_docs = [doc for doc in src_docs if len(doc)>DataConfig.min_src_nsents]"
      ],
      "metadata": {
        "id": "yGSfqXAbhLPN"
      },
      "execution_count": 192,
      "outputs": []
    },
    {
      "cell_type": "markdown",
      "source": [
        "# transformers tokenizer"
      ],
      "metadata": {
        "id": "BhBNhIrLize5"
      }
    },
    {
      "cell_type": "code",
      "source": [
        "from transformers import LEDTokenizer"
      ],
      "metadata": {
        "id": "G0qoYAY_izGC"
      },
      "execution_count": 38,
      "outputs": []
    },
    {
      "cell_type": "code",
      "source": [
        "tokenizer = LEDTokenizer.from_pretrained(\"allenai/led-base-16384\")"
      ],
      "metadata": {
        "colab": {
          "base_uri": "https://localhost:8080/",
          "height": 177,
          "referenced_widgets": [
            "36e3c86b9b894cb89bb0c25649d2379e",
            "4be5a139e7924515beefb6e6c8c30270",
            "0a0b8ff5d9234ff39f0334e588bf40fa",
            "5d7e51aa480a4b2eb04b1b401f53c93b",
            "c0ceebc443d34483825074d813b36e2c",
            "5f0a9f556f634b899e405ac6df3f5e15",
            "d0468bdb4d064607b0810e0bbe6487aa",
            "f30c150dbd9c44cdb1901e3458292b73",
            "ac440eac1cee4550b6be0c17ce739bea",
            "ffdafb9914d149778db5d13a9d559f60",
            "27a2062f43fe43e1b9c705bc620b173e",
            "606453014ef24ab5818343996b59a72f",
            "4210503d60f24395890d22b7b11be9f9",
            "fb72bf6b7ed64525901a27460221db1a",
            "18510a25fbef40c2976ca4286522de73",
            "865afc54118f4f5ab6c62db00ac505b2",
            "f0c1434e9c7d4b5f819bfff322a1d12c",
            "3b04c0e18215490c9dacb0891b967435",
            "9588aef34846486c93fad6e4a267a231",
            "1f6a5077c6da4893beb293e8b8d07ce9",
            "652eb24c8eb74b33ac3cc21d88156b28",
            "91424e7cab384b0cb06ee01747346a70",
            "c86755d9214f4e88a0c6a2b9b39fb450",
            "a48007374ad843fb8a2004d0f594a95d",
            "270ee2f407ce4cd3b880d71d646ed9d0",
            "32847bc4075a4dc7b124d76eef5f7d10",
            "6380c08dffaa420584f70601ed1991f4",
            "a3f2c068714b4e08832f3ae563addfd7",
            "590b54f401ad4fdfa6399758059e9c76",
            "0d3ce2b0672b498dbfda9095c14f0fbc",
            "8d96d4ad742c4fc9bab0e33493592ebc",
            "8b0aa80f09c94f228683eb72dd2b737a",
            "adfd3e6289c246ed88ded4d712808367",
            "7361a57ebca442f5b0792501a24c93e0",
            "4733602a3467480da5fc3a95c566b91a",
            "e9826be0e4ea4f699d78d2c48b51135e",
            "60be7a5c739f497ea528735f59ee514a",
            "1f3751a11948414e8834ae5b8ebb3156",
            "2200b9d21a4d48a19b79d071848e77fd",
            "5a4b0dffb9cb4a99a8bcbc37f58eecea",
            "d9aec02387d44be89c63bea9e7f8d7f2",
            "5134359606e34cddbe3840a72034f61c",
            "ed840150847b47a08231173259ef89cc",
            "283795d310264afc896fec5d182df8b7",
            "0cfc9189bbfe4388a2c004a7fbb4dcf0",
            "3bb27ed5f51047018cb069fd4e9f5d31",
            "e06b9ededb354189aefec6d976d4b387",
            "9b54cfe88ac44097bc5c5b3643061799",
            "b9915c2681664db6b698c45fc092b34f",
            "828a700551fc4685afa56d5e8fdbd5b0",
            "ceb42db10dc74a7496289ccbad04c342",
            "4157948a70c3420eb60e6c61ef1588a3",
            "1d3043b97fe64ec4b18e8c0b5152747c",
            "062f16e038924feaa23e93a282eb5932",
            "97500934053f491d8aa5190ec88fcb1c"
          ]
        },
        "id": "s5BpPCmDi_cX",
        "outputId": "da5c5f82-bf16-4732-84ed-0df04c85f756"
      },
      "execution_count": 39,
      "outputs": [
        {
          "output_type": "display_data",
          "data": {
            "text/plain": [
              "Downloading vocab.json:   0%|          | 0.00/878k [00:00<?, ?B/s]"
            ],
            "application/vnd.jupyter.widget-view+json": {
              "version_major": 2,
              "version_minor": 0,
              "model_id": "36e3c86b9b894cb89bb0c25649d2379e"
            }
          },
          "metadata": {}
        },
        {
          "output_type": "display_data",
          "data": {
            "text/plain": [
              "Downloading merges.txt:   0%|          | 0.00/446k [00:00<?, ?B/s]"
            ],
            "application/vnd.jupyter.widget-view+json": {
              "version_major": 2,
              "version_minor": 0,
              "model_id": "606453014ef24ab5818343996b59a72f"
            }
          },
          "metadata": {}
        },
        {
          "output_type": "display_data",
          "data": {
            "text/plain": [
              "Downloading special_tokens_map.json:   0%|          | 0.00/772 [00:00<?, ?B/s]"
            ],
            "application/vnd.jupyter.widget-view+json": {
              "version_major": 2,
              "version_minor": 0,
              "model_id": "c86755d9214f4e88a0c6a2b9b39fb450"
            }
          },
          "metadata": {}
        },
        {
          "output_type": "display_data",
          "data": {
            "text/plain": [
              "Downloading tokenizer_config.json:   0%|          | 0.00/27.0 [00:00<?, ?B/s]"
            ],
            "application/vnd.jupyter.widget-view+json": {
              "version_major": 2,
              "version_minor": 0,
              "model_id": "7361a57ebca442f5b0792501a24c93e0"
            }
          },
          "metadata": {}
        },
        {
          "output_type": "display_data",
          "data": {
            "text/plain": [
              "Downloading config.json:   0%|          | 0.00/1.07k [00:00<?, ?B/s]"
            ],
            "application/vnd.jupyter.widget-view+json": {
              "version_major": 2,
              "version_minor": 0,
              "model_id": "0cfc9189bbfe4388a2c004a7fbb4dcf0"
            }
          },
          "metadata": {}
        }
      ]
    },
    {
      "cell_type": "code",
      "source": [
        "class SpecialTokens():\n",
        "    sep_token = '</s>'\n",
        "    cls_token = '<s>'\n",
        "    pad_token = '<pad>'\n",
        "    bos_token = '<s>' # 0\n",
        "    eos_token = '</s>' # 1\n",
        "    additional_special_tokens = ['<ss>', '<ds>']\n",
        "\n",
        "    sep_vid = tokenizer.sep_token_id\n",
        "    cls_vid = tokenizer.cls_token_id\n",
        "    pad_vid = tokenizer.pad_token_id"
      ],
      "metadata": {
        "id": "R9tcj69sitO6"
      },
      "execution_count": 93,
      "outputs": []
    },
    {
      "cell_type": "code",
      "source": [
        "special_tokens_dict = {'additional_special_tokens': SpecialTokens.additional_special_tokens}\n",
        "num_added_toks = tokenizer.add_special_tokens(special_tokens_dict)\n",
        "print(num_added_toks)"
      ],
      "metadata": {
        "colab": {
          "base_uri": "https://localhost:8080/"
        },
        "id": "kaSGs69IjENz",
        "outputId": "75653ac1-ba70-45fd-a6d4-5dbab2394a1a"
      },
      "execution_count": 94,
      "outputs": [
        {
          "output_type": "stream",
          "name": "stdout",
          "text": [
            "0\n"
          ]
        }
      ]
    },
    {
      "cell_type": "code",
      "source": [
        "def bert_tokenize(doc, special_tokens_included=True):\n",
        "    subtoken_idxs = tokenizer.encode(doc, add_special_tokens=False)\n",
        "    subtokens = tokenizer.decode(subtoken_idxs, clean_up_tokenization_spaces=False, skip_special_tokens=False)\n",
        "    return subtokens, subtoken_idxs "
      ],
      "metadata": {
        "id": "JbNBO1GfjIX5"
      },
      "execution_count": 95,
      "outputs": []
    },
    {
      "cell_type": "code",
      "source": [
        "def process_src_docs(src_docs):\n",
        "    src_txt = [' '.join(sent) for doc in src_docs for sent in doc]\n",
        "\n",
        "    # src_txt_with_special_tokens = [' '.join(sent) for doc in src_docs for sent in doc]\n",
        "\n",
        "    src_txt_with_special_tokens = [[' '.join(sent) for sent in doc] for doc in src_docs]\n",
        "    for i in range(len(src_txt_with_special_tokens)):\n",
        "        src_txt_with_special_tokens[i][-1] = src_txt_with_special_tokens[i][-1] + f' {SpecialTokens.additional_special_tokens[1]}'\n",
        "    src_txt_with_special_tokens = [sent for doc in src_txt_with_special_tokens for sent in doc]\n",
        "\n",
        "    # src_txt_with_special_tokens = [f'{SpecialTokens.cls_token} ' + sent + f' {SpecialTokens.sep_token}' for sent in src_txt_with_special_tokens]\n",
        "\n",
        "    for index, item in enumerate(src_txt_with_special_tokens):\n",
        "        if index == 0:\n",
        "            src_txt_with_special_tokens[index] = f'{SpecialTokens.cls_token} ' + src_txt_with_special_tokens[index]\n",
        "        if index == (len(src_txt_with_special_tokens) - 1):\n",
        "            src_txt_with_special_tokens[index] = src_txt_with_special_tokens[index] + f' {SpecialTokens.eos_token}'\n",
        "        else:\n",
        "            src_txt_with_special_tokens[index] = src_txt_with_special_tokens[index] + f' {SpecialTokens.additional_special_tokens[0]}'\n",
        "    \n",
        "    docs_lens = [len(doc) for doc in src_docs]\n",
        "\n",
        "    src_subtokens, src_subtoken_idxs = bert_tokenize(' '.join(src_txt_with_special_tokens))\n",
        "    cls_ids = [i for i, t in enumerate(src_subtoken_idxs) if t == SpecialTokens.cls_vid]\n",
        "    glob_mask = [1 if t == SpecialTokens.cls_vid else 0 for i, t in enumerate(src_subtoken_idxs)]\n",
        "    _segs = [-1] + [i for i, t in enumerate(src_subtoken_idxs) if t == SpecialTokens.sep_vid]\n",
        "    segs = [_segs[i] - _segs[i - 1] for i in range(1, len(_segs))]\n",
        "    segments_ids = []\n",
        "    for i, s in enumerate(segs):\n",
        "        if (i % 2 == 0):\n",
        "            segments_ids += s * [0]\n",
        "        else:\n",
        "            segments_ids += s * [1]\n",
        "\n",
        "    return src_subtoken_idxs, segments_ids, glob_mask, cls_ids, src_txt\n",
        "\n",
        "def process_tgt_doc(tgt_doc):\n",
        "    tgt_txt = '<q>'.join([' '.join(sent) for sent in tgt_doc])\n",
        "\n",
        "    tgt_doc = f'{SpecialTokens.bos_token} '+\\\n",
        "                                   f' {SpecialTokens.additional_special_tokens[0]} '.join([' '.join(sent) for sent in tgt_doc]) + f' {SpecialTokens.eos_token}'\n",
        "\n",
        "    tgt_subtokens, tgt_subtoken_idxs = bert_tokenize(tgt_doc)\n",
        "    docs_ids = [0 for i in range(len(tgt_subtoken_idxs))]\n",
        "    return tgt_subtoken_idxs, tgt_txt, docs_ids"
      ],
      "metadata": {
        "id": "dccvuzTQhLLt"
      },
      "execution_count": 152,
      "outputs": []
    },
    {
      "cell_type": "code",
      "source": [
        "src_subtoken_idxs, segments_ids, glob_mask, cls_ids, src_txt = process_src_docs(src_docs)"
      ],
      "metadata": {
        "id": "arEH2y4meRti"
      },
      "execution_count": 206,
      "outputs": []
    },
    {
      "cell_type": "code",
      "source": [
        "tgt_subtoken_idxs, tgt_txt, tgt_docs_ids = process_tgt_doc(tgt_doc)"
      ],
      "metadata": {
        "id": "AruK8Ct1lhbv"
      },
      "execution_count": 207,
      "outputs": []
    },
    {
      "cell_type": "code",
      "source": [
        "print(src_subtoken_idxs)"
      ],
      "metadata": {
        "colab": {
          "base_uri": "https://localhost:8080/"
        },
        "id": "Cw45AldReRq8",
        "outputId": "db0fc3a3-fca6-4007-d226-2545b19b1020"
      },
      "execution_count": 208,
      "outputs": [
        {
          "output_type": "stream",
          "name": "stdout",
          "text": [
            "[0, 19843, 6452, 783, 8480, 39, 2732, 71, 1298, 5, 3661, 2270, 13, 2318, 15, 294, 2156, 2049, 4, 971, 2156, 199, 2156, 11, 12388, 895, 281, 7048, 2156, 7178, 4, 36, 1480, 1333, 1589, 2206, 19908, 4839, 36, 1562, 977, 4839, 50265, 19843, 6452, 783, 8480, 39, 2732, 71, 1298, 5, 3661, 2270, 13, 2318, 15, 294, 2156, 2049, 4, 971, 2156, 199, 2156, 11, 12388, 895, 281, 7048, 2156, 7178, 4, 36, 1480, 1333, 1589, 2206, 19908, 4839, 36, 1562, 977, 4839, 50265, 565, 7981, 15334, 2336, 32739, 2156, 1261, 36, 1480, 4839, 93, 83, 6176, 1261, 3661, 2468, 160, 41, 4904, 1124, 150, 270, 807, 140, 128, 29, 15411, 1984, 11806, 1720, 7, 41, 1365, 339, 294, 2156, 2749, 62, 10, 11039, 13100, 13, 5, 2318, 128, 29, 15906, 11, 5, 1226, 128, 29, 1154, 559, 29783, 479, 50265, 565, 18897, 281, 7048, 3129, 2224, 6452, 783, 2156, 41, 29491, 9512, 8212, 2156, 351, 5, 1557, 2270, 2156, 1375, 123, 10, 1149, 409, 31, 1959, 5, 194, 128, 29, 78, 909, 2318, 479, 50265, 894, 128, 890, 652, 160, 136, 140, 111, 4094, 1172, 2825, 4, 5529, 926, 104, 22122, 479, 50265, 13365, 104, 22122, 851, 140, 1361, 13, 39, 1124, 2156, 584, 14, 19, 65, 8440, 3545, 2156, 5, 394, 22, 761, 9, 342, 162, 15, 5, 5456, 479, 22, 50265, 534, 1873, 783, 16, 39, 537, 128, 29, 371, 909, 18932, 6615, 42, 76, 2156, 552, 19, 312, 10042, 18306, 11, 3090, 8, 1664, 344, 30783, 11, 4788, 479, 50265, 133, 775, 1320, 11229, 5, 1261, 1015, 88, 65, 9, 5, 144, 3615, 3996, 18932, 6392, 11, 5, 247, 479, 50265, 534, 1873, 783, 128, 29, 2270, 1124, 115, 244, 1574, 2501, 11240, 566, 12568, 54, 747, 109, 295, 75, 900, 11, 739, 1530, 11, 107, 77, 10, 1939, 1984, 16, 295, 75, 15, 5, 5250, 479, 50265, 38488, 2156, 926, 104, 22122, 40, 1296, 140, 128, 29, 11155, 15, 10, 4096, 194, 37, 351, 11, 336, 8, 1072, 7, 489, 11, 39, 6730, 11, 2760, 479, 50265, 13365, 104, 22122, 21, 65, 9, 484, 1858, 878, 11, 11997, 294, 11, 1261, 8, 2605, 93, 277, 3615, 3996, 559, 29783, 93, 54, 5207, 14, 1029, 329, 4048, 62, 7, 5, 394, 74, 28, 14986, 30, 1983, 479, 50265, 7565, 34, 17590, 1003, 88, 5, 14295, 9, 5, 12076, 637, 11, 1991, 9, 31612, 39, 2732, 8, 6147, 2577, 1557, 11240, 479, 50265, 1121, 2605, 2156, 2270, 11997, 58, 9099, 196, 30, 5, 744, 9, 2211, 4, 610, 6973, 479, 50265, 26223, 6973, 21, 10, 23940, 1955, 54, 21, 2736, 7, 5, 1112, 30, 6416, 15892, 1253, 411, 498, 2156, 5, 130, 1172, 2261, 878, 7, 3190, 39, 11063, 2418, 111, 12563, 2156, 2211, 4, 2321, 18510, 93, 217, 7147, 2674, 2825, 4, 15281, 1509, 104, 2368, 93, 14485, 1235, 55, 19, 5, 394, 87, 5, 5878, 6704, 479, 50265, 36851, 3483, 4, 6289, 211, 15431, 219, 1904, 7, 766, 10, 5010, 7, 3300, 6973, 128, 29, 2418, 71, 39, 6172, 479, 50265, 510, 23673, 1367, 11, 2605, 23, 5, 253, 9, 10, 183, 14, 880, 19, 5943, 18459, 23, 4295, 9, 8511, 3237, 11, 5, 194, 128, 29, 1154, 2109, 479, 50265, 32258, 268, 11, 1127, 636, 24104, 413, 3946, 1519, 7, 860, 7, 489, 4583, 490, 423, 2156, 584, 24, 189, 31643, 1983, 8, 4646, 2886, 479, 50265, 3084, 1272, 58, 431, 5140, 11, 5, 194, 479, 50265, 48148, 294, 2156, 3932, 1983, 11, 29536, 1172, 4020, 4094, 5501, 138, 1945, 2363, 312, 2582, 11, 10, 17020, 13, 5, 18932, 5757, 479, 50265, 5320, 2582, 351, 11, 233, 30, 18384, 39, 5254, 25, 16429, 352, 8440, 9, 140, 479, 50266, 50265, 19843, 6452, 783, 34, 555, 5, 78, 1704, 111, 470, 6615, 13, 1261, 2318, 2156, 6539, 160, 41, 4904, 339, 81, 2674, 272, 11760, 4572, 8, 80, 380, 111, 1408, 20658, 11, 10, 11138, 1557, 2270, 882, 479, 50265, 133, 12388, 895, 281, 7048, 3647, 40, 652, 9811, 16736, 5529, 926, 104, 22122, 2156, 54, 2773, 5125, 194, 6300, 7236, 3086, 9722, 8697, 2446, 7, 5, 6027, 9, 270, 807, 140, 479, 50265, 17, 48, 166, 44, 27, 241, 164, 7, 836, 42, 631, 184, 2156, 44, 46, 6452, 783, 174, 39, 729, 363, 5660, 11, 12388, 895, 281, 7048, 479, 50265, 17, 48, 287, 5, 3647, 9, 1261, 44, 27, 29, 812, 343, 2156, 38, 10080, 27104, 3264, 5, 1557, 5757, 479, 44, 46, 50265, 534, 1873, 783, 393, 669, 11, 143, 285, 8511, 2156, 53, 21, 2018, 2434, 9, 8079, 4093, 11, 5, 507, 688, 479, 50265, 894, 11916, 31, 145, 4986, 30, 5, 8212, 5897, 9, 5, 537, 44, 27, 29, 144, 9256, 19018, 7257, 994, 15130, 217, 28329, 1560, 5527, 6426, 8, 1655, 21093, 15130, 25, 157, 25, 31, 10, 23080, 9, 2430, 5814, 136, 4572, 30, 9479, 2321, 13900, 479, 50265, 19247, 242, 7725, 62, 5614, 887, 11, 5, 292, 111, 169, 6356, 2156, 53, 37, 1240, 68, 158, 153, 15, 5814, 6666, 4572, 15130, 55, 87, 79, 1240, 15, 2384, 15, 69, 308, 4137, 479, 50265, 44785, 751, 1134, 2156, 6637, 2156, 41100, 7618, 198, 6452, 783, 8, 1665, 25, 39, 11684, 2513, 2156, 1605, 11, 4879, 911, 19, 739, 26069, 9, 3240, 8, 5688, 1983, 479, 50265, 534, 1873, 783, 2156, 3191, 2156, 56, 9600, 3282, 418, 13, 39, 637, 71, 5, 15461, 14, 5, 2448, 21, 3219, 12388, 895, 281, 7048, 343, 168, 479, 50265, 894, 161, 37, 1317, 37, 16, 45, 10, 1002, 9, 5, 4513, 2156, 53, 65, 9, 39, 8099, 964, 8, 10, 320, 559, 7564, 34, 57, 5, 2087, 9, 752, 28130, 281, 14951, 10, 2391, 37, 2226, 11, 233, 634, 343, 418, 479, 50265, 534, 1873, 783, 7725, 62, 3282, 5, 513, 418, 9, 5, 292, 2261, 15130, 68, 290, 4, 306, 153, 227, 39, 637, 8, 10, 559, 1540, 223, 39, 797, 479, 50265, 1121, 5709, 2156, 13900, 1179, 68, 3557, 153, 2156, 68, 843, 153, 31, 1003, 479, 50265, 2409, 2561, 2467, 3129, 4720, 20389, 2156, 54, 554, 19822, 1012, 5814, 158, 377, 536, 8, 669, 5, 1015, 13, 484, 377, 2156, 1179, 10, 746, 9, 68, 3492, 153, 2156, 9, 61, 68, 1132, 4, 245, 153, 21, 39, 308, 1055, 479, 50265, 1708, 1328, 5, 1015, 2156, 6452, 783, 44, 27, 29, 7962, 9, 8212, 22894, 215, 25, 8999, 13, 70, 8, 39, 7580, 285, 2686, 2496, 156, 123, 10, 2674, 9, 5, 537, 44, 27, 29, 144, 6176, 4826, 479, 50265, 1121, 5, 507, 688, 2156, 37, 21, 11585, 30, 10487, 6704, 8, 336, 1557, 1939, 1984, 13191, 5316, 2156, 54, 17612, 19, 6452, 783, 11, 5, 3172, 360, 9, 5, 1015, 479, 50265, 534, 1873, 783, 847, 39, 9927, 15, 559, 16696, 25, 10, 1294, 168, 884, 23, 1261, 83, 947, 448, 589, 95, 10, 367, 5491, 31, 1261, 44, 27, 29, 6107, 2156, 147, 37, 669, 3246, 136, 3483, 4, 26315, 3516, 44, 27, 29, 563, 7, 6910, 3914, 5, 194, 44, 27, 29, 33003, 814, 1767, 479, 50265, 894, 439, 7, 173, 13, 1806, 13, 5, 470, 4846, 137, 878, 13, 10, 2418, 15, 5, 12388, 895, 281, 7048, 412, 1463, 11, 4999, 479, 50265, 894, 1059, 5, 343, 44, 27, 29, 3647, 11, 777, 479, 50266, 50265, 6517, 140, 44, 27, 29, 15411, 1984, 2156, 3932, 2825, 4, 5529, 926, 104, 22122, 2156, 5125, 194, 8004, 4589, 3086, 9722, 8697, 11, 1261, 44, 27, 29, 1172, 18932, 2270, 15, 294, 71, 5793, 5, 4605, 9, 5, 394, 128, 29, 15947, 13746, 7, 1124, 479, 50265, 38488, 2156, 5, 13191, 5316, 111, 4094, 12388, 895, 281, 7048, 3129, 2224, 6452, 783, 2468, 160, 10, 538, 4904, 11, 14114, 10, 457, 10, 4039, 4346, 2156, 217, 320, 2825, 4, 272, 11760, 4572, 2156, 11, 5, 1557, 2270, 479, 50265, 13365, 104, 22122, 8, 6452, 783, 40, 652, 349, 97, 11, 759, 128, 29, 937, 729, 479, 50265, 1106, 37, 10121, 29, 2156, 6452, 783, 74, 28, 5, 194, 128, 29, 78, 909, 2318, 479, 50265, 14229, 10, 4821, 515, 11, 5854, 2156, 926, 104, 22122, 9079, 5, 394, 13, 22, 7603, 162, 25, 4909, 54, 115, 28, 10, 372, 884, 13, 1261, 479, 22, 50265, 113, 1541, 1124, 16, 10, 205, 1124, 2156, 42563, 2156, 22, 926, 104, 22122, 26, 2156, 19389, 154, 9722, 8697, 15, 10, 543, 111, 4951, 1015, 479, 50265, 113, 125, 313, 2156, 7, 1451, 951, 9, 39, 25735, 16, 10, 380, 2156, 380, 432, 479, 22, 50265, 133, 394, 3987, 56, 12956, 3995, 1983, 7, 323, 926, 104, 22122, 81, 9722, 8697, 479, 50265, 7565, 1661, 39, 24285, 15, 599, 479, 50265, 113, 5598, 10, 5500, 339, 13, 5529, 926, 104, 22122, 8, 5, 82, 9, 5, 2860, 331, 9, 1261, 2156, 22, 140, 2858, 479, 50265, 113, 5529, 40, 28, 10, 5500, 3383, 479, 50265, 19186, 10852, 15, 5, 22, 11996, 27092, 30098, 22, 423, 2156, 926, 104, 22122, 159, 13089, 5, 9976, 14, 39, 339, 21, 528, 7, 5, 394, 128, 29, 6027, 2156, 8, 14764, 39, 638, 15, 5217, 2577, 3039, 1272, 2156, 2439, 2447, 2156, 8, 1265, 3114, 479, 50265, 113, 166, 128, 548, 57, 1686, 59, 209, 762, 743, 86, 8, 86, 456, 8, 52, 128, 241, 164, 7, 535, 7, 109, 14, 8, 2504, 5, 1579, 444, 8, 1810, 2156, 22, 37, 26, 479, 50265, 534, 1873, 783, 2156, 12388, 895, 281, 7048, 44, 27, 29, 8212, 3647, 4094, 30, 5, 1557, 111, 17579, 5316, 2156, 6649, 12136, 19, 39, 339, 2156, 25, 4572, 2156, 5, 1354, 9, 320, 1261, 3383, 8, 2211, 4, 3045, 4572, 2156, 669, 11, 1198, 12, 6414, 4583, 479, 50265, 113, 38, 128, 119, 3127, 7809, 7, 3594, 82, 420, 5, 194, 25, 5, 1557, 6615, 480, 8, 38, 4198, 7, 1413, 62, 13, 7476, 13219, 808, 2071, 8, 5, 743, 14, 948, 144, 2156, 22, 6452, 783, 2858, 71, 39, 339, 479, 50265, 16804, 463, 6374, 384, 438, 20821, 111, 16138, 5841, 2156, 5, 1557, 17579, 999, 878, 13, 188, 469, 128, 29, 501, 212, 1418, 2156, 6425, 6452, 783, 13, 1690, 7520, 66, 6176, 2452, 30, 3117, 8999, 13, 70, 2156, 32722, 3140, 8, 38226, 6234, 10294, 8, 10465, 10406, 36, 9964, 4839, 479, 50265, 17, 48, 20, 8212, 2079, 16, 17828, 5, 247, 111, 8, 37, 4362, 14, 456, 3422, 2156, 44, 46, 384, 438, 20821, 111, 16138, 5841, 2858, 479, 50265, 1121, 5, 194, 128, 29, 3615, 111, 3996, 1112, 3096, 2156, 1261, 1172, 3483, 4, 4434, 1699, 15, 294, 2773, 351, 5, 3932, 5757, 479, 50265, 894, 2713, 10, 1539, 31, 25551, 1984, 3830, 3407, 926, 1587, 13890, 8530, 479, 50265, 113, 24953, 7, 3383, 4434, 1699, 9, 1261, 15, 39, 37847, 1172, 11518, 5711, 2156, 22, 140, 2156, 54, 4446, 1699, 7, 422, 2156, 2858, 479, 50265, 113, 91, 40, 28, 10, 372, 4336, 27785, 22, 50265, 22041, 2156, 54, 16, 1385, 111, 1804, 25, 2318, 2156, 16, 278, 7, 652, 9861, 1557, 2211, 4, 1585, 5045, 11, 99, 8349, 40, 28, 65, 9, 5, 144, 3615, 3996, 1112, 4694, 11, 759, 479, 50266, 2]\n"
          ]
        }
      ]
    },
    {
      "cell_type": "code",
      "source": [
        "print(tokenizer.decode(src_subtoken_idxs))"
      ],
      "metadata": {
        "colab": {
          "base_uri": "https://localhost:8080/"
        },
        "id": "NbHvy-vue_8_",
        "outputId": "347b5a9d-5620-4dba-e2b2-41f49f212ff3"
      },
      "execution_count": 209,
      "outputs": [
        {
          "output_type": "stream",
          "name": "stdout",
          "text": [
            "<s>Andrew Gillum addresses his supporters after winning the Democrat primary for governor on Tuesday, Aug. 28, 2018, in Tallahassee, Fla. ( AP Photo / Steve Cannon ) ( Associated Press ) <ss> Andrew Gillum addresses his supporters after winning the Democrat primary for governor on Tuesday, Aug. 28, 2018, in Tallahassee, Fla. ( AP Photo / Steve Cannon ) ( Associated Press ) <ss> TALLAHASSEE, Florida ( AP ) — A liberal Florida Democrat pulled off an upset victory while President Donald Trump's favored candidate cruised to an easy win Tuesday, setting up a fierce showdown for the governor's mansion in the nation's largest political battleground. <ss> Tallahassee Mayor Andrew Gillum, an unabashed progressive, won the Democratic primary, moving him a step away from becoming the state's first black governor. <ss> He 'll face off against Trump - backed Republican Rep. Ron DeSantis. <ss> DeSantis gave Trump credit for his victory, saying that with one supportive tweet, the president \" kind of put me on the map. \" <ss> Gillum is his party's third black gubernatorial nominee this year, along with Stacey Abrams in Georgia and Ben Jealous in Maryland. <ss> The results immediately transformed the Florida race into one of the most closely watched gubernatorial campaigns in the country. <ss> Gillum's primary victory could help Democrats boost enthusiasm among minorities who often don't vote in large numbers in years when a presidential candidate isn't on the ballot. <ss> Meanwhile, DeSantis will test Trump's grip on a crucial state he won in 2016 and wants to keep in his column in 2020. <ss> DeSantis was one of several Republicans running in contests Tuesday in Florida and Arizona — another closely watched political battleground — who hoped that cozying up to the president would be rewarded by voters. <ss> Trump has thrust himself into the forefront of the midterm campaign in hopes of motivating his supporters and offsetting Democratic enthusiasm. <ss> In Arizona, primary contests were shadowed by the death of Sen. John McCain. <ss> Though McCain was a towering figure who was elected to the Senate by Arizonans six times, the three Republican candidates running to replace his retiring seat - mate, Sen. Jeff Flake — including establishment favorite Rep. Martha McSally — aligned themselves more with the president than the longtime senator. <ss> Arizona Gov. Doug Ducey planned to name a replacement to fill McCain's seat after his funeral. <ss> Polls closed in Arizona at the end of a day that began with delayed openings at dozens of polling locations in the state's largest county. <ss> Leaders in Maricopa County rejected calls to try to keep polls open later, saying it may confuse voters and delay returns. <ss> No problems were reported elsewhere in the state. <ss> Elsewhere Tuesday, GOP voters in reliably Republican Oklahoma backed mortgage company owner Kevin Stitt in a runoff for the gubernatorial nomination. <ss> Stitt won in part by criticizing his opponent as insufficiently supportive of Trump. <ds> <ss> Andrew Gillum has become the first African - American nominee for Florida governor, pulling off an upset win over favorite Gwen Graham and two big - spending businessmen in a crowded Democratic primary field. <ss> The Tallahassee mayor will face Jacksonville congressman Ron DeSantis, who easily defeated state agriculture commissioner Adam Putnam thanks to the backing of President Donald Trump. <ss> “ We ’re going to bring this thing home, ” Gillum told his election night gathering in Tallahassee. <ss> “ As the mayor of Florida ’s capital city, I humbly accept the Democratic nomination. ” <ss> Gillum never led in any public polling, but was showing signs of gaining momentum in the final weeks. <ss> He benefited from being chosen by the progressive wing of the party ’s most generous benefactors ― including billionaires Tom Steyer and George Soros ― as well as from a barrage of negative ads against Graham by billionaire Jeff Greene. <ss> Greene wound up finishing fourth in the five - way pack, but he spent $ 10 million on ads attacking Graham ― more than she spent on television on her own behalf. <ss> Liberal outside groups, meanwhile, coalesced around Gillum and served as his turnout operation, particularly in urban areas with large concentrations of younger and minority voters. <ss> Gillum, 39, had difficulty raising money for his campaign after the revelation that the FBI was investigating Tallahassee city government. <ss> He says he heard he is not a target of the probe, but one of his closest friends and a former political ally has been the subject of federal subpoenas examining a restaurant he developed in part using city money. <ss> Gillum wound up raising the least money of the five candidates ― $ 8.4 million between his campaign and a political committee under his control. <ss> In contrast, Greene raised $ 43 million, $ 40 million from himself. <ss> And Miami Beach Mayor Phil Levine, who started airing TV ads 10 months ago and led the race for several months, raised a total of $ 41 million, of which $ 29.5 million was his own cash. <ss> But throughout the race, Gillum ’s embrace of progressive ideals such as Medicare for all and his engaging public speaking style made him a favorite of the party ’s most liberal activists. <ss> In the final weeks, he was endorsed by Vermont senator and 2016 Democratic presidential candidate Bernie Sanders, who campaigned with Gillum in the closing days of the race. <ss> Gillum cut his teeth on political activism as a student government leader at Florida A&M University just a few blocks from Florida ’s Capitol, where he led protests against Gov. Jeb Bush ’s plan to revamp the state ’s affirmative action programs. <ss> He went to work for People for the American Way before running for a seat on the Tallahassee City Commission in 2003. <ss> He became the city ’s mayor in 2014. <ds> <ss> President Trump ’s favored candidate, GOP Rep. Ron DeSantis, defeated state Agriculture Commissioner Adam Putnam in Florida ’s Republican gubernatorial primary on Tuesday after riding the wave of the president's enthusiastic endorsement to victory. <ss> Meanwhile, the Bernie Sanders - backed Tallahassee Mayor Andrew Gillum pulled off a major upset in defeating a half a dozen rivals, including former Rep. Gwen Graham, in the Democratic primary. <ss> DeSantis and Gillum will face each other in November's general election. <ss> If he triumphs, Gillum would be the state's first black governor. <ss> During a celebration event in Orlando, DeSantis thanked the president for \" viewing me as somebody who could be a great leader for Florida. \" <ss> \" Our victory is a good victory, anyways, \" DeSantis said, complimenting Putnam on a hard - fought race. <ss> \" But man, to beat someone of his caliber is a big, big deal. \" <ss> The president repeatedly had implored voters to support DeSantis over Putnam. <ss> Trump offered his congratulations on Twitter. <ss> \" Such a fantastic win for Ron DeSantis and the people of the Great State of Florida, \" Trump tweeted. <ss> \" Ron will be a fantastic Governor. <ss> Appearing on the \" Ingraham Angle \" later, DeSantis downplayed the notion that his win was due to the president's backing, and touted his record on combatting environmental problems, illegal immigration, and education reform. <ss> \" We've been talking about these key issues time and time again and we're going to continue to do that and spread the message far and wide, \" he said. <ss> Gillum, Tallahassee ’s progressive mayor backed by the Democratic - socialist Sanders, shocked observers with his win, as Graham, the daughter of former Florida Governor and Sen. Bob Graham, led in pre-election polls. <ss> \" I'm truly honored to represent people across the state as the Democratic nominee -- and I promise to stand up for everyday Floridians and the issues that matter most, \" Gillum tweeted after his win. <ss> Alexandria Ocasio - Cortez, the Democratic socialist star running for New York's 14th district, praised Gillum for staking out liberal positions by supporting Medicare for all, legalizing marijuana and abolishing Immigration and Customs Enforcement ( ICE ). <ss> “ The progressive movement is transforming the country - and he proved that again tonight, ” Ocasio - Cortez tweeted. <ss> In the state's closely - watched Senate contest, Florida Republican Gov. Rick Scott on Tuesday easily won the GOP nomination. <ss> He faced a challenge from perennial candidate Roque De La Fuente. <ss> \" Congratulations to Governor Rick Scott of Florida on his conclusive Republican Primary Win, \" Trump, who encouraged Scott to run, tweeted. <ss> \" He will be a great Senator! \" <ss> Scott, who is term - limited as governor, is set to face incumbent Democratic Sen. Bill Nelson in what surely will be one of the most closely watched Senate races in November. <ds> </s>\n"
          ]
        }
      ]
    },
    {
      "cell_type": "code",
      "source": [
        "max_tgt_len = 1024\n",
        "max_pos = 4000"
      ],
      "metadata": {
        "id": "v32qG_tLnRV7"
      },
      "execution_count": 219,
      "outputs": []
    },
    {
      "cell_type": "code",
      "source": [
        "import bisect\n",
        "src = src_subtoken_idxs\n",
        "tgt_end_id = tgt_subtoken_idxs[-1]\n",
        "tgt = tgt_subtoken_idxs[:max_tgt_len][:-1] + [tgt_end_id]\n",
        "segs = segments_ids\n",
        "clss = cls_ids\n",
        "\n",
        "end_id = [src[-1]]\n",
        "src = src[:-1][:max_pos - 1] + end_id\n",
        "segs = segs[:max_pos]\n",
        "max_sent_id = bisect.bisect_left(clss, max_pos)\n",
        "clss = clss[:max_sent_id]\n",
        "glob_mask = glob_mask[:max_pos]\n",
        "\n",
        "src_sent_labels = ([1]*len(cls_ids))[:max_sent_id]"
      ],
      "metadata": {
        "id": "Xj6O57i1m9Y2"
      },
      "execution_count": 220,
      "outputs": []
    },
    {
      "cell_type": "markdown",
      "source": [
        "# Model"
      ],
      "metadata": {
        "id": "6f_dV1iKmYfY"
      }
    },
    {
      "cell_type": "code",
      "source": [
        "import argparse\n",
        "import glob\n",
        "import os\n",
        "import random\n",
        "import signal\n",
        "import time\n",
        "\n",
        "import torch\n",
        "from tokenizer.utils import build_tokenizer\n",
        "# from tokenizer.special_tokens import SpecialTokens\n",
        "\n",
        "import distributed\n",
        "from dataloader import dataloader\n",
        "from models.model_utils import build_model\n",
        "from trainer import train_builder\n",
        "from dataloader.dataloader import load_dataset\n",
        "from trainer.loss import abs_loss\n",
        "from trainer.predictor import build_predictor\n",
        "from trainer.trainer import build_trainer\n",
        "from others.logging import logger, init_logger\n",
        "from utils.arguments import ModelConfig"
      ],
      "metadata": {
        "id": "Tx1l9LXRjlu_"
      },
      "execution_count": 110,
      "outputs": []
    },
    {
      "cell_type": "code",
      "source": [
        "from utils.arguments import load_config \n",
        "\n",
        "run_config = load_config(\"./demo.yaml\")\n",
        "\n",
        "run_config.gpu_ranks = [int(i) for i in range(len(run_config.visible_gpus.split(',')))]\n",
        "run_config.world_size = len(run_config.gpu_ranks)\n",
        "os.environ[\"CUDA_VISIBLE_DEVICES\"] = run_config.visible_gpus\n",
        "\n",
        "init_logger(run_config.log_file)\n",
        "device = \"cpu\" if run_config.visible_gpus == '-1' else \"cuda\"\n",
        "device_id = 0 if device == \"cuda\" else -1"
      ],
      "metadata": {
        "id": "L3ydZIXLe_6J"
      },
      "execution_count": 111,
      "outputs": []
    },
    {
      "cell_type": "code",
      "source": [
        "device = \"cpu\" if run_config.visible_gpus == '-1' else \"cuda\"\n",
        "pt = run_config.test_from\n",
        "if (pt != ''):\n",
        "    test_from = pt\n",
        "else:\n",
        "    test_from = run_config.test_from\n",
        "logger.info('Loading checkpoint from %s' % test_from)\n",
        "\n",
        "checkpoint = torch.load(test_from, map_location=lambda storage, loc: storage)\n",
        "opt = checkpoint['opt']\n",
        "run_config.model_config = ModelConfig(**opt)\n",
        "print(run_config.model_config)\n",
        "\n",
        "tokenizer = build_tokenizer(run_config)\n",
        "run_config.model_config.vocab_size = tokenizer.vocab_size\n",
        "vocab = tokenizer.get_vocab()\n",
        "symbols = {'BOS': vocab[SpecialTokens.bos_token], 'EOS': vocab[SpecialTokens.eos_token],\n",
        "            'PAD': vocab[SpecialTokens.pad_token], 'EOQ':vocab[SpecialTokens.additional_special_tokens[0]]}\n",
        "\n",
        "model = build_model(run_config.model_config, device, checkpoint, tokenizer)\n",
        "model.eval()\n",
        "\n",
        "predictor = build_predictor(run_config, tokenizer, symbols, model, logger)\n"
      ],
      "metadata": {
        "colab": {
          "base_uri": "https://localhost:8080/"
        },
        "id": "Npv4iMZ3e_wS",
        "outputId": "498633f3-e084-4618-9186-e0d34e301dd8"
      },
      "execution_count": 112,
      "outputs": [
        {
          "output_type": "stream",
          "name": "stderr",
          "text": [
            "[2022-08-08 09:22:34,680 INFO] Loading checkpoint from ./saved_models/led_abs_model\n"
          ]
        },
        {
          "output_type": "stream",
          "name": "stdout",
          "text": [
            "ModelConfig(model_name='led_abs', vocab_size=50265, freeze_bert=False, d_model=768, num_heads=8, dropout=0.1, norm_first=True, num_encoder_blocks=2, num_decoder_blocks=2, layer_norm_eps=1e-06, d_ff=2048, dec_layers=4, dec_hidden_size=768, dec_heads=8, dec_ff_size=2048, dec_dropout=0.2, max_position_embeddings=4000, bert_model='allenai/led-base-16384', type_doc_size=2)\n"
          ]
        },
        {
          "output_type": "stream",
          "name": "stderr",
          "text": [
            "Some weights of the model checkpoint at allenai/led-base-16384 were not used when initializing LEDModel: ['final_logits_bias', 'lm_head.weight']\n",
            "- This IS expected if you are initializing LEDModel from the checkpoint of a model trained on another task or with another architecture (e.g. initializing a BertForSequenceClassification model from a BertForPreTraining model).\n",
            "- This IS NOT expected if you are initializing LEDModel from the checkpoint of a model that you expect to be exactly identical (initializing a BertForSequenceClassification model from a BertForSequenceClassification model).\n"
          ]
        }
      ]
    },
    {
      "cell_type": "code",
      "source": [
        "from dataloader.dataloader import Batch \n",
        "batch = Batch([(src, tgt, segs, glob_mask, clss, src_sent_labels, src_txt, tgt_txt)], device=device, is_test=True)"
      ],
      "metadata": {
        "id": "p8bQkyqMe_l2"
      },
      "execution_count": 221,
      "outputs": []
    },
    {
      "cell_type": "code",
      "source": [
        "print(batch.tgt_str)"
      ],
      "metadata": {
        "colab": {
          "base_uri": "https://localhost:8080/"
        },
        "id": "NgrKzGtfvKTo",
        "outputId": "22b74686-eb3a-4e1b-9ecc-f2101a2424e0"
      },
      "execution_count": 222,
      "outputs": [
        {
          "output_type": "stream",
          "name": "stdout",
          "text": [
            "['– Andrew Gillum pulled off an upset victory in Florida on Tuesday to become the state \\'s first black nominee for governor , the AP reports .<q>The Bernie Sanders - backed liberal Democrat , currently the mayor of Tallahassee , will run against President Trump - endorsed Republican Rep. Ron DeSantis , Fox News reports , results that the AP says \" immediately transformed the Florida race into one of the most closely watched gubernatorial campaigns in the country . \"<q>The Huffington Post says the November election will be \" a referendum \" on the president .<q>Trump congratulated DeSantis on Twitter after his win .<q>More from the primaries in Florida and Arizona , both closely watched political battleground states , plus a runoff election in Oklahoma on Tuesday : Florida Senate race : Current Florida Gov. Rick Scott , who is term - limited in that role , won the GOP nomination and will run against incumbent Democratic Sen. Bill Nelson , who ran unopposed in the Democratic primary and is seen as vulnerable .']\n"
          ]
        }
      ]
    },
    {
      "cell_type": "code",
      "source": [
        "save_pred, save_gold, save_src, c, av, av_ = predictor._handle(batch)"
      ],
      "metadata": {
        "id": "wm-GeOqBe_i7"
      },
      "execution_count": 223,
      "outputs": []
    },
    {
      "cell_type": "code",
      "source": [
        "print(save_pred)"
      ],
      "metadata": {
        "colab": {
          "base_uri": "https://localhost:8080/"
        },
        "id": "ebrnuSFSwsSY",
        "outputId": "364494a8-11b2-42b6-d74c-fa14a03bee64"
      },
      "execution_count": 224,
      "outputs": [
        {
          "output_type": "stream",
          "name": "stdout",
          "text": [
            "– A liberal Florida Democrat pulled off an upset victory while President Trump's favored candidate cruised to an easy win Tuesday, setting up a fierce showdown for the governor's mansion in the nation's largest political battleground.<q>Tallahassee Mayor Andrew Gillum, an unabashed progressive, won the Democratic primary, moving him a step away from becoming the state's first black governor.<q>He 'll face off against Trump - backed Republican Rep. Ron DeSantis.<q>The results immediately transformed the Florida race into one of the most closely watched gubernatorial campaigns in the country.<q>Gillum's primary victory could help Democrats boost enthusiasm among minorities who often don't vote in large numbers in years when a presidential candidate isn't on the ballot.<q>Gillum is his party's third black gubernatorial nominee this year, along with Stacey Abrams in Georgia and Ben Jealous in Maryland.<q>Gillum has become the first African - American nominee for Florida governor, reports the AP.<q>In Arizona, primary contests were shadowed by the death of Sen. John McCain.<q>Gillum was one of several Republicans running in contests Tuesday in Florida and Arizona — another closely watched political battleground — who hoped that cozying up to the president would be rewarded by voters.<q>\" We're going to bring this thing home, \" he said.<q>\" But man, to beat someone of his caliber is a big, big deal. \"<q>Gillum, who won the primary, became the first black governor, will face a Democrat in November.\n",
            "\n"
          ]
        }
      ]
    },
    {
      "cell_type": "code",
      "source": [
        "print(save_gold)"
      ],
      "metadata": {
        "colab": {
          "base_uri": "https://localhost:8080/"
        },
        "id": "MLNJVuhuwthP",
        "outputId": "76e653cc-f133-4ec1-dad8-12a99c65d5ce"
      },
      "execution_count": 225,
      "outputs": [
        {
          "output_type": "stream",
          "name": "stdout",
          "text": [
            "– Andrew Gillum pulled off an upset victory in Florida on Tuesday to become the state 's first black nominee for governor , the AP reports .<q>The Bernie Sanders - backed liberal Democrat , currently the mayor of Tallahassee , will run against President Trump - endorsed Republican Rep. Ron DeSantis , Fox News reports , results that the AP says \" immediately transformed the Florida race into one of the most closely watched gubernatorial campaigns in the country . \"<q>The Huffington Post says the November election will be \" a referendum \" on the president .<q>Trump congratulated DeSantis on Twitter after his win .<q>More from the primaries in Florida and Arizona , both closely watched political battleground states , plus a runoff election in Oklahoma on Tuesday : Florida Senate race : Current Florida Gov. Rick Scott , who is term - limited in that role , won the GOP nomination and will run against incumbent Democratic Sen. Bill Nelson , who ran unopposed in the Democratic primary and is seen as vulnerable .\n",
            "\n"
          ]
        }
      ]
    },
    {
      "cell_type": "code",
      "source": [
        "for sent in save_pred.split(\"<q>\"):\n",
        "    print(sent)"
      ],
      "metadata": {
        "colab": {
          "base_uri": "https://localhost:8080/"
        },
        "id": "U5NOF6s1e_cg",
        "outputId": "5efd5bb7-7d4a-4d3f-b23b-5f2ab2a07c82"
      },
      "execution_count": 226,
      "outputs": [
        {
          "output_type": "stream",
          "name": "stdout",
          "text": [
            "– A liberal Florida Democrat pulled off an upset victory while President Trump's favored candidate cruised to an easy win Tuesday, setting up a fierce showdown for the governor's mansion in the nation's largest political battleground.\n",
            "Tallahassee Mayor Andrew Gillum, an unabashed progressive, won the Democratic primary, moving him a step away from becoming the state's first black governor.\n",
            "He 'll face off against Trump - backed Republican Rep. Ron DeSantis.\n",
            "The results immediately transformed the Florida race into one of the most closely watched gubernatorial campaigns in the country.\n",
            "Gillum's primary victory could help Democrats boost enthusiasm among minorities who often don't vote in large numbers in years when a presidential candidate isn't on the ballot.\n",
            "Gillum is his party's third black gubernatorial nominee this year, along with Stacey Abrams in Georgia and Ben Jealous in Maryland.\n",
            "Gillum has become the first African - American nominee for Florida governor, reports the AP.\n",
            "In Arizona, primary contests were shadowed by the death of Sen. John McCain.\n",
            "Gillum was one of several Republicans running in contests Tuesday in Florida and Arizona — another closely watched political battleground — who hoped that cozying up to the president would be rewarded by voters.\n",
            "\" We're going to bring this thing home, \" he said.\n",
            "\" But man, to beat someone of his caliber is a big, big deal. \"\n",
            "Gillum, who won the primary, became the first black governor, will face a Democrat in November.\n",
            "\n"
          ]
        }
      ]
    },
    {
      "cell_type": "code",
      "source": [
        "for sent in save_gold.split(\"<q>\"):\n",
        "    print(sent)"
      ],
      "metadata": {
        "colab": {
          "base_uri": "https://localhost:8080/"
        },
        "id": "JPLnO7qBe_Zx",
        "outputId": "4dce3d52-5bc9-4a4d-9851-5211ea1e3316"
      },
      "execution_count": 227,
      "outputs": [
        {
          "output_type": "stream",
          "name": "stdout",
          "text": [
            "– Andrew Gillum pulled off an upset victory in Florida on Tuesday to become the state 's first black nominee for governor , the AP reports .\n",
            "The Bernie Sanders - backed liberal Democrat , currently the mayor of Tallahassee , will run against President Trump - endorsed Republican Rep. Ron DeSantis , Fox News reports , results that the AP says \" immediately transformed the Florida race into one of the most closely watched gubernatorial campaigns in the country . \"\n",
            "The Huffington Post says the November election will be \" a referendum \" on the president .\n",
            "Trump congratulated DeSantis on Twitter after his win .\n",
            "More from the primaries in Florida and Arizona , both closely watched political battleground states , plus a runoff election in Oklahoma on Tuesday : Florida Senate race : Current Florida Gov. Rick Scott , who is term - limited in that role , won the GOP nomination and will run against incumbent Democratic Sen. Bill Nelson , who ran unopposed in the Democratic primary and is seen as vulnerable .\n",
            "\n"
          ]
        }
      ]
    },
    {
      "cell_type": "code",
      "source": [
        ""
      ],
      "metadata": {
        "id": "51WKwfE2e_W2"
      },
      "execution_count": 227,
      "outputs": []
    },
    {
      "cell_type": "code",
      "source": [
        ""
      ],
      "metadata": {
        "id": "ck5i5DtBe_Tl"
      },
      "execution_count": null,
      "outputs": []
    },
    {
      "cell_type": "code",
      "source": [
        ""
      ],
      "metadata": {
        "id": "sAkHXtq4e_Qq"
      },
      "execution_count": null,
      "outputs": []
    },
    {
      "cell_type": "code",
      "source": [
        ""
      ],
      "metadata": {
        "id": "BqMhoH2ye_Ny"
      },
      "execution_count": null,
      "outputs": []
    },
    {
      "cell_type": "code",
      "source": [
        ""
      ],
      "metadata": {
        "id": "eovVGd9Me_Kz"
      },
      "execution_count": null,
      "outputs": []
    },
    {
      "cell_type": "code",
      "source": [
        ""
      ],
      "metadata": {
        "id": "MMHXoXrWe-0J"
      },
      "execution_count": null,
      "outputs": []
    },
    {
      "cell_type": "code",
      "source": [
        ""
      ],
      "metadata": {
        "id": "IMuGA4-le-yo"
      },
      "execution_count": null,
      "outputs": []
    },
    {
      "cell_type": "code",
      "source": [
        ""
      ],
      "metadata": {
        "id": "WSzK5orSe-xA"
      },
      "execution_count": null,
      "outputs": []
    },
    {
      "cell_type": "code",
      "source": [
        ""
      ],
      "metadata": {
        "id": "G3OqE83oe-vf"
      },
      "execution_count": null,
      "outputs": []
    },
    {
      "cell_type": "code",
      "source": [
        ""
      ],
      "metadata": {
        "id": "Cz5Ooyzve-ST"
      },
      "execution_count": null,
      "outputs": []
    },
    {
      "cell_type": "code",
      "source": [
        ""
      ],
      "metadata": {
        "id": "Bb_Pwkjye-Pg"
      },
      "execution_count": null,
      "outputs": []
    },
    {
      "cell_type": "code",
      "source": [
        ""
      ],
      "metadata": {
        "id": "bK1dJEbee-M_"
      },
      "execution_count": null,
      "outputs": []
    },
    {
      "cell_type": "code",
      "source": [
        ""
      ],
      "metadata": {
        "id": "c_7ofdYDe-LJ"
      },
      "execution_count": null,
      "outputs": []
    },
    {
      "cell_type": "code",
      "source": [
        ""
      ],
      "metadata": {
        "id": "7nt2RXe3e-Hv"
      },
      "execution_count": null,
      "outputs": []
    },
    {
      "cell_type": "code",
      "source": [
        ""
      ],
      "metadata": {
        "id": "0tykdGPJe-FL"
      },
      "execution_count": null,
      "outputs": []
    },
    {
      "cell_type": "code",
      "source": [
        ""
      ],
      "metadata": {
        "id": "lsz_Vs4Ye-CU"
      },
      "execution_count": null,
      "outputs": []
    },
    {
      "cell_type": "code",
      "source": [
        ""
      ],
      "metadata": {
        "id": "QXct8-Boe9_v"
      },
      "execution_count": null,
      "outputs": []
    },
    {
      "cell_type": "code",
      "source": [
        ""
      ],
      "metadata": {
        "id": "aYYc7MTse989"
      },
      "execution_count": null,
      "outputs": []
    },
    {
      "cell_type": "code",
      "source": [
        ""
      ],
      "metadata": {
        "id": "vlWv5_pgnO2_"
      },
      "execution_count": null,
      "outputs": []
    },
    {
      "cell_type": "code",
      "source": [
        ""
      ],
      "metadata": {
        "id": "ks3X63OBnO0Q"
      },
      "execution_count": null,
      "outputs": []
    }
  ],
  "metadata": {
    "colab": {
      "collapsed_sections": [],
      "name": "Multi-doc Summarization Graduation Thesis demo",
      "provenance": [],
      "machine_shape": "hm",
      "toc_visible": true
    },
    "kernelspec": {
      "display_name": "Python 3",
      "name": "python3"
    },
    "language_info": {
      "name": "python"
    },
    "widgets": {
      "application/vnd.jupyter.widget-state+json": {
        "93c1ef7447c74913ad58bfa9b71c1c03": {
          "model_module": "@jupyter-widgets/controls",
          "model_name": "HBoxModel",
          "model_module_version": "1.5.0",
          "state": {
            "_dom_classes": [],
            "_model_module": "@jupyter-widgets/controls",
            "_model_module_version": "1.5.0",
            "_model_name": "HBoxModel",
            "_view_count": null,
            "_view_module": "@jupyter-widgets/controls",
            "_view_module_version": "1.5.0",
            "_view_name": "HBoxView",
            "box_style": "",
            "children": [
              "IPY_MODEL_5d1efca3e1a64b60ad4df8d08735201d",
              "IPY_MODEL_a07ca387dc8f4ccf84182463e228ef9e",
              "IPY_MODEL_a005ceaf38934211990489e90221964c"
            ],
            "layout": "IPY_MODEL_95cb58f51d12483facfb41038e2c8515"
          }
        },
        "5d1efca3e1a64b60ad4df8d08735201d": {
          "model_module": "@jupyter-widgets/controls",
          "model_name": "HTMLModel",
          "model_module_version": "1.5.0",
          "state": {
            "_dom_classes": [],
            "_model_module": "@jupyter-widgets/controls",
            "_model_module_version": "1.5.0",
            "_model_name": "HTMLModel",
            "_view_count": null,
            "_view_module": "@jupyter-widgets/controls",
            "_view_module_version": "1.5.0",
            "_view_name": "HTMLView",
            "description": "",
            "description_tooltip": null,
            "layout": "IPY_MODEL_37be2cfb72ec405b9c36664de696d505",
            "placeholder": "​",
            "style": "IPY_MODEL_1236213bc43945938ff902153f273524",
            "value": "Downloading https://huggingface.co/stanfordnlp/CoreNLP/resolve/main/stanford-corenlp-latest.zip: 100%"
          }
        },
        "a07ca387dc8f4ccf84182463e228ef9e": {
          "model_module": "@jupyter-widgets/controls",
          "model_name": "FloatProgressModel",
          "model_module_version": "1.5.0",
          "state": {
            "_dom_classes": [],
            "_model_module": "@jupyter-widgets/controls",
            "_model_module_version": "1.5.0",
            "_model_name": "FloatProgressModel",
            "_view_count": null,
            "_view_module": "@jupyter-widgets/controls",
            "_view_module_version": "1.5.0",
            "_view_name": "ProgressView",
            "bar_style": "success",
            "description": "",
            "description_tooltip": null,
            "layout": "IPY_MODEL_4508d538fc92481e8cc008ba03eeb737",
            "max": 506248615,
            "min": 0,
            "orientation": "horizontal",
            "style": "IPY_MODEL_f050f45ef6024a66aaf858c89d7cebe7",
            "value": 506248615
          }
        },
        "a005ceaf38934211990489e90221964c": {
          "model_module": "@jupyter-widgets/controls",
          "model_name": "HTMLModel",
          "model_module_version": "1.5.0",
          "state": {
            "_dom_classes": [],
            "_model_module": "@jupyter-widgets/controls",
            "_model_module_version": "1.5.0",
            "_model_name": "HTMLModel",
            "_view_count": null,
            "_view_module": "@jupyter-widgets/controls",
            "_view_module_version": "1.5.0",
            "_view_name": "HTMLView",
            "description": "",
            "description_tooltip": null,
            "layout": "IPY_MODEL_264d13dd89594d938344a77a7321ba74",
            "placeholder": "​",
            "style": "IPY_MODEL_620fd2ae01c746869a358ecc00d3649a",
            "value": " 506M/506M [00:22&lt;00:00, 14.8MB/s]"
          }
        },
        "95cb58f51d12483facfb41038e2c8515": {
          "model_module": "@jupyter-widgets/base",
          "model_name": "LayoutModel",
          "model_module_version": "1.2.0",
          "state": {
            "_model_module": "@jupyter-widgets/base",
            "_model_module_version": "1.2.0",
            "_model_name": "LayoutModel",
            "_view_count": null,
            "_view_module": "@jupyter-widgets/base",
            "_view_module_version": "1.2.0",
            "_view_name": "LayoutView",
            "align_content": null,
            "align_items": null,
            "align_self": null,
            "border": null,
            "bottom": null,
            "display": null,
            "flex": null,
            "flex_flow": null,
            "grid_area": null,
            "grid_auto_columns": null,
            "grid_auto_flow": null,
            "grid_auto_rows": null,
            "grid_column": null,
            "grid_gap": null,
            "grid_row": null,
            "grid_template_areas": null,
            "grid_template_columns": null,
            "grid_template_rows": null,
            "height": null,
            "justify_content": null,
            "justify_items": null,
            "left": null,
            "margin": null,
            "max_height": null,
            "max_width": null,
            "min_height": null,
            "min_width": null,
            "object_fit": null,
            "object_position": null,
            "order": null,
            "overflow": null,
            "overflow_x": null,
            "overflow_y": null,
            "padding": null,
            "right": null,
            "top": null,
            "visibility": null,
            "width": null
          }
        },
        "37be2cfb72ec405b9c36664de696d505": {
          "model_module": "@jupyter-widgets/base",
          "model_name": "LayoutModel",
          "model_module_version": "1.2.0",
          "state": {
            "_model_module": "@jupyter-widgets/base",
            "_model_module_version": "1.2.0",
            "_model_name": "LayoutModel",
            "_view_count": null,
            "_view_module": "@jupyter-widgets/base",
            "_view_module_version": "1.2.0",
            "_view_name": "LayoutView",
            "align_content": null,
            "align_items": null,
            "align_self": null,
            "border": null,
            "bottom": null,
            "display": null,
            "flex": null,
            "flex_flow": null,
            "grid_area": null,
            "grid_auto_columns": null,
            "grid_auto_flow": null,
            "grid_auto_rows": null,
            "grid_column": null,
            "grid_gap": null,
            "grid_row": null,
            "grid_template_areas": null,
            "grid_template_columns": null,
            "grid_template_rows": null,
            "height": null,
            "justify_content": null,
            "justify_items": null,
            "left": null,
            "margin": null,
            "max_height": null,
            "max_width": null,
            "min_height": null,
            "min_width": null,
            "object_fit": null,
            "object_position": null,
            "order": null,
            "overflow": null,
            "overflow_x": null,
            "overflow_y": null,
            "padding": null,
            "right": null,
            "top": null,
            "visibility": null,
            "width": null
          }
        },
        "1236213bc43945938ff902153f273524": {
          "model_module": "@jupyter-widgets/controls",
          "model_name": "DescriptionStyleModel",
          "model_module_version": "1.5.0",
          "state": {
            "_model_module": "@jupyter-widgets/controls",
            "_model_module_version": "1.5.0",
            "_model_name": "DescriptionStyleModel",
            "_view_count": null,
            "_view_module": "@jupyter-widgets/base",
            "_view_module_version": "1.2.0",
            "_view_name": "StyleView",
            "description_width": ""
          }
        },
        "4508d538fc92481e8cc008ba03eeb737": {
          "model_module": "@jupyter-widgets/base",
          "model_name": "LayoutModel",
          "model_module_version": "1.2.0",
          "state": {
            "_model_module": "@jupyter-widgets/base",
            "_model_module_version": "1.2.0",
            "_model_name": "LayoutModel",
            "_view_count": null,
            "_view_module": "@jupyter-widgets/base",
            "_view_module_version": "1.2.0",
            "_view_name": "LayoutView",
            "align_content": null,
            "align_items": null,
            "align_self": null,
            "border": null,
            "bottom": null,
            "display": null,
            "flex": null,
            "flex_flow": null,
            "grid_area": null,
            "grid_auto_columns": null,
            "grid_auto_flow": null,
            "grid_auto_rows": null,
            "grid_column": null,
            "grid_gap": null,
            "grid_row": null,
            "grid_template_areas": null,
            "grid_template_columns": null,
            "grid_template_rows": null,
            "height": null,
            "justify_content": null,
            "justify_items": null,
            "left": null,
            "margin": null,
            "max_height": null,
            "max_width": null,
            "min_height": null,
            "min_width": null,
            "object_fit": null,
            "object_position": null,
            "order": null,
            "overflow": null,
            "overflow_x": null,
            "overflow_y": null,
            "padding": null,
            "right": null,
            "top": null,
            "visibility": null,
            "width": null
          }
        },
        "f050f45ef6024a66aaf858c89d7cebe7": {
          "model_module": "@jupyter-widgets/controls",
          "model_name": "ProgressStyleModel",
          "model_module_version": "1.5.0",
          "state": {
            "_model_module": "@jupyter-widgets/controls",
            "_model_module_version": "1.5.0",
            "_model_name": "ProgressStyleModel",
            "_view_count": null,
            "_view_module": "@jupyter-widgets/base",
            "_view_module_version": "1.2.0",
            "_view_name": "StyleView",
            "bar_color": null,
            "description_width": ""
          }
        },
        "264d13dd89594d938344a77a7321ba74": {
          "model_module": "@jupyter-widgets/base",
          "model_name": "LayoutModel",
          "model_module_version": "1.2.0",
          "state": {
            "_model_module": "@jupyter-widgets/base",
            "_model_module_version": "1.2.0",
            "_model_name": "LayoutModel",
            "_view_count": null,
            "_view_module": "@jupyter-widgets/base",
            "_view_module_version": "1.2.0",
            "_view_name": "LayoutView",
            "align_content": null,
            "align_items": null,
            "align_self": null,
            "border": null,
            "bottom": null,
            "display": null,
            "flex": null,
            "flex_flow": null,
            "grid_area": null,
            "grid_auto_columns": null,
            "grid_auto_flow": null,
            "grid_auto_rows": null,
            "grid_column": null,
            "grid_gap": null,
            "grid_row": null,
            "grid_template_areas": null,
            "grid_template_columns": null,
            "grid_template_rows": null,
            "height": null,
            "justify_content": null,
            "justify_items": null,
            "left": null,
            "margin": null,
            "max_height": null,
            "max_width": null,
            "min_height": null,
            "min_width": null,
            "object_fit": null,
            "object_position": null,
            "order": null,
            "overflow": null,
            "overflow_x": null,
            "overflow_y": null,
            "padding": null,
            "right": null,
            "top": null,
            "visibility": null,
            "width": null
          }
        },
        "620fd2ae01c746869a358ecc00d3649a": {
          "model_module": "@jupyter-widgets/controls",
          "model_name": "DescriptionStyleModel",
          "model_module_version": "1.5.0",
          "state": {
            "_model_module": "@jupyter-widgets/controls",
            "_model_module_version": "1.5.0",
            "_model_name": "DescriptionStyleModel",
            "_view_count": null,
            "_view_module": "@jupyter-widgets/base",
            "_view_module_version": "1.2.0",
            "_view_name": "StyleView",
            "description_width": ""
          }
        },
        "36e3c86b9b894cb89bb0c25649d2379e": {
          "model_module": "@jupyter-widgets/controls",
          "model_name": "HBoxModel",
          "model_module_version": "1.5.0",
          "state": {
            "_dom_classes": [],
            "_model_module": "@jupyter-widgets/controls",
            "_model_module_version": "1.5.0",
            "_model_name": "HBoxModel",
            "_view_count": null,
            "_view_module": "@jupyter-widgets/controls",
            "_view_module_version": "1.5.0",
            "_view_name": "HBoxView",
            "box_style": "",
            "children": [
              "IPY_MODEL_4be5a139e7924515beefb6e6c8c30270",
              "IPY_MODEL_0a0b8ff5d9234ff39f0334e588bf40fa",
              "IPY_MODEL_5d7e51aa480a4b2eb04b1b401f53c93b"
            ],
            "layout": "IPY_MODEL_c0ceebc443d34483825074d813b36e2c"
          }
        },
        "4be5a139e7924515beefb6e6c8c30270": {
          "model_module": "@jupyter-widgets/controls",
          "model_name": "HTMLModel",
          "model_module_version": "1.5.0",
          "state": {
            "_dom_classes": [],
            "_model_module": "@jupyter-widgets/controls",
            "_model_module_version": "1.5.0",
            "_model_name": "HTMLModel",
            "_view_count": null,
            "_view_module": "@jupyter-widgets/controls",
            "_view_module_version": "1.5.0",
            "_view_name": "HTMLView",
            "description": "",
            "description_tooltip": null,
            "layout": "IPY_MODEL_5f0a9f556f634b899e405ac6df3f5e15",
            "placeholder": "​",
            "style": "IPY_MODEL_d0468bdb4d064607b0810e0bbe6487aa",
            "value": "Downloading vocab.json: 100%"
          }
        },
        "0a0b8ff5d9234ff39f0334e588bf40fa": {
          "model_module": "@jupyter-widgets/controls",
          "model_name": "FloatProgressModel",
          "model_module_version": "1.5.0",
          "state": {
            "_dom_classes": [],
            "_model_module": "@jupyter-widgets/controls",
            "_model_module_version": "1.5.0",
            "_model_name": "FloatProgressModel",
            "_view_count": null,
            "_view_module": "@jupyter-widgets/controls",
            "_view_module_version": "1.5.0",
            "_view_name": "ProgressView",
            "bar_style": "success",
            "description": "",
            "description_tooltip": null,
            "layout": "IPY_MODEL_f30c150dbd9c44cdb1901e3458292b73",
            "max": 898822,
            "min": 0,
            "orientation": "horizontal",
            "style": "IPY_MODEL_ac440eac1cee4550b6be0c17ce739bea",
            "value": 898822
          }
        },
        "5d7e51aa480a4b2eb04b1b401f53c93b": {
          "model_module": "@jupyter-widgets/controls",
          "model_name": "HTMLModel",
          "model_module_version": "1.5.0",
          "state": {
            "_dom_classes": [],
            "_model_module": "@jupyter-widgets/controls",
            "_model_module_version": "1.5.0",
            "_model_name": "HTMLModel",
            "_view_count": null,
            "_view_module": "@jupyter-widgets/controls",
            "_view_module_version": "1.5.0",
            "_view_name": "HTMLView",
            "description": "",
            "description_tooltip": null,
            "layout": "IPY_MODEL_ffdafb9914d149778db5d13a9d559f60",
            "placeholder": "​",
            "style": "IPY_MODEL_27a2062f43fe43e1b9c705bc620b173e",
            "value": " 878k/878k [00:00&lt;00:00, 2.02MB/s]"
          }
        },
        "c0ceebc443d34483825074d813b36e2c": {
          "model_module": "@jupyter-widgets/base",
          "model_name": "LayoutModel",
          "model_module_version": "1.2.0",
          "state": {
            "_model_module": "@jupyter-widgets/base",
            "_model_module_version": "1.2.0",
            "_model_name": "LayoutModel",
            "_view_count": null,
            "_view_module": "@jupyter-widgets/base",
            "_view_module_version": "1.2.0",
            "_view_name": "LayoutView",
            "align_content": null,
            "align_items": null,
            "align_self": null,
            "border": null,
            "bottom": null,
            "display": null,
            "flex": null,
            "flex_flow": null,
            "grid_area": null,
            "grid_auto_columns": null,
            "grid_auto_flow": null,
            "grid_auto_rows": null,
            "grid_column": null,
            "grid_gap": null,
            "grid_row": null,
            "grid_template_areas": null,
            "grid_template_columns": null,
            "grid_template_rows": null,
            "height": null,
            "justify_content": null,
            "justify_items": null,
            "left": null,
            "margin": null,
            "max_height": null,
            "max_width": null,
            "min_height": null,
            "min_width": null,
            "object_fit": null,
            "object_position": null,
            "order": null,
            "overflow": null,
            "overflow_x": null,
            "overflow_y": null,
            "padding": null,
            "right": null,
            "top": null,
            "visibility": null,
            "width": null
          }
        },
        "5f0a9f556f634b899e405ac6df3f5e15": {
          "model_module": "@jupyter-widgets/base",
          "model_name": "LayoutModel",
          "model_module_version": "1.2.0",
          "state": {
            "_model_module": "@jupyter-widgets/base",
            "_model_module_version": "1.2.0",
            "_model_name": "LayoutModel",
            "_view_count": null,
            "_view_module": "@jupyter-widgets/base",
            "_view_module_version": "1.2.0",
            "_view_name": "LayoutView",
            "align_content": null,
            "align_items": null,
            "align_self": null,
            "border": null,
            "bottom": null,
            "display": null,
            "flex": null,
            "flex_flow": null,
            "grid_area": null,
            "grid_auto_columns": null,
            "grid_auto_flow": null,
            "grid_auto_rows": null,
            "grid_column": null,
            "grid_gap": null,
            "grid_row": null,
            "grid_template_areas": null,
            "grid_template_columns": null,
            "grid_template_rows": null,
            "height": null,
            "justify_content": null,
            "justify_items": null,
            "left": null,
            "margin": null,
            "max_height": null,
            "max_width": null,
            "min_height": null,
            "min_width": null,
            "object_fit": null,
            "object_position": null,
            "order": null,
            "overflow": null,
            "overflow_x": null,
            "overflow_y": null,
            "padding": null,
            "right": null,
            "top": null,
            "visibility": null,
            "width": null
          }
        },
        "d0468bdb4d064607b0810e0bbe6487aa": {
          "model_module": "@jupyter-widgets/controls",
          "model_name": "DescriptionStyleModel",
          "model_module_version": "1.5.0",
          "state": {
            "_model_module": "@jupyter-widgets/controls",
            "_model_module_version": "1.5.0",
            "_model_name": "DescriptionStyleModel",
            "_view_count": null,
            "_view_module": "@jupyter-widgets/base",
            "_view_module_version": "1.2.0",
            "_view_name": "StyleView",
            "description_width": ""
          }
        },
        "f30c150dbd9c44cdb1901e3458292b73": {
          "model_module": "@jupyter-widgets/base",
          "model_name": "LayoutModel",
          "model_module_version": "1.2.0",
          "state": {
            "_model_module": "@jupyter-widgets/base",
            "_model_module_version": "1.2.0",
            "_model_name": "LayoutModel",
            "_view_count": null,
            "_view_module": "@jupyter-widgets/base",
            "_view_module_version": "1.2.0",
            "_view_name": "LayoutView",
            "align_content": null,
            "align_items": null,
            "align_self": null,
            "border": null,
            "bottom": null,
            "display": null,
            "flex": null,
            "flex_flow": null,
            "grid_area": null,
            "grid_auto_columns": null,
            "grid_auto_flow": null,
            "grid_auto_rows": null,
            "grid_column": null,
            "grid_gap": null,
            "grid_row": null,
            "grid_template_areas": null,
            "grid_template_columns": null,
            "grid_template_rows": null,
            "height": null,
            "justify_content": null,
            "justify_items": null,
            "left": null,
            "margin": null,
            "max_height": null,
            "max_width": null,
            "min_height": null,
            "min_width": null,
            "object_fit": null,
            "object_position": null,
            "order": null,
            "overflow": null,
            "overflow_x": null,
            "overflow_y": null,
            "padding": null,
            "right": null,
            "top": null,
            "visibility": null,
            "width": null
          }
        },
        "ac440eac1cee4550b6be0c17ce739bea": {
          "model_module": "@jupyter-widgets/controls",
          "model_name": "ProgressStyleModel",
          "model_module_version": "1.5.0",
          "state": {
            "_model_module": "@jupyter-widgets/controls",
            "_model_module_version": "1.5.0",
            "_model_name": "ProgressStyleModel",
            "_view_count": null,
            "_view_module": "@jupyter-widgets/base",
            "_view_module_version": "1.2.0",
            "_view_name": "StyleView",
            "bar_color": null,
            "description_width": ""
          }
        },
        "ffdafb9914d149778db5d13a9d559f60": {
          "model_module": "@jupyter-widgets/base",
          "model_name": "LayoutModel",
          "model_module_version": "1.2.0",
          "state": {
            "_model_module": "@jupyter-widgets/base",
            "_model_module_version": "1.2.0",
            "_model_name": "LayoutModel",
            "_view_count": null,
            "_view_module": "@jupyter-widgets/base",
            "_view_module_version": "1.2.0",
            "_view_name": "LayoutView",
            "align_content": null,
            "align_items": null,
            "align_self": null,
            "border": null,
            "bottom": null,
            "display": null,
            "flex": null,
            "flex_flow": null,
            "grid_area": null,
            "grid_auto_columns": null,
            "grid_auto_flow": null,
            "grid_auto_rows": null,
            "grid_column": null,
            "grid_gap": null,
            "grid_row": null,
            "grid_template_areas": null,
            "grid_template_columns": null,
            "grid_template_rows": null,
            "height": null,
            "justify_content": null,
            "justify_items": null,
            "left": null,
            "margin": null,
            "max_height": null,
            "max_width": null,
            "min_height": null,
            "min_width": null,
            "object_fit": null,
            "object_position": null,
            "order": null,
            "overflow": null,
            "overflow_x": null,
            "overflow_y": null,
            "padding": null,
            "right": null,
            "top": null,
            "visibility": null,
            "width": null
          }
        },
        "27a2062f43fe43e1b9c705bc620b173e": {
          "model_module": "@jupyter-widgets/controls",
          "model_name": "DescriptionStyleModel",
          "model_module_version": "1.5.0",
          "state": {
            "_model_module": "@jupyter-widgets/controls",
            "_model_module_version": "1.5.0",
            "_model_name": "DescriptionStyleModel",
            "_view_count": null,
            "_view_module": "@jupyter-widgets/base",
            "_view_module_version": "1.2.0",
            "_view_name": "StyleView",
            "description_width": ""
          }
        },
        "606453014ef24ab5818343996b59a72f": {
          "model_module": "@jupyter-widgets/controls",
          "model_name": "HBoxModel",
          "model_module_version": "1.5.0",
          "state": {
            "_dom_classes": [],
            "_model_module": "@jupyter-widgets/controls",
            "_model_module_version": "1.5.0",
            "_model_name": "HBoxModel",
            "_view_count": null,
            "_view_module": "@jupyter-widgets/controls",
            "_view_module_version": "1.5.0",
            "_view_name": "HBoxView",
            "box_style": "",
            "children": [
              "IPY_MODEL_4210503d60f24395890d22b7b11be9f9",
              "IPY_MODEL_fb72bf6b7ed64525901a27460221db1a",
              "IPY_MODEL_18510a25fbef40c2976ca4286522de73"
            ],
            "layout": "IPY_MODEL_865afc54118f4f5ab6c62db00ac505b2"
          }
        },
        "4210503d60f24395890d22b7b11be9f9": {
          "model_module": "@jupyter-widgets/controls",
          "model_name": "HTMLModel",
          "model_module_version": "1.5.0",
          "state": {
            "_dom_classes": [],
            "_model_module": "@jupyter-widgets/controls",
            "_model_module_version": "1.5.0",
            "_model_name": "HTMLModel",
            "_view_count": null,
            "_view_module": "@jupyter-widgets/controls",
            "_view_module_version": "1.5.0",
            "_view_name": "HTMLView",
            "description": "",
            "description_tooltip": null,
            "layout": "IPY_MODEL_f0c1434e9c7d4b5f819bfff322a1d12c",
            "placeholder": "​",
            "style": "IPY_MODEL_3b04c0e18215490c9dacb0891b967435",
            "value": "Downloading merges.txt: 100%"
          }
        },
        "fb72bf6b7ed64525901a27460221db1a": {
          "model_module": "@jupyter-widgets/controls",
          "model_name": "FloatProgressModel",
          "model_module_version": "1.5.0",
          "state": {
            "_dom_classes": [],
            "_model_module": "@jupyter-widgets/controls",
            "_model_module_version": "1.5.0",
            "_model_name": "FloatProgressModel",
            "_view_count": null,
            "_view_module": "@jupyter-widgets/controls",
            "_view_module_version": "1.5.0",
            "_view_name": "ProgressView",
            "bar_style": "success",
            "description": "",
            "description_tooltip": null,
            "layout": "IPY_MODEL_9588aef34846486c93fad6e4a267a231",
            "max": 456318,
            "min": 0,
            "orientation": "horizontal",
            "style": "IPY_MODEL_1f6a5077c6da4893beb293e8b8d07ce9",
            "value": 456318
          }
        },
        "18510a25fbef40c2976ca4286522de73": {
          "model_module": "@jupyter-widgets/controls",
          "model_name": "HTMLModel",
          "model_module_version": "1.5.0",
          "state": {
            "_dom_classes": [],
            "_model_module": "@jupyter-widgets/controls",
            "_model_module_version": "1.5.0",
            "_model_name": "HTMLModel",
            "_view_count": null,
            "_view_module": "@jupyter-widgets/controls",
            "_view_module_version": "1.5.0",
            "_view_name": "HTMLView",
            "description": "",
            "description_tooltip": null,
            "layout": "IPY_MODEL_652eb24c8eb74b33ac3cc21d88156b28",
            "placeholder": "​",
            "style": "IPY_MODEL_91424e7cab384b0cb06ee01747346a70",
            "value": " 446k/446k [00:00&lt;00:00, 595kB/s]"
          }
        },
        "865afc54118f4f5ab6c62db00ac505b2": {
          "model_module": "@jupyter-widgets/base",
          "model_name": "LayoutModel",
          "model_module_version": "1.2.0",
          "state": {
            "_model_module": "@jupyter-widgets/base",
            "_model_module_version": "1.2.0",
            "_model_name": "LayoutModel",
            "_view_count": null,
            "_view_module": "@jupyter-widgets/base",
            "_view_module_version": "1.2.0",
            "_view_name": "LayoutView",
            "align_content": null,
            "align_items": null,
            "align_self": null,
            "border": null,
            "bottom": null,
            "display": null,
            "flex": null,
            "flex_flow": null,
            "grid_area": null,
            "grid_auto_columns": null,
            "grid_auto_flow": null,
            "grid_auto_rows": null,
            "grid_column": null,
            "grid_gap": null,
            "grid_row": null,
            "grid_template_areas": null,
            "grid_template_columns": null,
            "grid_template_rows": null,
            "height": null,
            "justify_content": null,
            "justify_items": null,
            "left": null,
            "margin": null,
            "max_height": null,
            "max_width": null,
            "min_height": null,
            "min_width": null,
            "object_fit": null,
            "object_position": null,
            "order": null,
            "overflow": null,
            "overflow_x": null,
            "overflow_y": null,
            "padding": null,
            "right": null,
            "top": null,
            "visibility": null,
            "width": null
          }
        },
        "f0c1434e9c7d4b5f819bfff322a1d12c": {
          "model_module": "@jupyter-widgets/base",
          "model_name": "LayoutModel",
          "model_module_version": "1.2.0",
          "state": {
            "_model_module": "@jupyter-widgets/base",
            "_model_module_version": "1.2.0",
            "_model_name": "LayoutModel",
            "_view_count": null,
            "_view_module": "@jupyter-widgets/base",
            "_view_module_version": "1.2.0",
            "_view_name": "LayoutView",
            "align_content": null,
            "align_items": null,
            "align_self": null,
            "border": null,
            "bottom": null,
            "display": null,
            "flex": null,
            "flex_flow": null,
            "grid_area": null,
            "grid_auto_columns": null,
            "grid_auto_flow": null,
            "grid_auto_rows": null,
            "grid_column": null,
            "grid_gap": null,
            "grid_row": null,
            "grid_template_areas": null,
            "grid_template_columns": null,
            "grid_template_rows": null,
            "height": null,
            "justify_content": null,
            "justify_items": null,
            "left": null,
            "margin": null,
            "max_height": null,
            "max_width": null,
            "min_height": null,
            "min_width": null,
            "object_fit": null,
            "object_position": null,
            "order": null,
            "overflow": null,
            "overflow_x": null,
            "overflow_y": null,
            "padding": null,
            "right": null,
            "top": null,
            "visibility": null,
            "width": null
          }
        },
        "3b04c0e18215490c9dacb0891b967435": {
          "model_module": "@jupyter-widgets/controls",
          "model_name": "DescriptionStyleModel",
          "model_module_version": "1.5.0",
          "state": {
            "_model_module": "@jupyter-widgets/controls",
            "_model_module_version": "1.5.0",
            "_model_name": "DescriptionStyleModel",
            "_view_count": null,
            "_view_module": "@jupyter-widgets/base",
            "_view_module_version": "1.2.0",
            "_view_name": "StyleView",
            "description_width": ""
          }
        },
        "9588aef34846486c93fad6e4a267a231": {
          "model_module": "@jupyter-widgets/base",
          "model_name": "LayoutModel",
          "model_module_version": "1.2.0",
          "state": {
            "_model_module": "@jupyter-widgets/base",
            "_model_module_version": "1.2.0",
            "_model_name": "LayoutModel",
            "_view_count": null,
            "_view_module": "@jupyter-widgets/base",
            "_view_module_version": "1.2.0",
            "_view_name": "LayoutView",
            "align_content": null,
            "align_items": null,
            "align_self": null,
            "border": null,
            "bottom": null,
            "display": null,
            "flex": null,
            "flex_flow": null,
            "grid_area": null,
            "grid_auto_columns": null,
            "grid_auto_flow": null,
            "grid_auto_rows": null,
            "grid_column": null,
            "grid_gap": null,
            "grid_row": null,
            "grid_template_areas": null,
            "grid_template_columns": null,
            "grid_template_rows": null,
            "height": null,
            "justify_content": null,
            "justify_items": null,
            "left": null,
            "margin": null,
            "max_height": null,
            "max_width": null,
            "min_height": null,
            "min_width": null,
            "object_fit": null,
            "object_position": null,
            "order": null,
            "overflow": null,
            "overflow_x": null,
            "overflow_y": null,
            "padding": null,
            "right": null,
            "top": null,
            "visibility": null,
            "width": null
          }
        },
        "1f6a5077c6da4893beb293e8b8d07ce9": {
          "model_module": "@jupyter-widgets/controls",
          "model_name": "ProgressStyleModel",
          "model_module_version": "1.5.0",
          "state": {
            "_model_module": "@jupyter-widgets/controls",
            "_model_module_version": "1.5.0",
            "_model_name": "ProgressStyleModel",
            "_view_count": null,
            "_view_module": "@jupyter-widgets/base",
            "_view_module_version": "1.2.0",
            "_view_name": "StyleView",
            "bar_color": null,
            "description_width": ""
          }
        },
        "652eb24c8eb74b33ac3cc21d88156b28": {
          "model_module": "@jupyter-widgets/base",
          "model_name": "LayoutModel",
          "model_module_version": "1.2.0",
          "state": {
            "_model_module": "@jupyter-widgets/base",
            "_model_module_version": "1.2.0",
            "_model_name": "LayoutModel",
            "_view_count": null,
            "_view_module": "@jupyter-widgets/base",
            "_view_module_version": "1.2.0",
            "_view_name": "LayoutView",
            "align_content": null,
            "align_items": null,
            "align_self": null,
            "border": null,
            "bottom": null,
            "display": null,
            "flex": null,
            "flex_flow": null,
            "grid_area": null,
            "grid_auto_columns": null,
            "grid_auto_flow": null,
            "grid_auto_rows": null,
            "grid_column": null,
            "grid_gap": null,
            "grid_row": null,
            "grid_template_areas": null,
            "grid_template_columns": null,
            "grid_template_rows": null,
            "height": null,
            "justify_content": null,
            "justify_items": null,
            "left": null,
            "margin": null,
            "max_height": null,
            "max_width": null,
            "min_height": null,
            "min_width": null,
            "object_fit": null,
            "object_position": null,
            "order": null,
            "overflow": null,
            "overflow_x": null,
            "overflow_y": null,
            "padding": null,
            "right": null,
            "top": null,
            "visibility": null,
            "width": null
          }
        },
        "91424e7cab384b0cb06ee01747346a70": {
          "model_module": "@jupyter-widgets/controls",
          "model_name": "DescriptionStyleModel",
          "model_module_version": "1.5.0",
          "state": {
            "_model_module": "@jupyter-widgets/controls",
            "_model_module_version": "1.5.0",
            "_model_name": "DescriptionStyleModel",
            "_view_count": null,
            "_view_module": "@jupyter-widgets/base",
            "_view_module_version": "1.2.0",
            "_view_name": "StyleView",
            "description_width": ""
          }
        },
        "c86755d9214f4e88a0c6a2b9b39fb450": {
          "model_module": "@jupyter-widgets/controls",
          "model_name": "HBoxModel",
          "model_module_version": "1.5.0",
          "state": {
            "_dom_classes": [],
            "_model_module": "@jupyter-widgets/controls",
            "_model_module_version": "1.5.0",
            "_model_name": "HBoxModel",
            "_view_count": null,
            "_view_module": "@jupyter-widgets/controls",
            "_view_module_version": "1.5.0",
            "_view_name": "HBoxView",
            "box_style": "",
            "children": [
              "IPY_MODEL_a48007374ad843fb8a2004d0f594a95d",
              "IPY_MODEL_270ee2f407ce4cd3b880d71d646ed9d0",
              "IPY_MODEL_32847bc4075a4dc7b124d76eef5f7d10"
            ],
            "layout": "IPY_MODEL_6380c08dffaa420584f70601ed1991f4"
          }
        },
        "a48007374ad843fb8a2004d0f594a95d": {
          "model_module": "@jupyter-widgets/controls",
          "model_name": "HTMLModel",
          "model_module_version": "1.5.0",
          "state": {
            "_dom_classes": [],
            "_model_module": "@jupyter-widgets/controls",
            "_model_module_version": "1.5.0",
            "_model_name": "HTMLModel",
            "_view_count": null,
            "_view_module": "@jupyter-widgets/controls",
            "_view_module_version": "1.5.0",
            "_view_name": "HTMLView",
            "description": "",
            "description_tooltip": null,
            "layout": "IPY_MODEL_a3f2c068714b4e08832f3ae563addfd7",
            "placeholder": "​",
            "style": "IPY_MODEL_590b54f401ad4fdfa6399758059e9c76",
            "value": "Downloading special_tokens_map.json: 100%"
          }
        },
        "270ee2f407ce4cd3b880d71d646ed9d0": {
          "model_module": "@jupyter-widgets/controls",
          "model_name": "FloatProgressModel",
          "model_module_version": "1.5.0",
          "state": {
            "_dom_classes": [],
            "_model_module": "@jupyter-widgets/controls",
            "_model_module_version": "1.5.0",
            "_model_name": "FloatProgressModel",
            "_view_count": null,
            "_view_module": "@jupyter-widgets/controls",
            "_view_module_version": "1.5.0",
            "_view_name": "ProgressView",
            "bar_style": "success",
            "description": "",
            "description_tooltip": null,
            "layout": "IPY_MODEL_0d3ce2b0672b498dbfda9095c14f0fbc",
            "max": 772,
            "min": 0,
            "orientation": "horizontal",
            "style": "IPY_MODEL_8d96d4ad742c4fc9bab0e33493592ebc",
            "value": 772
          }
        },
        "32847bc4075a4dc7b124d76eef5f7d10": {
          "model_module": "@jupyter-widgets/controls",
          "model_name": "HTMLModel",
          "model_module_version": "1.5.0",
          "state": {
            "_dom_classes": [],
            "_model_module": "@jupyter-widgets/controls",
            "_model_module_version": "1.5.0",
            "_model_name": "HTMLModel",
            "_view_count": null,
            "_view_module": "@jupyter-widgets/controls",
            "_view_module_version": "1.5.0",
            "_view_name": "HTMLView",
            "description": "",
            "description_tooltip": null,
            "layout": "IPY_MODEL_8b0aa80f09c94f228683eb72dd2b737a",
            "placeholder": "​",
            "style": "IPY_MODEL_adfd3e6289c246ed88ded4d712808367",
            "value": " 772/772 [00:00&lt;00:00, 28.3kB/s]"
          }
        },
        "6380c08dffaa420584f70601ed1991f4": {
          "model_module": "@jupyter-widgets/base",
          "model_name": "LayoutModel",
          "model_module_version": "1.2.0",
          "state": {
            "_model_module": "@jupyter-widgets/base",
            "_model_module_version": "1.2.0",
            "_model_name": "LayoutModel",
            "_view_count": null,
            "_view_module": "@jupyter-widgets/base",
            "_view_module_version": "1.2.0",
            "_view_name": "LayoutView",
            "align_content": null,
            "align_items": null,
            "align_self": null,
            "border": null,
            "bottom": null,
            "display": null,
            "flex": null,
            "flex_flow": null,
            "grid_area": null,
            "grid_auto_columns": null,
            "grid_auto_flow": null,
            "grid_auto_rows": null,
            "grid_column": null,
            "grid_gap": null,
            "grid_row": null,
            "grid_template_areas": null,
            "grid_template_columns": null,
            "grid_template_rows": null,
            "height": null,
            "justify_content": null,
            "justify_items": null,
            "left": null,
            "margin": null,
            "max_height": null,
            "max_width": null,
            "min_height": null,
            "min_width": null,
            "object_fit": null,
            "object_position": null,
            "order": null,
            "overflow": null,
            "overflow_x": null,
            "overflow_y": null,
            "padding": null,
            "right": null,
            "top": null,
            "visibility": null,
            "width": null
          }
        },
        "a3f2c068714b4e08832f3ae563addfd7": {
          "model_module": "@jupyter-widgets/base",
          "model_name": "LayoutModel",
          "model_module_version": "1.2.0",
          "state": {
            "_model_module": "@jupyter-widgets/base",
            "_model_module_version": "1.2.0",
            "_model_name": "LayoutModel",
            "_view_count": null,
            "_view_module": "@jupyter-widgets/base",
            "_view_module_version": "1.2.0",
            "_view_name": "LayoutView",
            "align_content": null,
            "align_items": null,
            "align_self": null,
            "border": null,
            "bottom": null,
            "display": null,
            "flex": null,
            "flex_flow": null,
            "grid_area": null,
            "grid_auto_columns": null,
            "grid_auto_flow": null,
            "grid_auto_rows": null,
            "grid_column": null,
            "grid_gap": null,
            "grid_row": null,
            "grid_template_areas": null,
            "grid_template_columns": null,
            "grid_template_rows": null,
            "height": null,
            "justify_content": null,
            "justify_items": null,
            "left": null,
            "margin": null,
            "max_height": null,
            "max_width": null,
            "min_height": null,
            "min_width": null,
            "object_fit": null,
            "object_position": null,
            "order": null,
            "overflow": null,
            "overflow_x": null,
            "overflow_y": null,
            "padding": null,
            "right": null,
            "top": null,
            "visibility": null,
            "width": null
          }
        },
        "590b54f401ad4fdfa6399758059e9c76": {
          "model_module": "@jupyter-widgets/controls",
          "model_name": "DescriptionStyleModel",
          "model_module_version": "1.5.0",
          "state": {
            "_model_module": "@jupyter-widgets/controls",
            "_model_module_version": "1.5.0",
            "_model_name": "DescriptionStyleModel",
            "_view_count": null,
            "_view_module": "@jupyter-widgets/base",
            "_view_module_version": "1.2.0",
            "_view_name": "StyleView",
            "description_width": ""
          }
        },
        "0d3ce2b0672b498dbfda9095c14f0fbc": {
          "model_module": "@jupyter-widgets/base",
          "model_name": "LayoutModel",
          "model_module_version": "1.2.0",
          "state": {
            "_model_module": "@jupyter-widgets/base",
            "_model_module_version": "1.2.0",
            "_model_name": "LayoutModel",
            "_view_count": null,
            "_view_module": "@jupyter-widgets/base",
            "_view_module_version": "1.2.0",
            "_view_name": "LayoutView",
            "align_content": null,
            "align_items": null,
            "align_self": null,
            "border": null,
            "bottom": null,
            "display": null,
            "flex": null,
            "flex_flow": null,
            "grid_area": null,
            "grid_auto_columns": null,
            "grid_auto_flow": null,
            "grid_auto_rows": null,
            "grid_column": null,
            "grid_gap": null,
            "grid_row": null,
            "grid_template_areas": null,
            "grid_template_columns": null,
            "grid_template_rows": null,
            "height": null,
            "justify_content": null,
            "justify_items": null,
            "left": null,
            "margin": null,
            "max_height": null,
            "max_width": null,
            "min_height": null,
            "min_width": null,
            "object_fit": null,
            "object_position": null,
            "order": null,
            "overflow": null,
            "overflow_x": null,
            "overflow_y": null,
            "padding": null,
            "right": null,
            "top": null,
            "visibility": null,
            "width": null
          }
        },
        "8d96d4ad742c4fc9bab0e33493592ebc": {
          "model_module": "@jupyter-widgets/controls",
          "model_name": "ProgressStyleModel",
          "model_module_version": "1.5.0",
          "state": {
            "_model_module": "@jupyter-widgets/controls",
            "_model_module_version": "1.5.0",
            "_model_name": "ProgressStyleModel",
            "_view_count": null,
            "_view_module": "@jupyter-widgets/base",
            "_view_module_version": "1.2.0",
            "_view_name": "StyleView",
            "bar_color": null,
            "description_width": ""
          }
        },
        "8b0aa80f09c94f228683eb72dd2b737a": {
          "model_module": "@jupyter-widgets/base",
          "model_name": "LayoutModel",
          "model_module_version": "1.2.0",
          "state": {
            "_model_module": "@jupyter-widgets/base",
            "_model_module_version": "1.2.0",
            "_model_name": "LayoutModel",
            "_view_count": null,
            "_view_module": "@jupyter-widgets/base",
            "_view_module_version": "1.2.0",
            "_view_name": "LayoutView",
            "align_content": null,
            "align_items": null,
            "align_self": null,
            "border": null,
            "bottom": null,
            "display": null,
            "flex": null,
            "flex_flow": null,
            "grid_area": null,
            "grid_auto_columns": null,
            "grid_auto_flow": null,
            "grid_auto_rows": null,
            "grid_column": null,
            "grid_gap": null,
            "grid_row": null,
            "grid_template_areas": null,
            "grid_template_columns": null,
            "grid_template_rows": null,
            "height": null,
            "justify_content": null,
            "justify_items": null,
            "left": null,
            "margin": null,
            "max_height": null,
            "max_width": null,
            "min_height": null,
            "min_width": null,
            "object_fit": null,
            "object_position": null,
            "order": null,
            "overflow": null,
            "overflow_x": null,
            "overflow_y": null,
            "padding": null,
            "right": null,
            "top": null,
            "visibility": null,
            "width": null
          }
        },
        "adfd3e6289c246ed88ded4d712808367": {
          "model_module": "@jupyter-widgets/controls",
          "model_name": "DescriptionStyleModel",
          "model_module_version": "1.5.0",
          "state": {
            "_model_module": "@jupyter-widgets/controls",
            "_model_module_version": "1.5.0",
            "_model_name": "DescriptionStyleModel",
            "_view_count": null,
            "_view_module": "@jupyter-widgets/base",
            "_view_module_version": "1.2.0",
            "_view_name": "StyleView",
            "description_width": ""
          }
        },
        "7361a57ebca442f5b0792501a24c93e0": {
          "model_module": "@jupyter-widgets/controls",
          "model_name": "HBoxModel",
          "model_module_version": "1.5.0",
          "state": {
            "_dom_classes": [],
            "_model_module": "@jupyter-widgets/controls",
            "_model_module_version": "1.5.0",
            "_model_name": "HBoxModel",
            "_view_count": null,
            "_view_module": "@jupyter-widgets/controls",
            "_view_module_version": "1.5.0",
            "_view_name": "HBoxView",
            "box_style": "",
            "children": [
              "IPY_MODEL_4733602a3467480da5fc3a95c566b91a",
              "IPY_MODEL_e9826be0e4ea4f699d78d2c48b51135e",
              "IPY_MODEL_60be7a5c739f497ea528735f59ee514a"
            ],
            "layout": "IPY_MODEL_1f3751a11948414e8834ae5b8ebb3156"
          }
        },
        "4733602a3467480da5fc3a95c566b91a": {
          "model_module": "@jupyter-widgets/controls",
          "model_name": "HTMLModel",
          "model_module_version": "1.5.0",
          "state": {
            "_dom_classes": [],
            "_model_module": "@jupyter-widgets/controls",
            "_model_module_version": "1.5.0",
            "_model_name": "HTMLModel",
            "_view_count": null,
            "_view_module": "@jupyter-widgets/controls",
            "_view_module_version": "1.5.0",
            "_view_name": "HTMLView",
            "description": "",
            "description_tooltip": null,
            "layout": "IPY_MODEL_2200b9d21a4d48a19b79d071848e77fd",
            "placeholder": "​",
            "style": "IPY_MODEL_5a4b0dffb9cb4a99a8bcbc37f58eecea",
            "value": "Downloading tokenizer_config.json: 100%"
          }
        },
        "e9826be0e4ea4f699d78d2c48b51135e": {
          "model_module": "@jupyter-widgets/controls",
          "model_name": "FloatProgressModel",
          "model_module_version": "1.5.0",
          "state": {
            "_dom_classes": [],
            "_model_module": "@jupyter-widgets/controls",
            "_model_module_version": "1.5.0",
            "_model_name": "FloatProgressModel",
            "_view_count": null,
            "_view_module": "@jupyter-widgets/controls",
            "_view_module_version": "1.5.0",
            "_view_name": "ProgressView",
            "bar_style": "success",
            "description": "",
            "description_tooltip": null,
            "layout": "IPY_MODEL_d9aec02387d44be89c63bea9e7f8d7f2",
            "max": 27,
            "min": 0,
            "orientation": "horizontal",
            "style": "IPY_MODEL_5134359606e34cddbe3840a72034f61c",
            "value": 27
          }
        },
        "60be7a5c739f497ea528735f59ee514a": {
          "model_module": "@jupyter-widgets/controls",
          "model_name": "HTMLModel",
          "model_module_version": "1.5.0",
          "state": {
            "_dom_classes": [],
            "_model_module": "@jupyter-widgets/controls",
            "_model_module_version": "1.5.0",
            "_model_name": "HTMLModel",
            "_view_count": null,
            "_view_module": "@jupyter-widgets/controls",
            "_view_module_version": "1.5.0",
            "_view_name": "HTMLView",
            "description": "",
            "description_tooltip": null,
            "layout": "IPY_MODEL_ed840150847b47a08231173259ef89cc",
            "placeholder": "​",
            "style": "IPY_MODEL_283795d310264afc896fec5d182df8b7",
            "value": " 27.0/27.0 [00:00&lt;00:00, 976B/s]"
          }
        },
        "1f3751a11948414e8834ae5b8ebb3156": {
          "model_module": "@jupyter-widgets/base",
          "model_name": "LayoutModel",
          "model_module_version": "1.2.0",
          "state": {
            "_model_module": "@jupyter-widgets/base",
            "_model_module_version": "1.2.0",
            "_model_name": "LayoutModel",
            "_view_count": null,
            "_view_module": "@jupyter-widgets/base",
            "_view_module_version": "1.2.0",
            "_view_name": "LayoutView",
            "align_content": null,
            "align_items": null,
            "align_self": null,
            "border": null,
            "bottom": null,
            "display": null,
            "flex": null,
            "flex_flow": null,
            "grid_area": null,
            "grid_auto_columns": null,
            "grid_auto_flow": null,
            "grid_auto_rows": null,
            "grid_column": null,
            "grid_gap": null,
            "grid_row": null,
            "grid_template_areas": null,
            "grid_template_columns": null,
            "grid_template_rows": null,
            "height": null,
            "justify_content": null,
            "justify_items": null,
            "left": null,
            "margin": null,
            "max_height": null,
            "max_width": null,
            "min_height": null,
            "min_width": null,
            "object_fit": null,
            "object_position": null,
            "order": null,
            "overflow": null,
            "overflow_x": null,
            "overflow_y": null,
            "padding": null,
            "right": null,
            "top": null,
            "visibility": null,
            "width": null
          }
        },
        "2200b9d21a4d48a19b79d071848e77fd": {
          "model_module": "@jupyter-widgets/base",
          "model_name": "LayoutModel",
          "model_module_version": "1.2.0",
          "state": {
            "_model_module": "@jupyter-widgets/base",
            "_model_module_version": "1.2.0",
            "_model_name": "LayoutModel",
            "_view_count": null,
            "_view_module": "@jupyter-widgets/base",
            "_view_module_version": "1.2.0",
            "_view_name": "LayoutView",
            "align_content": null,
            "align_items": null,
            "align_self": null,
            "border": null,
            "bottom": null,
            "display": null,
            "flex": null,
            "flex_flow": null,
            "grid_area": null,
            "grid_auto_columns": null,
            "grid_auto_flow": null,
            "grid_auto_rows": null,
            "grid_column": null,
            "grid_gap": null,
            "grid_row": null,
            "grid_template_areas": null,
            "grid_template_columns": null,
            "grid_template_rows": null,
            "height": null,
            "justify_content": null,
            "justify_items": null,
            "left": null,
            "margin": null,
            "max_height": null,
            "max_width": null,
            "min_height": null,
            "min_width": null,
            "object_fit": null,
            "object_position": null,
            "order": null,
            "overflow": null,
            "overflow_x": null,
            "overflow_y": null,
            "padding": null,
            "right": null,
            "top": null,
            "visibility": null,
            "width": null
          }
        },
        "5a4b0dffb9cb4a99a8bcbc37f58eecea": {
          "model_module": "@jupyter-widgets/controls",
          "model_name": "DescriptionStyleModel",
          "model_module_version": "1.5.0",
          "state": {
            "_model_module": "@jupyter-widgets/controls",
            "_model_module_version": "1.5.0",
            "_model_name": "DescriptionStyleModel",
            "_view_count": null,
            "_view_module": "@jupyter-widgets/base",
            "_view_module_version": "1.2.0",
            "_view_name": "StyleView",
            "description_width": ""
          }
        },
        "d9aec02387d44be89c63bea9e7f8d7f2": {
          "model_module": "@jupyter-widgets/base",
          "model_name": "LayoutModel",
          "model_module_version": "1.2.0",
          "state": {
            "_model_module": "@jupyter-widgets/base",
            "_model_module_version": "1.2.0",
            "_model_name": "LayoutModel",
            "_view_count": null,
            "_view_module": "@jupyter-widgets/base",
            "_view_module_version": "1.2.0",
            "_view_name": "LayoutView",
            "align_content": null,
            "align_items": null,
            "align_self": null,
            "border": null,
            "bottom": null,
            "display": null,
            "flex": null,
            "flex_flow": null,
            "grid_area": null,
            "grid_auto_columns": null,
            "grid_auto_flow": null,
            "grid_auto_rows": null,
            "grid_column": null,
            "grid_gap": null,
            "grid_row": null,
            "grid_template_areas": null,
            "grid_template_columns": null,
            "grid_template_rows": null,
            "height": null,
            "justify_content": null,
            "justify_items": null,
            "left": null,
            "margin": null,
            "max_height": null,
            "max_width": null,
            "min_height": null,
            "min_width": null,
            "object_fit": null,
            "object_position": null,
            "order": null,
            "overflow": null,
            "overflow_x": null,
            "overflow_y": null,
            "padding": null,
            "right": null,
            "top": null,
            "visibility": null,
            "width": null
          }
        },
        "5134359606e34cddbe3840a72034f61c": {
          "model_module": "@jupyter-widgets/controls",
          "model_name": "ProgressStyleModel",
          "model_module_version": "1.5.0",
          "state": {
            "_model_module": "@jupyter-widgets/controls",
            "_model_module_version": "1.5.0",
            "_model_name": "ProgressStyleModel",
            "_view_count": null,
            "_view_module": "@jupyter-widgets/base",
            "_view_module_version": "1.2.0",
            "_view_name": "StyleView",
            "bar_color": null,
            "description_width": ""
          }
        },
        "ed840150847b47a08231173259ef89cc": {
          "model_module": "@jupyter-widgets/base",
          "model_name": "LayoutModel",
          "model_module_version": "1.2.0",
          "state": {
            "_model_module": "@jupyter-widgets/base",
            "_model_module_version": "1.2.0",
            "_model_name": "LayoutModel",
            "_view_count": null,
            "_view_module": "@jupyter-widgets/base",
            "_view_module_version": "1.2.0",
            "_view_name": "LayoutView",
            "align_content": null,
            "align_items": null,
            "align_self": null,
            "border": null,
            "bottom": null,
            "display": null,
            "flex": null,
            "flex_flow": null,
            "grid_area": null,
            "grid_auto_columns": null,
            "grid_auto_flow": null,
            "grid_auto_rows": null,
            "grid_column": null,
            "grid_gap": null,
            "grid_row": null,
            "grid_template_areas": null,
            "grid_template_columns": null,
            "grid_template_rows": null,
            "height": null,
            "justify_content": null,
            "justify_items": null,
            "left": null,
            "margin": null,
            "max_height": null,
            "max_width": null,
            "min_height": null,
            "min_width": null,
            "object_fit": null,
            "object_position": null,
            "order": null,
            "overflow": null,
            "overflow_x": null,
            "overflow_y": null,
            "padding": null,
            "right": null,
            "top": null,
            "visibility": null,
            "width": null
          }
        },
        "283795d310264afc896fec5d182df8b7": {
          "model_module": "@jupyter-widgets/controls",
          "model_name": "DescriptionStyleModel",
          "model_module_version": "1.5.0",
          "state": {
            "_model_module": "@jupyter-widgets/controls",
            "_model_module_version": "1.5.0",
            "_model_name": "DescriptionStyleModel",
            "_view_count": null,
            "_view_module": "@jupyter-widgets/base",
            "_view_module_version": "1.2.0",
            "_view_name": "StyleView",
            "description_width": ""
          }
        },
        "0cfc9189bbfe4388a2c004a7fbb4dcf0": {
          "model_module": "@jupyter-widgets/controls",
          "model_name": "HBoxModel",
          "model_module_version": "1.5.0",
          "state": {
            "_dom_classes": [],
            "_model_module": "@jupyter-widgets/controls",
            "_model_module_version": "1.5.0",
            "_model_name": "HBoxModel",
            "_view_count": null,
            "_view_module": "@jupyter-widgets/controls",
            "_view_module_version": "1.5.0",
            "_view_name": "HBoxView",
            "box_style": "",
            "children": [
              "IPY_MODEL_3bb27ed5f51047018cb069fd4e9f5d31",
              "IPY_MODEL_e06b9ededb354189aefec6d976d4b387",
              "IPY_MODEL_9b54cfe88ac44097bc5c5b3643061799"
            ],
            "layout": "IPY_MODEL_b9915c2681664db6b698c45fc092b34f"
          }
        },
        "3bb27ed5f51047018cb069fd4e9f5d31": {
          "model_module": "@jupyter-widgets/controls",
          "model_name": "HTMLModel",
          "model_module_version": "1.5.0",
          "state": {
            "_dom_classes": [],
            "_model_module": "@jupyter-widgets/controls",
            "_model_module_version": "1.5.0",
            "_model_name": "HTMLModel",
            "_view_count": null,
            "_view_module": "@jupyter-widgets/controls",
            "_view_module_version": "1.5.0",
            "_view_name": "HTMLView",
            "description": "",
            "description_tooltip": null,
            "layout": "IPY_MODEL_828a700551fc4685afa56d5e8fdbd5b0",
            "placeholder": "​",
            "style": "IPY_MODEL_ceb42db10dc74a7496289ccbad04c342",
            "value": "Downloading config.json: 100%"
          }
        },
        "e06b9ededb354189aefec6d976d4b387": {
          "model_module": "@jupyter-widgets/controls",
          "model_name": "FloatProgressModel",
          "model_module_version": "1.5.0",
          "state": {
            "_dom_classes": [],
            "_model_module": "@jupyter-widgets/controls",
            "_model_module_version": "1.5.0",
            "_model_name": "FloatProgressModel",
            "_view_count": null,
            "_view_module": "@jupyter-widgets/controls",
            "_view_module_version": "1.5.0",
            "_view_name": "ProgressView",
            "bar_style": "success",
            "description": "",
            "description_tooltip": null,
            "layout": "IPY_MODEL_4157948a70c3420eb60e6c61ef1588a3",
            "max": 1092,
            "min": 0,
            "orientation": "horizontal",
            "style": "IPY_MODEL_1d3043b97fe64ec4b18e8c0b5152747c",
            "value": 1092
          }
        },
        "9b54cfe88ac44097bc5c5b3643061799": {
          "model_module": "@jupyter-widgets/controls",
          "model_name": "HTMLModel",
          "model_module_version": "1.5.0",
          "state": {
            "_dom_classes": [],
            "_model_module": "@jupyter-widgets/controls",
            "_model_module_version": "1.5.0",
            "_model_name": "HTMLModel",
            "_view_count": null,
            "_view_module": "@jupyter-widgets/controls",
            "_view_module_version": "1.5.0",
            "_view_name": "HTMLView",
            "description": "",
            "description_tooltip": null,
            "layout": "IPY_MODEL_062f16e038924feaa23e93a282eb5932",
            "placeholder": "​",
            "style": "IPY_MODEL_97500934053f491d8aa5190ec88fcb1c",
            "value": " 1.07k/1.07k [00:00&lt;00:00, 34.9kB/s]"
          }
        },
        "b9915c2681664db6b698c45fc092b34f": {
          "model_module": "@jupyter-widgets/base",
          "model_name": "LayoutModel",
          "model_module_version": "1.2.0",
          "state": {
            "_model_module": "@jupyter-widgets/base",
            "_model_module_version": "1.2.0",
            "_model_name": "LayoutModel",
            "_view_count": null,
            "_view_module": "@jupyter-widgets/base",
            "_view_module_version": "1.2.0",
            "_view_name": "LayoutView",
            "align_content": null,
            "align_items": null,
            "align_self": null,
            "border": null,
            "bottom": null,
            "display": null,
            "flex": null,
            "flex_flow": null,
            "grid_area": null,
            "grid_auto_columns": null,
            "grid_auto_flow": null,
            "grid_auto_rows": null,
            "grid_column": null,
            "grid_gap": null,
            "grid_row": null,
            "grid_template_areas": null,
            "grid_template_columns": null,
            "grid_template_rows": null,
            "height": null,
            "justify_content": null,
            "justify_items": null,
            "left": null,
            "margin": null,
            "max_height": null,
            "max_width": null,
            "min_height": null,
            "min_width": null,
            "object_fit": null,
            "object_position": null,
            "order": null,
            "overflow": null,
            "overflow_x": null,
            "overflow_y": null,
            "padding": null,
            "right": null,
            "top": null,
            "visibility": null,
            "width": null
          }
        },
        "828a700551fc4685afa56d5e8fdbd5b0": {
          "model_module": "@jupyter-widgets/base",
          "model_name": "LayoutModel",
          "model_module_version": "1.2.0",
          "state": {
            "_model_module": "@jupyter-widgets/base",
            "_model_module_version": "1.2.0",
            "_model_name": "LayoutModel",
            "_view_count": null,
            "_view_module": "@jupyter-widgets/base",
            "_view_module_version": "1.2.0",
            "_view_name": "LayoutView",
            "align_content": null,
            "align_items": null,
            "align_self": null,
            "border": null,
            "bottom": null,
            "display": null,
            "flex": null,
            "flex_flow": null,
            "grid_area": null,
            "grid_auto_columns": null,
            "grid_auto_flow": null,
            "grid_auto_rows": null,
            "grid_column": null,
            "grid_gap": null,
            "grid_row": null,
            "grid_template_areas": null,
            "grid_template_columns": null,
            "grid_template_rows": null,
            "height": null,
            "justify_content": null,
            "justify_items": null,
            "left": null,
            "margin": null,
            "max_height": null,
            "max_width": null,
            "min_height": null,
            "min_width": null,
            "object_fit": null,
            "object_position": null,
            "order": null,
            "overflow": null,
            "overflow_x": null,
            "overflow_y": null,
            "padding": null,
            "right": null,
            "top": null,
            "visibility": null,
            "width": null
          }
        },
        "ceb42db10dc74a7496289ccbad04c342": {
          "model_module": "@jupyter-widgets/controls",
          "model_name": "DescriptionStyleModel",
          "model_module_version": "1.5.0",
          "state": {
            "_model_module": "@jupyter-widgets/controls",
            "_model_module_version": "1.5.0",
            "_model_name": "DescriptionStyleModel",
            "_view_count": null,
            "_view_module": "@jupyter-widgets/base",
            "_view_module_version": "1.2.0",
            "_view_name": "StyleView",
            "description_width": ""
          }
        },
        "4157948a70c3420eb60e6c61ef1588a3": {
          "model_module": "@jupyter-widgets/base",
          "model_name": "LayoutModel",
          "model_module_version": "1.2.0",
          "state": {
            "_model_module": "@jupyter-widgets/base",
            "_model_module_version": "1.2.0",
            "_model_name": "LayoutModel",
            "_view_count": null,
            "_view_module": "@jupyter-widgets/base",
            "_view_module_version": "1.2.0",
            "_view_name": "LayoutView",
            "align_content": null,
            "align_items": null,
            "align_self": null,
            "border": null,
            "bottom": null,
            "display": null,
            "flex": null,
            "flex_flow": null,
            "grid_area": null,
            "grid_auto_columns": null,
            "grid_auto_flow": null,
            "grid_auto_rows": null,
            "grid_column": null,
            "grid_gap": null,
            "grid_row": null,
            "grid_template_areas": null,
            "grid_template_columns": null,
            "grid_template_rows": null,
            "height": null,
            "justify_content": null,
            "justify_items": null,
            "left": null,
            "margin": null,
            "max_height": null,
            "max_width": null,
            "min_height": null,
            "min_width": null,
            "object_fit": null,
            "object_position": null,
            "order": null,
            "overflow": null,
            "overflow_x": null,
            "overflow_y": null,
            "padding": null,
            "right": null,
            "top": null,
            "visibility": null,
            "width": null
          }
        },
        "1d3043b97fe64ec4b18e8c0b5152747c": {
          "model_module": "@jupyter-widgets/controls",
          "model_name": "ProgressStyleModel",
          "model_module_version": "1.5.0",
          "state": {
            "_model_module": "@jupyter-widgets/controls",
            "_model_module_version": "1.5.0",
            "_model_name": "ProgressStyleModel",
            "_view_count": null,
            "_view_module": "@jupyter-widgets/base",
            "_view_module_version": "1.2.0",
            "_view_name": "StyleView",
            "bar_color": null,
            "description_width": ""
          }
        },
        "062f16e038924feaa23e93a282eb5932": {
          "model_module": "@jupyter-widgets/base",
          "model_name": "LayoutModel",
          "model_module_version": "1.2.0",
          "state": {
            "_model_module": "@jupyter-widgets/base",
            "_model_module_version": "1.2.0",
            "_model_name": "LayoutModel",
            "_view_count": null,
            "_view_module": "@jupyter-widgets/base",
            "_view_module_version": "1.2.0",
            "_view_name": "LayoutView",
            "align_content": null,
            "align_items": null,
            "align_self": null,
            "border": null,
            "bottom": null,
            "display": null,
            "flex": null,
            "flex_flow": null,
            "grid_area": null,
            "grid_auto_columns": null,
            "grid_auto_flow": null,
            "grid_auto_rows": null,
            "grid_column": null,
            "grid_gap": null,
            "grid_row": null,
            "grid_template_areas": null,
            "grid_template_columns": null,
            "grid_template_rows": null,
            "height": null,
            "justify_content": null,
            "justify_items": null,
            "left": null,
            "margin": null,
            "max_height": null,
            "max_width": null,
            "min_height": null,
            "min_width": null,
            "object_fit": null,
            "object_position": null,
            "order": null,
            "overflow": null,
            "overflow_x": null,
            "overflow_y": null,
            "padding": null,
            "right": null,
            "top": null,
            "visibility": null,
            "width": null
          }
        },
        "97500934053f491d8aa5190ec88fcb1c": {
          "model_module": "@jupyter-widgets/controls",
          "model_name": "DescriptionStyleModel",
          "model_module_version": "1.5.0",
          "state": {
            "_model_module": "@jupyter-widgets/controls",
            "_model_module_version": "1.5.0",
            "_model_name": "DescriptionStyleModel",
            "_view_count": null,
            "_view_module": "@jupyter-widgets/base",
            "_view_module_version": "1.2.0",
            "_view_name": "StyleView",
            "description_width": ""
          }
        }
      }
    },
    "accelerator": "GPU",
    "gpuClass": "standard"
  },
  "nbformat": 4,
  "nbformat_minor": 0
}